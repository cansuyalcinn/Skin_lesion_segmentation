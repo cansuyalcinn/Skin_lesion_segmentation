{
 "cells": [
  {
   "cell_type": "code",
   "execution_count": 1,
   "metadata": {},
   "outputs": [
    {
     "name": "stderr",
     "output_type": "stream",
     "text": [
      "Intel(R) Extension for Scikit-learn* enabled (https://github.com/intel/scikit-learn-intelex)\n"
     ]
    }
   ],
   "source": [
    "from sklearnex import patch_sklearn\n",
    "patch_sklearn()"
   ]
  },
  {
   "cell_type": "code",
   "execution_count": 2,
   "metadata": {},
   "outputs": [],
   "source": [
    "import os\n",
    "import sys; sys.path.insert(0, os.path.abspath(\"../\"))\n",
    "import cv2\n",
    "import numpy as np\n",
    "import pandas as pd\n",
    "import matplotlib.pyplot as plt\n",
    "from tqdm import tqdm\n",
    "from dataset.dataset import SkinLesion_Dataset, SegExamples\n",
    "from pipeline.preprocessing import SkinLesionPreprocessing\n",
    "from pipeline.feature_extraction import FeaturesExtraction\n",
    "\n",
    "from sklearn.model_selection import GridSearchCV, StratifiedKFold\n",
    "from sklearn.ensemble import RandomForestClassifier\n",
    "from sklearn import svm\n",
    "import pickle\n",
    "from sklearn import preprocessing\n",
    "from sklearn.preprocessing import StandardScaler\n",
    "from sklearn.pipeline import Pipeline\n",
    "from sklearn.metrics import f1_score, accuracy_score, confusion_matrix, ConfusionMatrixDisplay, balanced_accuracy_score, roc_auc_score, cohen_kappa_score, make_scorer\n",
    "from sklearn.utils import resample\n",
    "from imblearn.over_sampling import RandomOverSampler, SMOTE, ADASYN\n",
    "from imblearn.under_sampling import RandomUnderSampler\n",
    "from imblearn.pipeline import Pipeline as impipe\n"
   ]
  },
  {
   "cell_type": "markdown",
   "metadata": {},
   "source": [
    "# Global features"
   ]
  },
  {
   "cell_type": "code",
   "execution_count": 14,
   "metadata": {},
   "outputs": [
    {
     "name": "stdout",
     "output_type": "stream",
     "text": [
      "train shape: (5082, 144), val shape: (1270, 144)\n"
     ]
    }
   ],
   "source": [
    "train_df = pd.read_feather(\"../data/three_class/train_all_feat.f\")\n",
    "val_df = pd.read_feather(\"../data/three_class/val_all_feat.f\")\n",
    "train_shape = train_df.shape\n",
    "val_shape = val_df.shape\n",
    "print(f'train shape: {train_shape}, val shape: {val_shape}')"
   ]
  },
  {
   "cell_type": "code",
   "execution_count": 15,
   "metadata": {},
   "outputs": [
    {
     "name": "stdout",
     "output_type": "stream",
     "text": [
      "(array(['bcc', 'mel', 'scc'], dtype=object), array([1993, 2713,  376]))\n",
      "(array(['bcc', 'mel', 'scc'], dtype=object), array([498, 678,  94]))\n"
     ]
    }
   ],
   "source": [
    "print(np.unique(train_df.label.values, return_counts=True))\n",
    "print(np.unique(val_df.label.values, return_counts= True))"
   ]
  },
  {
   "cell_type": "code",
   "execution_count": 5,
   "metadata": {},
   "outputs": [
    {
     "name": "stdout",
     "output_type": "stream",
     "text": [
      "X_train: (5082, 143), y_train: (5082,), X_test: (1270, 143), y_test: (1270,)\n"
     ]
    }
   ],
   "source": [
    "train_df.replace({'bcc': 0, 'mel': 1, 'scc': 2}, inplace=True)\n",
    "val_df.replace({'bcc': 0, 'mel': 1, 'scc': 2}, inplace=True)\n",
    "\n",
    "df_train = train_df.iloc[:train_shape[0], :].sample(frac=1, random_state=42)\n",
    "df_val = val_df.iloc[:val_shape[0], :].sample(frac=1, random_state=42)\n",
    "# df_val\n",
    "\n",
    "X_train, y_train = df_train.iloc[:, :(train_shape[1]-1)].to_numpy(dtype=np.float32), df_train.iloc[:, (train_shape[1]-1)].to_numpy()\n",
    "X_test, y_test = df_val.iloc[:, :(val_shape[1]-1)].to_numpy(dtype= np.float32), df_val.iloc[:, (val_shape[1]-1)].to_numpy()\n",
    "\n",
    "print(f'X_train: {X_train.shape}, y_train: {y_train.shape}, X_test: {X_test.shape}, y_test: {y_test.shape}')"
   ]
  },
  {
   "cell_type": "code",
   "execution_count": 8,
   "metadata": {},
   "outputs": [
    {
     "name": "stderr",
     "output_type": "stream",
     "text": [
      "INFO:root:sklearn.svm.SVC.fit: running accelerated version on CPU\n",
      "INFO:root:sklearn.svm.SVC.predict: running accelerated version on CPU\n"
     ]
    },
    {
     "name": "stdout",
     "output_type": "stream",
     "text": [
      "Fitting 10 folds for each of 6 candidates, totalling 60 fits\n"
     ]
    },
    {
     "name": "stderr",
     "output_type": "stream",
     "text": [
      "INFO:root:sklearn.svm.SVC.fit: running accelerated version on CPU\n",
      "INFO:root:sklearn.svm.SVC.predict: running accelerated version on CPU\n",
      "INFO:root:sklearn.svm.SVC.fit: running accelerated version on CPU\n",
      "INFO:root:sklearn.svm.SVC.predict: running accelerated version on CPU\n",
      "INFO:root:sklearn.svm.SVC.fit: running accelerated version on CPU\n",
      "INFO:root:sklearn.svm.SVC.predict: running accelerated version on CPU\n",
      "INFO:root:sklearn.svm.SVC.fit: running accelerated version on CPU\n",
      "INFO:root:sklearn.svm.SVC.predict: running accelerated version on CPU\n",
      "INFO:root:sklearn.svm.SVC.fit: running accelerated version on CPU\n",
      "INFO:root:sklearn.svm.SVC.predict: running accelerated version on CPU\n",
      "INFO:root:sklearn.svm.SVC.fit: running accelerated version on CPU\n",
      "INFO:root:sklearn.svm.SVC.predict: running accelerated version on CPU\n",
      "INFO:root:sklearn.svm.SVC.fit: running accelerated version on CPU\n",
      "INFO:root:sklearn.svm.SVC.predict: running accelerated version on CPU\n",
      "INFO:root:sklearn.svm.SVC.fit: running accelerated version on CPU\n",
      "INFO:root:sklearn.svm.SVC.predict: running accelerated version on CPU\n",
      "INFO:root:sklearn.svm.SVC.fit: running accelerated version on CPU\n",
      "INFO:root:sklearn.svm.SVC.predict: running accelerated version on CPU\n",
      "INFO:root:sklearn.svm.SVC.fit: running accelerated version on CPU\n",
      "INFO:root:sklearn.svm.SVC.predict: running accelerated version on CPU\n",
      "INFO:root:sklearn.svm.SVC.fit: running accelerated version on CPU\n",
      "INFO:root:sklearn.svm.SVC.predict: running accelerated version on CPU\n",
      "INFO:root:sklearn.svm.SVC.fit: running accelerated version on CPU\n",
      "INFO:root:sklearn.svm.SVC.predict: running accelerated version on CPU\n",
      "INFO:root:sklearn.svm.SVC.fit: running accelerated version on CPU\n",
      "INFO:root:sklearn.svm.SVC.predict: running accelerated version on CPU\n",
      "INFO:root:sklearn.svm.SVC.fit: running accelerated version on CPU\n",
      "INFO:root:sklearn.svm.SVC.predict: running accelerated version on CPU\n",
      "INFO:root:sklearn.svm.SVC.fit: running accelerated version on CPU\n",
      "INFO:root:sklearn.svm.SVC.predict: running accelerated version on CPU\n",
      "INFO:root:sklearn.svm.SVC.fit: running accelerated version on CPU\n",
      "INFO:root:sklearn.svm.SVC.predict: running accelerated version on CPU\n",
      "INFO:root:sklearn.svm.SVC.fit: running accelerated version on CPU\n",
      "INFO:root:sklearn.svm.SVC.predict: running accelerated version on CPU\n",
      "INFO:root:sklearn.svm.SVC.fit: running accelerated version on CPU\n",
      "INFO:root:sklearn.svm.SVC.predict: running accelerated version on CPU\n",
      "INFO:root:sklearn.svm.SVC.fit: running accelerated version on CPU\n",
      "INFO:root:sklearn.svm.SVC.predict: running accelerated version on CPU\n",
      "INFO:root:sklearn.svm.SVC.fit: running accelerated version on CPU\n",
      "INFO:root:sklearn.svm.SVC.predict: running accelerated version on CPU\n",
      "INFO:root:sklearn.svm.SVC.fit: running accelerated version on CPU\n",
      "INFO:root:sklearn.svm.SVC.predict: running accelerated version on CPU\n",
      "INFO:root:sklearn.svm.SVC.fit: running accelerated version on CPU\n",
      "INFO:root:sklearn.svm.SVC.predict: running accelerated version on CPU\n",
      "INFO:root:sklearn.svm.SVC.fit: running accelerated version on CPU\n",
      "INFO:root:sklearn.svm.SVC.predict: running accelerated version on CPU\n",
      "INFO:root:sklearn.svm.SVC.fit: running accelerated version on CPU\n",
      "INFO:root:sklearn.svm.SVC.predict: running accelerated version on CPU\n",
      "INFO:root:sklearn.svm.SVC.fit: running accelerated version on CPU\n",
      "INFO:root:sklearn.svm.SVC.predict: running accelerated version on CPU\n",
      "INFO:root:sklearn.svm.SVC.fit: running accelerated version on CPU\n",
      "INFO:root:sklearn.svm.SVC.predict: running accelerated version on CPU\n",
      "INFO:root:sklearn.svm.SVC.fit: running accelerated version on CPU\n",
      "INFO:root:sklearn.svm.SVC.predict: running accelerated version on CPU\n",
      "INFO:root:sklearn.svm.SVC.fit: running accelerated version on CPU\n",
      "INFO:root:sklearn.svm.SVC.predict: running accelerated version on CPU\n",
      "INFO:root:sklearn.svm.SVC.fit: running accelerated version on CPU\n",
      "INFO:root:sklearn.svm.SVC.predict: running accelerated version on CPU\n",
      "INFO:root:sklearn.svm.SVC.fit: running accelerated version on CPU\n",
      "INFO:root:sklearn.svm.SVC.predict: running accelerated version on CPU\n",
      "INFO:root:sklearn.svm.SVC.fit: running accelerated version on CPU\n",
      "INFO:root:sklearn.svm.SVC.predict: running accelerated version on CPU\n",
      "INFO:root:sklearn.svm.SVC.fit: running accelerated version on CPU\n",
      "INFO:root:sklearn.svm.SVC.predict: running accelerated version on CPU\n",
      "INFO:root:sklearn.svm.SVC.fit: running accelerated version on CPU\n",
      "INFO:root:sklearn.svm.SVC.predict: running accelerated version on CPU\n",
      "INFO:root:sklearn.svm.SVC.fit: running accelerated version on CPU\n",
      "INFO:root:sklearn.svm.SVC.predict: running accelerated version on CPU\n",
      "INFO:root:sklearn.svm.SVC.fit: running accelerated version on CPU\n",
      "INFO:root:sklearn.svm.SVC.predict: running accelerated version on CPU\n",
      "INFO:root:sklearn.svm.SVC.fit: running accelerated version on CPU\n",
      "INFO:root:sklearn.svm.SVC.predict: running accelerated version on CPU\n",
      "INFO:root:sklearn.svm.SVC.fit: running accelerated version on CPU\n",
      "INFO:root:sklearn.svm.SVC.predict: running accelerated version on CPU\n",
      "INFO:root:sklearn.svm.SVC.fit: running accelerated version on CPU\n",
      "INFO:root:sklearn.svm.SVC.predict: running accelerated version on CPU\n",
      "INFO:root:sklearn.svm.SVC.fit: running accelerated version on CPU\n",
      "INFO:root:sklearn.svm.SVC.predict: running accelerated version on CPU\n",
      "INFO:root:sklearn.svm.SVC.fit: running accelerated version on CPU\n",
      "INFO:root:sklearn.svm.SVC.predict: running accelerated version on CPU\n",
      "INFO:root:sklearn.svm.SVC.fit: running accelerated version on CPU\n",
      "INFO:root:sklearn.svm.SVC.predict: running accelerated version on CPU\n",
      "INFO:root:sklearn.svm.SVC.fit: running accelerated version on CPU\n",
      "INFO:root:sklearn.svm.SVC.predict: running accelerated version on CPU\n",
      "INFO:root:sklearn.svm.SVC.fit: running accelerated version on CPU\n",
      "INFO:root:sklearn.svm.SVC.predict: running accelerated version on CPU\n",
      "INFO:root:sklearn.svm.SVC.fit: running accelerated version on CPU\n",
      "INFO:root:sklearn.svm.SVC.predict: running accelerated version on CPU\n",
      "INFO:root:sklearn.svm.SVC.fit: running accelerated version on CPU\n",
      "INFO:root:sklearn.svm.SVC.predict: running accelerated version on CPU\n",
      "INFO:root:sklearn.svm.SVC.fit: running accelerated version on CPU\n",
      "INFO:root:sklearn.svm.SVC.predict: running accelerated version on CPU\n",
      "INFO:root:sklearn.svm.SVC.fit: running accelerated version on CPU\n",
      "INFO:root:sklearn.svm.SVC.predict: running accelerated version on CPU\n",
      "INFO:root:sklearn.svm.SVC.fit: running accelerated version on CPU\n",
      "INFO:root:sklearn.svm.SVC.predict: running accelerated version on CPU\n",
      "INFO:root:sklearn.svm.SVC.fit: running accelerated version on CPU\n",
      "INFO:root:sklearn.svm.SVC.predict: running accelerated version on CPU\n",
      "INFO:root:sklearn.svm.SVC.fit: running accelerated version on CPU\n",
      "INFO:root:sklearn.svm.SVC.predict: running accelerated version on CPU\n",
      "INFO:root:sklearn.svm.SVC.fit: running accelerated version on CPU\n",
      "INFO:root:sklearn.svm.SVC.predict: running accelerated version on CPU\n",
      "INFO:root:sklearn.svm.SVC.fit: running accelerated version on CPU\n",
      "INFO:root:sklearn.svm.SVC.predict: running accelerated version on CPU\n",
      "INFO:root:sklearn.svm.SVC.fit: running accelerated version on CPU\n",
      "INFO:root:sklearn.svm.SVC.predict: running accelerated version on CPU\n",
      "INFO:root:sklearn.svm.SVC.fit: running accelerated version on CPU\n",
      "INFO:root:sklearn.svm.SVC.predict: running accelerated version on CPU\n",
      "INFO:root:sklearn.svm.SVC.fit: running accelerated version on CPU\n",
      "INFO:root:sklearn.svm.SVC.predict: running accelerated version on CPU\n",
      "INFO:root:sklearn.svm.SVC.fit: running accelerated version on CPU\n",
      "INFO:root:sklearn.svm.SVC.predict: running accelerated version on CPU\n",
      "INFO:root:sklearn.svm.SVC.fit: running accelerated version on CPU\n",
      "INFO:root:sklearn.svm.SVC.predict: running accelerated version on CPU\n",
      "INFO:root:sklearn.svm.SVC.fit: running accelerated version on CPU\n",
      "INFO:root:sklearn.svm.SVC.predict: running accelerated version on CPU\n",
      "INFO:root:sklearn.svm.SVC.fit: running accelerated version on CPU\n",
      "INFO:root:sklearn.svm.SVC.predict: running accelerated version on CPU\n",
      "INFO:root:sklearn.svm.SVC.fit: running accelerated version on CPU\n",
      "INFO:root:sklearn.svm.SVC.predict: running accelerated version on CPU\n",
      "INFO:root:sklearn.svm.SVC.predict: running accelerated version on CPU\n"
     ]
    },
    {
     "name": "stdout",
     "output_type": "stream",
     "text": [
      "TRAIN- The best parameters are {'classifier__C': 630.957344480193, 'classifier__gamma': 0.001, 'classifier__kernel': 'rbf'} with an f1-score of 0.8356\n",
      "F1 Score of train data: 0.9326 Acc: 0.9340810704447068\n",
      "F1 Score of test data: 0.8361 Acc: 0.8393700787401575\n"
     ]
    }
   ],
   "source": [
    "\n",
    "classifier = svm.SVC()\n",
    "C_range = np.logspace(-2, 10, 6)\n",
    "gamma_range = np.logspace(-9, 3, 5)\n",
    "# param_grid = dict(gamma=gamma_range, C=C_range)\n",
    "param_grid = {'classifier__C': C_range,\n",
    "                'classifier__gamma': [0.001],\n",
    "              'classifier__kernel': ['rbf']}\n",
    "\n",
    "cv = StratifiedKFold(n_splits=10, shuffle=True, random_state=42)\n",
    "\n",
    "pipe = Pipeline([('scaler', StandardScaler()),('classifier', classifier)])\n",
    "grid_search = GridSearchCV(pipe, param_grid, cv=cv, refit = True, verbose = 1, scoring='f1_weighted')\n",
    "grid_search.fit(X_train, y_train)\n",
    "\n",
    "print(\"TRAIN- The best parameters are %s with an f1-score of %0.4f\"%(grid_search.best_params_, grid_search.best_score_))\n",
    "y_train_predicted = grid_search.predict(X_train)\n",
    "y_test_predicted =  grid_search.predict(X_test)\n",
    "print('F1 Score of train data: %0.4f' %f1_score(y_train,y_train_predicted,average='weighted'), f'Acc: {accuracy_score(y_train, y_train_predicted)}')\n",
    "print('F1 Score of test data: %0.4f' %f1_score(y_test,y_test_predicted,average='weighted'), f'Acc: {accuracy_score(y_test, y_test_predicted)}')"
   ]
  },
  {
   "cell_type": "code",
   "execution_count": 9,
   "metadata": {},
   "outputs": [
    {
     "name": "stderr",
     "output_type": "stream",
     "text": [
      "INFO:root:sklearn.svm.SVC.predict: running accelerated version on CPU\n"
     ]
    },
    {
     "data": {
      "image/png": "[encoded data removed]",
      "text/plain": [
       "<Figure size 640x480 with 2 Axes>"
      ]
     },
     "metadata": {},
     "output_type": "display_data"
    }
   ],
   "source": [
    "# confusion matrix\n",
    "# cm = confusion_matrix(y_test, y_test_predicted)\n",
    "\n",
    "# {'bcc': 0 (498), 'mel': 1 (678), 'scc': 2 (94)}\n",
    "ConfusionMatrixDisplay.from_estimator(grid_search, X_test, y_test, display_labels=['bcc', 'mel', 'scc'])\n",
    "plt.show()"
   ]
  },
  {
   "cell_type": "markdown",
   "metadata": {},
   "source": [
    "# With local color features"
   ]
  },
  {
   "cell_type": "code",
   "execution_count": 3,
   "metadata": {},
   "outputs": [
    {
     "name": "stdout",
     "output_type": "stream",
     "text": [
      "train shape: (5082, 144), val shape: (1270, 144)\n",
      "train color: (5082, 61), val color: (1270, 61)\n"
     ]
    }
   ],
   "source": [
    "train_df_1 = pd.read_feather(\"../data/three_class/train_all_feat.f\")\n",
    "train_df_2 = pd.read_feather(\"../data/three_class/train_color_local_feat.f\")\n",
    "val_df_1 = pd.read_feather(\"../data/three_class/val_all_feat.f\")\n",
    "val_df_2 = pd.read_feather(\"../data/three_class/val_color_local_feat.f\")\n",
    "\n",
    "\n",
    "print(f'train shape: {train_df_1.shape}, val shape: {val_df_1.shape}')\n",
    "print(f'train color: {train_df_2.shape}, val color: {val_df_2.shape}')"
   ]
  },
  {
   "cell_type": "code",
   "execution_count": 4,
   "metadata": {},
   "outputs": [
    {
     "name": "stdout",
     "output_type": "stream",
     "text": [
      "train shape: (5082, 204), val shape: (1270, 204)\n",
      "mel    2713\n",
      "bcc    1993\n",
      "scc     376\n",
      "Name: label, dtype: int64\n",
      "mel    678\n",
      "bcc    498\n",
      "scc     94\n",
      "Name: label, dtype: int64\n"
     ]
    }
   ],
   "source": [
    "train_df = pd.concat([train_df_2.iloc[:,:60], train_df_1], axis=1)\n",
    "val_df = pd.concat([val_df_2.iloc[:, :60], val_df_1], axis=1)\n",
    "train_shape = train_df.shape\n",
    "val_shape = val_df.shape\n",
    "\n",
    "print(f'train shape: {train_shape}, val shape: {val_shape}')\n",
    "print(train_df.label.value_counts())\n",
    "print(val_df.label.value_counts())"
   ]
  },
  {
   "cell_type": "markdown",
   "metadata": {},
   "source": [
    "## Resampling"
   ]
  },
  {
   "cell_type": "markdown",
   "metadata": {},
   "source": [
    "### Up-sampling minority class"
   ]
  },
  {
   "cell_type": "code",
   "execution_count": 8,
   "metadata": {},
   "outputs": [
    {
     "name": "stdout",
     "output_type": "stream",
     "text": [
      "mel    2713\n",
      "bcc    1993\n",
      "scc    1993\n",
      "Name: label, dtype: int64\n",
      "train shape: (6699, 204) val shape: (1270, 204)\n"
     ]
    }
   ],
   "source": [
    "train_bcc = train_df.loc[train_df.label == 'bcc']\n",
    "train_mel = train_df.loc[train_df.label == 'mel']\n",
    "train_scc = train_df.loc[train_df.label == 'scc']\n",
    "train_scc_resamp = resample(train_scc, replace=True, n_samples=1993, random_state=123) \n",
    "train_df = pd.concat([train_bcc, train_mel, train_scc_resamp])\n",
    "\n",
    "train_shape = train_df.shape\n",
    "val_shape = val_df.shape\n",
    "print(train_df.label.value_counts())\n",
    "print(f'train shape: {train_shape}', f'val shape: {val_shape}')"
   ]
  },
  {
   "cell_type": "markdown",
   "metadata": {},
   "source": [
    "X_train: (6699, 203), y_train: (6699,), X_test: (1270, 203), y_test: (1270,)"
   ]
  },
  {
   "cell_type": "markdown",
   "metadata": {},
   "source": [
    "### Down-sampling mayority class"
   ]
  },
  {
   "cell_type": "code",
   "execution_count": 7,
   "metadata": {},
   "outputs": [
    {
     "name": "stdout",
     "output_type": "stream",
     "text": [
      "bcc    1993\n",
      "mel    1993\n",
      "scc     376\n",
      "Name: label, dtype: int64\n",
      "train shape: (4362, 204) val shape: (1270, 204)\n"
     ]
    }
   ],
   "source": [
    "train_bcc = train_df.loc[train_df.label == 'bcc']\n",
    "train_mel = train_df.loc[train_df.label == 'mel']\n",
    "train_scc = train_df.loc[train_df.label == 'scc']\n",
    "train_mel_resamp = resample(train_mel, replace=False, n_samples=1993, random_state=123) \n",
    "train_df = pd.concat([train_bcc, train_mel_resamp, train_scc])\n",
    "\n",
    "train_shape = train_df.shape\n",
    "val_shape = val_df.shape\n",
    "print(train_df.label.value_counts())\n",
    "print(f'train shape: {train_shape}', f'val shape: {val_shape}')"
   ]
  },
  {
   "cell_type": "markdown",
   "metadata": {},
   "source": [
    "### Up-sample and Down-sample"
   ]
  },
  {
   "cell_type": "code",
   "execution_count": 5,
   "metadata": {},
   "outputs": [
    {
     "name": "stdout",
     "output_type": "stream",
     "text": [
      "bcc    1993\n",
      "mel    1993\n",
      "scc    1993\n",
      "Name: label, dtype: int64\n",
      "train shape: (5979, 204) val shape: (1270, 204)\n"
     ]
    }
   ],
   "source": [
    "train_bcc = train_df.loc[train_df.label == 'bcc']\n",
    "train_mel = train_df.loc[train_df.label == 'mel']\n",
    "train_scc = train_df.loc[train_df.label == 'scc']\n",
    "\n",
    "train_mel_resamp = resample(train_mel, replace=False, n_samples=1993, random_state=123) \n",
    "train_scc_resamp = resample(train_scc, replace=True, n_samples=1993, random_state=123) \n",
    "train_df = pd.concat([train_bcc, train_mel_resamp, train_scc_resamp])\n",
    "\n",
    "train_shape = train_df.shape\n",
    "val_shape = val_df.shape\n",
    "print(train_df.label.value_counts())\n",
    "print(f'train shape: {train_shape}', f'val shape: {val_shape}')\n"
   ]
  },
  {
   "cell_type": "code",
   "execution_count": 13,
   "metadata": {},
   "outputs": [
    {
     "name": "stdout",
     "output_type": "stream",
     "text": [
      "X_train: (5082, 203), y_train: (5082,), X_test: (1270, 203), y_test: (1270,)\n"
     ]
    }
   ],
   "source": [
    "train_df.replace({'bcc': 0, 'mel': 1, 'scc': 2}, inplace=True)\n",
    "val_df.replace({'bcc': 0, 'mel': 1, 'scc': 2}, inplace=True)\n",
    "\n",
    "df_train = train_df.iloc[:train_shape[0], :].sample(frac=1, random_state=42)\n",
    "df_val = val_df.iloc[:val_shape[0], :].sample(frac=1, random_state=42)\n",
    "# df_val\n",
    "\n",
    "X_train, y_train = df_train.iloc[:, :(train_shape[1]-1)].to_numpy(dtype=np.float32), df_train.iloc[:, (train_shape[1]-1)].to_numpy()\n",
    "X_test, y_test = df_val.iloc[:, :(val_shape[1]-1)].to_numpy(dtype= np.float32), df_val.iloc[:, (val_shape[1]-1)].to_numpy()\n",
    "\n",
    "print(f'X_train: {X_train.shape}, y_train: {y_train.shape}, X_test: {X_test.shape}, y_test: {y_test.shape}')"
   ]
  },
  {
   "cell_type": "code",
   "execution_count": 8,
   "metadata": {},
   "outputs": [
    {
     "data": {
      "text/plain": [
       "array([0, 1, 2])"
      ]
     },
     "execution_count": 8,
     "metadata": {},
     "output_type": "execute_result"
    }
   ],
   "source": [
    "np.unique(y_test)"
   ]
  },
  {
   "cell_type": "markdown",
   "metadata": {},
   "source": [
    "### Other sampling techniques"
   ]
  },
  {
   "cell_type": "code",
   "execution_count": 14,
   "metadata": {},
   "outputs": [
    {
     "name": "stderr",
     "output_type": "stream",
     "text": [
      "INFO:root:sklearn.neighbors.NearestNeighbors.fit: running accelerated version on CPU\n",
      "INFO:root:sklearn.neighbors.NearestNeighbors.kneighbors: running accelerated version on CPU\n",
      "INFO:root:sklearn.neighbors.NearestNeighbors.fit: running accelerated version on CPU\n",
      "INFO:root:sklearn.neighbors.NearestNeighbors.kneighbors: running accelerated version on CPU\n"
     ]
    },
    {
     "name": "stdout",
     "output_type": "stream",
     "text": [
      "(array([0, 1, 2]), array([1200, 1000,  685]))\n"
     ]
    }
   ],
   "source": [
    "# # std SMOTE\n",
    "# X_train, y_train = SMOTE().fit_resample(X_train, y_train)\n",
    "# # (array([0, 1, 2]), array([2713, 2713, 2713]))\n",
    "\n",
    "# # Sampling strategy\n",
    "# over = SMOTE(sampling_strategy={2: 500})\n",
    "# under = RandomUnderSampler(sampling_strategy={0: 1200, 1: 1000})\n",
    "# steps = [('o', over), ('u', under)]\n",
    "# pipeline = impipe(steps=steps)\n",
    "# # transform the dataset\n",
    "# X_train, y_train = pipeline.fit_resample(X_train, y_train)\n",
    "\n",
    "# print(np.unique(y_train, return_counts=True))\n",
    "\n",
    "# ADASYN\n",
    "# Sampling strategy\n",
    "over = ADASYN(sampling_strategy={2: 600})\n",
    "under = RandomUnderSampler(sampling_strategy={0: 1200, 1: 1000})\n",
    "steps = [('o', over), ('u', under)]\n",
    "pipe = impipe(steps=steps)\n",
    "# transform the dataset\n",
    "X_train, y_train = pipe.fit_resample(X_train, y_train)\n",
    "\n",
    "print(np.unique(y_train, return_counts=True))"
   ]
  },
  {
   "cell_type": "code",
   "execution_count": 5,
   "metadata": {},
   "outputs": [
    {
     "name": "stdout",
     "output_type": "stream",
     "text": [
      "X_train: (5082, 203), y_train: (5082,), X_test: (1270, 203), y_test: (1270,)\n"
     ]
    }
   ],
   "source": [
    "train_df.replace({'bcc': 0, 'mel': 1, 'scc': 2}, inplace=True)\n",
    "val_df.replace({'bcc': 0, 'mel': 1, 'scc': 2}, inplace=True)\n",
    "\n",
    "df_train = train_df.iloc[:train_shape[0], :].sample(frac=1, random_state=42)\n",
    "df_val = val_df.iloc[:val_shape[0], :].sample(frac=1, random_state=42)\n",
    "# df_val\n",
    "\n",
    "X_train, y_train = df_train.iloc[:, :(train_shape[1]-1)].to_numpy(dtype=np.float32), df_train.iloc[:, (train_shape[1]-1)].to_numpy()\n",
    "X_test, y_test = df_val.iloc[:, :(val_shape[1]-1)].to_numpy(dtype= np.float32), df_val.iloc[:, (val_shape[1]-1)].to_numpy()\n",
    "\n",
    "print(f'X_train: {X_train.shape}, y_train: {y_train.shape}, X_test: {X_test.shape}, y_test: {y_test.shape}')\n",
    "print(f'final class balance [TRAIN]: {np.unique(y_train, return_counts=True)}', f'[VAL]: {np.unique(y_test, return_counts=True)}')"
   ]
  },
  {
   "cell_type": "code",
   "execution_count": 6,
   "metadata": {},
   "outputs": [
    {
     "name": "stdout",
     "output_type": "stream",
     "text": [
      "final class balance [TRAIN]: (array([0, 1, 2]), array([1993, 2713,  376])) [VAL]: (array([0, 1, 2]), array([498, 678,  94]))\n"
     ]
    }
   ],
   "source": []
  },
  {
   "cell_type": "code",
   "execution_count": 7,
   "metadata": {},
   "outputs": [],
   "source": [
    "# Using kappa scoring function\n",
    "# def kappa_scoring(y_true, y_pred):\n",
    "#     return cohen_kappa_score(y_true, y_pred)\n",
    "\n",
    "kappa_scoring = make_scorer(cohen_kappa_score)"
   ]
  },
  {
   "cell_type": "markdown",
   "metadata": {},
   "source": [
    "### Classification - SVC"
   ]
  },
  {
   "cell_type": "code",
   "execution_count": 16,
   "metadata": {},
   "outputs": [
    {
     "name": "stderr",
     "output_type": "stream",
     "text": [
      "INFO:root:sklearn.svm.SVC.fit: running accelerated version on CPU\n"
     ]
    },
    {
     "name": "stdout",
     "output_type": "stream",
     "text": [
      "Fitting 10 folds for each of 9 candidates, totalling 90 fits\n"
     ]
    },
    {
     "name": "stderr",
     "output_type": "stream",
     "text": [
      "INFO:root:sklearn.svm.SVC.fit: running accelerated version on CPU\n",
      "INFO:root:sklearn.svm.SVC.predict: running accelerated version on CPU\n",
      "INFO:root:sklearn.svm.SVC.fit: running accelerated version on CPU\n",
      "INFO:root:sklearn.svm.SVC.fit: running accelerated version on CPU\n",
      "INFO:root:sklearn.svm.SVC.predict: running accelerated version on CPU\n",
      "INFO:root:sklearn.svm.SVC.fit: running accelerated version on CPU\n",
      "INFO:root:sklearn.svm.SVC.fit: running accelerated version on CPU\n",
      "INFO:root:sklearn.svm.SVC.predict: running accelerated version on CPU\n",
      "INFO:root:sklearn.svm.SVC.fit: running accelerated version on CPU\n",
      "INFO:root:sklearn.svm.SVC.fit: running accelerated version on CPU\n",
      "INFO:root:sklearn.svm.SVC.predict: running accelerated version on CPU\n",
      "INFO:root:sklearn.svm.SVC.fit: running accelerated version on CPU\n",
      "INFO:root:sklearn.svm.SVC.fit: running accelerated version on CPU\n",
      "INFO:root:sklearn.svm.SVC.predict: running accelerated version on CPU\n",
      "INFO:root:sklearn.svm.SVC.fit: running accelerated version on CPU\n",
      "INFO:root:sklearn.svm.SVC.fit: running accelerated version on CPU\n",
      "INFO:root:sklearn.svm.SVC.predict: running accelerated version on CPU\n",
      "INFO:root:sklearn.svm.SVC.fit: running accelerated version on CPU\n",
      "INFO:root:sklearn.svm.SVC.fit: running accelerated version on CPU\n",
      "INFO:root:sklearn.svm.SVC.predict: running accelerated version on CPU\n",
      "INFO:root:sklearn.svm.SVC.fit: running accelerated version on CPU\n",
      "INFO:root:sklearn.svm.SVC.fit: running accelerated version on CPU\n",
      "INFO:root:sklearn.svm.SVC.predict: running accelerated version on CPU\n",
      "INFO:root:sklearn.svm.SVC.fit: running accelerated version on CPU\n",
      "INFO:root:sklearn.svm.SVC.fit: running accelerated version on CPU\n",
      "INFO:root:sklearn.svm.SVC.predict: running accelerated version on CPU\n",
      "INFO:root:sklearn.svm.SVC.fit: running accelerated version on CPU\n",
      "INFO:root:sklearn.svm.SVC.fit: running accelerated version on CPU\n",
      "INFO:root:sklearn.svm.SVC.predict: running accelerated version on CPU\n",
      "INFO:root:sklearn.svm.SVC.fit: running accelerated version on CPU\n",
      "INFO:root:sklearn.svm.SVC.fit: running accelerated version on CPU\n",
      "INFO:root:sklearn.svm.SVC.predict: running accelerated version on CPU\n",
      "INFO:root:sklearn.svm.SVC.fit: running accelerated version on CPU\n",
      "INFO:root:sklearn.svm.SVC.fit: running accelerated version on CPU\n",
      "INFO:root:sklearn.svm.SVC.predict: running accelerated version on CPU\n",
      "INFO:root:sklearn.svm.SVC.fit: running accelerated version on CPU\n",
      "INFO:root:sklearn.svm.SVC.fit: running accelerated version on CPU\n",
      "INFO:root:sklearn.svm.SVC.predict: running accelerated version on CPU\n",
      "INFO:root:sklearn.svm.SVC.fit: running accelerated version on CPU\n",
      "INFO:root:sklearn.svm.SVC.fit: running accelerated version on CPU\n",
      "INFO:root:sklearn.svm.SVC.predict: running accelerated version on CPU\n",
      "INFO:root:sklearn.svm.SVC.fit: running accelerated version on CPU\n",
      "INFO:root:sklearn.svm.SVC.fit: running accelerated version on CPU\n",
      "INFO:root:sklearn.svm.SVC.predict: running accelerated version on CPU\n",
      "INFO:root:sklearn.svm.SVC.fit: running accelerated version on CPU\n",
      "INFO:root:sklearn.svm.SVC.fit: running accelerated version on CPU\n",
      "INFO:root:sklearn.svm.SVC.predict: running accelerated version on CPU\n",
      "INFO:root:sklearn.svm.SVC.fit: running accelerated version on CPU\n",
      "INFO:root:sklearn.svm.SVC.fit: running accelerated version on CPU\n",
      "INFO:root:sklearn.svm.SVC.predict: running accelerated version on CPU\n",
      "INFO:root:sklearn.svm.SVC.fit: running accelerated version on CPU\n",
      "INFO:root:sklearn.svm.SVC.fit: running accelerated version on CPU\n",
      "INFO:root:sklearn.svm.SVC.predict: running accelerated version on CPU\n",
      "INFO:root:sklearn.svm.SVC.fit: running accelerated version on CPU\n",
      "INFO:root:sklearn.svm.SVC.fit: running accelerated version on CPU\n",
      "INFO:root:sklearn.svm.SVC.predict: running accelerated version on CPU\n",
      "INFO:root:sklearn.svm.SVC.fit: running accelerated version on CPU\n",
      "INFO:root:sklearn.svm.SVC.fit: running accelerated version on CPU\n",
      "INFO:root:sklearn.svm.SVC.predict: running accelerated version on CPU\n",
      "INFO:root:sklearn.svm.SVC.fit: running accelerated version on CPU\n",
      "INFO:root:sklearn.svm.SVC.fit: running accelerated version on CPU\n",
      "INFO:root:sklearn.svm.SVC.predict: running accelerated version on CPU\n",
      "INFO:root:sklearn.svm.SVC.fit: running accelerated version on CPU\n",
      "INFO:root:sklearn.svm.SVC.fit: running accelerated version on CPU\n",
      "INFO:root:sklearn.svm.SVC.predict: running accelerated version on CPU\n",
      "INFO:root:sklearn.svm.SVC.fit: running accelerated version on CPU\n",
      "INFO:root:sklearn.svm.SVC.fit: running accelerated version on CPU\n",
      "INFO:root:sklearn.svm.SVC.predict: running accelerated version on CPU\n",
      "INFO:root:sklearn.svm.SVC.fit: running accelerated version on CPU\n",
      "INFO:root:sklearn.svm.SVC.fit: running accelerated version on CPU\n",
      "INFO:root:sklearn.svm.SVC.predict: running accelerated version on CPU\n",
      "INFO:root:sklearn.svm.SVC.fit: running accelerated version on CPU\n",
      "INFO:root:sklearn.svm.SVC.fit: running accelerated version on CPU\n",
      "INFO:root:sklearn.svm.SVC.predict: running accelerated version on CPU\n",
      "INFO:root:sklearn.svm.SVC.fit: running accelerated version on CPU\n",
      "INFO:root:sklearn.svm.SVC.fit: running accelerated version on CPU\n",
      "INFO:root:sklearn.svm.SVC.predict: running accelerated version on CPU\n",
      "INFO:root:sklearn.svm.SVC.fit: running accelerated version on CPU\n",
      "INFO:root:sklearn.svm.SVC.fit: running accelerated version on CPU\n",
      "INFO:root:sklearn.svm.SVC.predict: running accelerated version on CPU\n",
      "INFO:root:sklearn.svm.SVC.fit: running accelerated version on CPU\n",
      "INFO:root:sklearn.svm.SVC.fit: running accelerated version on CPU\n",
      "INFO:root:sklearn.svm.SVC.predict: running accelerated version on CPU\n",
      "INFO:root:sklearn.svm.SVC.fit: running accelerated version on CPU\n",
      "INFO:root:sklearn.svm.SVC.fit: running accelerated version on CPU\n",
      "INFO:root:sklearn.svm.SVC.predict: running accelerated version on CPU\n",
      "INFO:root:sklearn.svm.SVC.fit: running accelerated version on CPU\n",
      "INFO:root:sklearn.svm.SVC.fit: running accelerated version on CPU\n",
      "INFO:root:sklearn.svm.SVC.predict: running accelerated version on CPU\n",
      "INFO:root:sklearn.svm.SVC.fit: running accelerated version on CPU\n",
      "INFO:root:sklearn.svm.SVC.fit: running accelerated version on CPU\n",
      "INFO:root:sklearn.svm.SVC.predict: running accelerated version on CPU\n",
      "INFO:root:sklearn.svm.SVC.fit: running accelerated version on CPU\n",
      "INFO:root:sklearn.svm.SVC.fit: running accelerated version on CPU\n",
      "INFO:root:sklearn.svm.SVC.predict: running accelerated version on CPU\n",
      "INFO:root:sklearn.svm.SVC.fit: running accelerated version on CPU\n",
      "INFO:root:sklearn.svm.SVC.fit: running accelerated version on CPU\n",
      "INFO:root:sklearn.svm.SVC.predict: running accelerated version on CPU\n",
      "INFO:root:sklearn.svm.SVC.fit: running accelerated version on CPU\n",
      "INFO:root:sklearn.svm.SVC.fit: running accelerated version on CPU\n",
      "INFO:root:sklearn.svm.SVC.predict: running accelerated version on CPU\n",
      "INFO:root:sklearn.svm.SVC.fit: running accelerated version on CPU\n",
      "INFO:root:sklearn.svm.SVC.fit: running accelerated version on CPU\n",
      "INFO:root:sklearn.svm.SVC.predict: running accelerated version on CPU\n",
      "INFO:root:sklearn.svm.SVC.fit: running accelerated version on CPU\n",
      "INFO:root:sklearn.svm.SVC.fit: running accelerated version on CPU\n",
      "INFO:root:sklearn.svm.SVC.predict: running accelerated version on CPU\n",
      "INFO:root:sklearn.svm.SVC.fit: running accelerated version on CPU\n",
      "INFO:root:sklearn.svm.SVC.fit: running accelerated version on CPU\n",
      "INFO:root:sklearn.svm.SVC.predict: running accelerated version on CPU\n",
      "INFO:root:sklearn.svm.SVC.fit: running accelerated version on CPU\n",
      "INFO:root:sklearn.svm.SVC.fit: running accelerated version on CPU\n",
      "INFO:root:sklearn.svm.SVC.predict: running accelerated version on CPU\n",
      "INFO:root:sklearn.svm.SVC.fit: running accelerated version on CPU\n",
      "INFO:root:sklearn.svm.SVC.fit: running accelerated version on CPU\n",
      "INFO:root:sklearn.svm.SVC.predict: running accelerated version on CPU\n",
      "INFO:root:sklearn.svm.SVC.fit: running accelerated version on CPU\n",
      "INFO:root:sklearn.svm.SVC.fit: running accelerated version on CPU\n",
      "INFO:root:sklearn.svm.SVC.predict: running accelerated version on CPU\n",
      "INFO:root:sklearn.svm.SVC.fit: running accelerated version on CPU\n",
      "INFO:root:sklearn.svm.SVC.fit: running accelerated version on CPU\n",
      "INFO:root:sklearn.svm.SVC.predict: running accelerated version on CPU\n",
      "INFO:root:sklearn.svm.SVC.fit: running accelerated version on CPU\n",
      "INFO:root:sklearn.svm.SVC.fit: running accelerated version on CPU\n",
      "INFO:root:sklearn.svm.SVC.predict: running accelerated version on CPU\n",
      "INFO:root:sklearn.svm.SVC.fit: running accelerated version on CPU\n",
      "INFO:root:sklearn.svm.SVC.fit: running accelerated version on CPU\n",
      "INFO:root:sklearn.svm.SVC.predict: running accelerated version on CPU\n",
      "INFO:root:sklearn.svm.SVC.fit: running accelerated version on CPU\n",
      "INFO:root:sklearn.svm.SVC.fit: running accelerated version on CPU\n",
      "INFO:root:sklearn.svm.SVC.predict: running accelerated version on CPU\n",
      "INFO:root:sklearn.svm.SVC.fit: running accelerated version on CPU\n",
      "INFO:root:sklearn.svm.SVC.fit: running accelerated version on CPU\n",
      "INFO:root:sklearn.svm.SVC.predict: running accelerated version on CPU\n",
      "INFO:root:sklearn.svm.SVC.fit: running accelerated version on CPU\n",
      "INFO:root:sklearn.svm.SVC.fit: running accelerated version on CPU\n",
      "INFO:root:sklearn.svm.SVC.predict: running accelerated version on CPU\n",
      "INFO:root:sklearn.svm.SVC.fit: running accelerated version on CPU\n",
      "INFO:root:sklearn.svm.SVC.fit: running accelerated version on CPU\n",
      "INFO:root:sklearn.svm.SVC.predict: running accelerated version on CPU\n",
      "INFO:root:sklearn.svm.SVC.fit: running accelerated version on CPU\n",
      "INFO:root:sklearn.svm.SVC.fit: running accelerated version on CPU\n",
      "INFO:root:sklearn.svm.SVC.predict: running accelerated version on CPU\n",
      "INFO:root:sklearn.svm.SVC.fit: running accelerated version on CPU\n",
      "INFO:root:sklearn.svm.SVC.fit: running accelerated version on CPU\n",
      "INFO:root:sklearn.svm.SVC.predict: running accelerated version on CPU\n",
      "INFO:root:sklearn.svm.SVC.fit: running accelerated version on CPU\n",
      "INFO:root:sklearn.svm.SVC.fit: running accelerated version on CPU\n",
      "INFO:root:sklearn.svm.SVC.predict: running accelerated version on CPU\n",
      "INFO:root:sklearn.svm.SVC.fit: running accelerated version on CPU\n",
      "INFO:root:sklearn.svm.SVC.fit: running accelerated version on CPU\n",
      "INFO:root:sklearn.svm.SVC.predict: running accelerated version on CPU\n",
      "INFO:root:sklearn.svm.SVC.fit: running accelerated version on CPU\n",
      "INFO:root:sklearn.svm.SVC.fit: running accelerated version on CPU\n",
      "INFO:root:sklearn.svm.SVC.predict: running accelerated version on CPU\n",
      "INFO:root:sklearn.svm.SVC.fit: running accelerated version on CPU\n",
      "INFO:root:sklearn.svm.SVC.fit: running accelerated version on CPU\n",
      "INFO:root:sklearn.svm.SVC.predict: running accelerated version on CPU\n",
      "INFO:root:sklearn.svm.SVC.fit: running accelerated version on CPU\n",
      "INFO:root:sklearn.svm.SVC.fit: running accelerated version on CPU\n",
      "INFO:root:sklearn.svm.SVC.predict: running accelerated version on CPU\n",
      "INFO:root:sklearn.svm.SVC.fit: running accelerated version on CPU\n",
      "INFO:root:sklearn.svm.SVC.fit: running accelerated version on CPU\n",
      "INFO:root:sklearn.svm.SVC.predict: running accelerated version on CPU\n",
      "INFO:root:sklearn.svm.SVC.fit: running accelerated version on CPU\n",
      "INFO:root:sklearn.svm.SVC.fit: running accelerated version on CPU\n",
      "INFO:root:sklearn.svm.SVC.predict: running accelerated version on CPU\n",
      "INFO:root:sklearn.svm.SVC.fit: running accelerated version on CPU\n",
      "INFO:root:sklearn.svm.SVC.fit: running accelerated version on CPU\n",
      "INFO:root:sklearn.svm.SVC.predict: running accelerated version on CPU\n",
      "INFO:root:sklearn.svm.SVC.fit: running accelerated version on CPU\n",
      "INFO:root:sklearn.svm.SVC.fit: running accelerated version on CPU\n",
      "INFO:root:sklearn.svm.SVC.predict: running accelerated version on CPU\n",
      "INFO:root:sklearn.svm.SVC.fit: running accelerated version on CPU\n",
      "INFO:root:sklearn.svm.SVC.fit: running accelerated version on CPU\n",
      "INFO:root:sklearn.svm.SVC.predict: running accelerated version on CPU\n",
      "INFO:root:sklearn.svm.SVC.fit: running accelerated version on CPU\n",
      "INFO:root:sklearn.svm.SVC.fit: running accelerated version on CPU\n",
      "INFO:root:sklearn.svm.SVC.predict: running accelerated version on CPU\n",
      "INFO:root:sklearn.svm.SVC.fit: running accelerated version on CPU\n",
      "INFO:root:sklearn.svm.SVC.fit: running accelerated version on CPU\n",
      "INFO:root:sklearn.svm.SVC.predict: running accelerated version on CPU\n",
      "INFO:root:sklearn.svm.SVC.fit: running accelerated version on CPU\n",
      "/home/alex/anaconda3/envs/cad2/lib/python3.9/site-packages/joblib/externals/loky/process_executor.py:700: UserWarning: A worker stopped while some jobs were given to the executor. This can be caused by a too short worker timeout or by a memory leak.\n",
      "  warnings.warn(\n",
      "INFO:root:sklearn.svm.SVC.fit: running accelerated version on CPU\n",
      "INFO:root:sklearn.svm.SVC.predict: running accelerated version on CPU\n",
      "INFO:root:sklearn.svm.SVC.fit: running accelerated version on CPU\n",
      "INFO:root:sklearn.svm.SVC.fit: running accelerated version on CPU\n",
      "INFO:root:sklearn.svm.SVC.predict: running accelerated version on CPU\n",
      "INFO:root:sklearn.svm.SVC.fit: running accelerated version on CPU\n",
      "INFO:root:sklearn.svm.SVC.fit: running accelerated version on CPU\n",
      "INFO:root:sklearn.svm.SVC.predict: running accelerated version on CPU\n",
      "INFO:root:sklearn.svm.SVC.fit: running accelerated version on CPU\n",
      "INFO:root:sklearn.svm.SVC.fit: running accelerated version on CPU\n",
      "INFO:root:sklearn.svm.SVC.predict: running accelerated version on CPU\n",
      "INFO:root:sklearn.svm.SVC.fit: running accelerated version on CPU\n",
      "INFO:root:sklearn.svm.SVC.fit: running accelerated version on CPU\n",
      "INFO:root:sklearn.svm.SVC.predict: running accelerated version on CPU\n",
      "INFO:root:sklearn.svm.SVC.fit: running accelerated version on CPU\n",
      "INFO:root:sklearn.svm.SVC.fit: running accelerated version on CPU\n",
      "INFO:root:sklearn.svm.SVC.predict: running accelerated version on CPU\n",
      "INFO:root:sklearn.svm.SVC.fit: running accelerated version on CPU\n",
      "INFO:root:sklearn.svm.SVC.fit: running accelerated version on CPU\n",
      "INFO:root:sklearn.svm.SVC.predict: running accelerated version on CPU\n",
      "INFO:root:sklearn.svm.SVC.fit: running accelerated version on CPU\n",
      "INFO:root:sklearn.svm.SVC.fit: running accelerated version on CPU\n",
      "INFO:root:sklearn.svm.SVC.predict: running accelerated version on CPU\n",
      "INFO:root:sklearn.svm.SVC.fit: running accelerated version on CPU\n",
      "INFO:root:sklearn.svm.SVC.fit: running accelerated version on CPU\n",
      "INFO:root:sklearn.svm.SVC.predict: running accelerated version on CPU\n",
      "INFO:root:sklearn.svm.SVC.fit: running accelerated version on CPU\n",
      "INFO:root:sklearn.svm.SVC.fit: running accelerated version on CPU\n",
      "INFO:root:sklearn.svm.SVC.predict: running accelerated version on CPU\n",
      "INFO:root:sklearn.svm.SVC.fit: running accelerated version on CPU\n",
      "INFO:root:sklearn.svm.SVC.fit: running accelerated version on CPU\n",
      "INFO:root:sklearn.svm.SVC.predict: running accelerated version on CPU\n",
      "INFO:root:sklearn.svm.SVC.fit: running accelerated version on CPU\n",
      "INFO:root:sklearn.svm.SVC.fit: running accelerated version on CPU\n",
      "INFO:root:sklearn.svm.SVC.predict: running accelerated version on CPU\n",
      "INFO:root:sklearn.svm.SVC.fit: running accelerated version on CPU\n",
      "INFO:root:sklearn.svm.SVC.fit: running accelerated version on CPU\n",
      "INFO:root:sklearn.svm.SVC.predict: running accelerated version on CPU\n",
      "INFO:root:sklearn.svm.SVC.fit: running accelerated version on CPU\n",
      "INFO:root:sklearn.svm.SVC.fit: running accelerated version on CPU\n",
      "INFO:root:sklearn.svm.SVC.predict: running accelerated version on CPU\n",
      "INFO:root:sklearn.svm.SVC.fit: running accelerated version on CPU\n",
      "INFO:root:sklearn.svm.SVC.fit: running accelerated version on CPU\n",
      "INFO:root:sklearn.svm.SVC.predict: running accelerated version on CPU\n",
      "INFO:root:sklearn.svm.SVC.fit: running accelerated version on CPU\n",
      "INFO:root:sklearn.svm.SVC.fit: running accelerated version on CPU\n",
      "INFO:root:sklearn.svm.SVC.predict: running accelerated version on CPU\n",
      "INFO:root:sklearn.svm.SVC.fit: running accelerated version on CPU\n",
      "INFO:root:sklearn.svm.SVC.fit: running accelerated version on CPU\n",
      "INFO:root:sklearn.svm.SVC.predict: running accelerated version on CPU\n",
      "INFO:root:sklearn.svm.SVC.fit: running accelerated version on CPU\n",
      "INFO:root:sklearn.svm.SVC.fit: running accelerated version on CPU\n",
      "INFO:root:sklearn.svm.SVC.predict: running accelerated version on CPU\n",
      "INFO:root:sklearn.svm.SVC.fit: running accelerated version on CPU\n",
      "INFO:root:sklearn.svm.SVC.fit: running accelerated version on CPU\n",
      "INFO:root:sklearn.svm.SVC.predict: running accelerated version on CPU\n",
      "INFO:root:sklearn.svm.SVC.fit: running accelerated version on CPU\n",
      "INFO:root:sklearn.svm.SVC.fit: running accelerated version on CPU\n",
      "INFO:root:sklearn.svm.SVC.predict: running accelerated version on CPU\n",
      "INFO:root:sklearn.svm.SVC.fit: running accelerated version on CPU\n",
      "INFO:root:sklearn.svm.SVC.fit: running accelerated version on CPU\n",
      "INFO:root:sklearn.svm.SVC.predict: running accelerated version on CPU\n",
      "INFO:root:sklearn.svm.SVC.fit: running accelerated version on CPU\n",
      "INFO:root:sklearn.svm.SVC.fit: running accelerated version on CPU\n",
      "INFO:root:sklearn.svm.SVC.predict: running accelerated version on CPU\n",
      "INFO:root:sklearn.svm.SVC.fit: running accelerated version on CPU\n",
      "INFO:root:sklearn.svm.SVC.fit: running accelerated version on CPU\n",
      "INFO:root:sklearn.svm.SVC.predict: running accelerated version on CPU\n",
      "INFO:root:sklearn.svm.SVC.fit: running accelerated version on CPU\n",
      "INFO:root:sklearn.svm.SVC.fit: running accelerated version on CPU\n",
      "INFO:root:sklearn.svm.SVC.predict: running accelerated version on CPU\n",
      "INFO:root:sklearn.svm.SVC.fit: running accelerated version on CPU\n",
      "INFO:root:sklearn.svm.SVC.fit: running accelerated version on CPU\n",
      "INFO:root:sklearn.svm.SVC.predict: running accelerated version on CPU\n",
      "INFO:root:sklearn.svm.SVC.fit: running accelerated version on CPU\n",
      "INFO:root:sklearn.svm.SVC.fit: running accelerated version on CPU\n",
      "INFO:root:sklearn.svm.SVC.predict: running accelerated version on CPU\n",
      "INFO:root:sklearn.svm.SVC.fit: running accelerated version on CPU\n",
      "INFO:root:sklearn.svm.SVC.fit: running accelerated version on CPU\n",
      "INFO:root:sklearn.svm.SVC.predict: running accelerated version on CPU\n",
      "INFO:root:sklearn.svm.SVC.fit: running accelerated version on CPU\n",
      "INFO:root:sklearn.svm.SVC.fit: running accelerated version on CPU\n",
      "INFO:root:sklearn.svm.SVC.predict: running accelerated version on CPU\n",
      "INFO:root:sklearn.svm.SVC.fit: running accelerated version on CPU\n",
      "INFO:root:sklearn.svm.SVC.fit: running accelerated version on CPU\n",
      "INFO:root:sklearn.svm.SVC.predict: running accelerated version on CPU\n",
      "INFO:root:sklearn.svm.SVC.fit: running accelerated version on CPU\n",
      "INFO:root:sklearn.svm.SVC.fit: running accelerated version on CPU\n"
     ]
    },
    {
     "name": "stdout",
     "output_type": "stream",
     "text": [
      "TRAIN- The best parameters are {'classifier__C': 10.0, 'classifier__gamma': 0.001, 'classifier__kernel': 'rbf'} with an f1-score of 0.6495\n"
     ]
    }
   ],
   "source": [
    "classifier = svm.SVC(class_weight='balanced', probability=True)\n",
    "C_range = np.logspace(-2, 1, 3)\n",
    "gamma_range = np.logspace(-9, 3, 3)\n",
    "# param_grid = dict(gamma=gamma_range, C=C_range)\n",
    "param_grid = {'classifier__C': C_range,\n",
    "                'classifier__gamma': gamma_range,\n",
    "              'classifier__kernel': ['rbf']}\n",
    "\n",
    "cv = StratifiedKFold(n_splits=10, shuffle=True, random_state=42)\n",
    "\n",
    "pipe = Pipeline([('scaler', StandardScaler()),('classifier', classifier)])\n",
    "grid_search = GridSearchCV(pipe, param_grid, cv=cv, refit = True, verbose = 1, scoring=kappa_scoring)\n",
    "grid_search.fit(X_train, y_train)\n",
    "\n",
    "print(\"TRAIN- The best parameters are %s with an f1-score of %0.4f\"%(grid_search.best_params_, grid_search.best_score_))"
   ]
  },
  {
   "cell_type": "code",
   "execution_count": 17,
   "metadata": {},
   "outputs": [
    {
     "name": "stderr",
     "output_type": "stream",
     "text": [
      "INFO:root:sklearn.svm.SVC.predict: running accelerated version on CPU\n",
      "INFO:root:sklearn.svm.SVC.predict_proba: running accelerated version on CPU\n",
      "INFO:root:sklearn.svm.SVC.decision_function: running accelerated version on CPU\n",
      "INFO:root:sklearn.svm.SVC.predict: running accelerated version on CPU\n",
      "INFO:root:sklearn.svm.SVC.predict_proba: running accelerated version on CPU\n",
      "INFO:root:sklearn.svm.SVC.decision_function: running accelerated version on CPU\n",
      "INFO:root:sklearn.metrics.roc_auc_score: fallback to original Scikit-learn\n",
      "INFO:root:sklearn.metrics.roc_auc_score: fallback to original Scikit-learn\n"
     ]
    },
    {
     "name": "stdout",
     "output_type": "stream",
     "text": [
      "F1 Score of train data: 0.8324 Acc: 0.8159501216545012 AUROC: 0.9298484391706823 Kappa: 0.7416964877773083\n",
      "F1 Score of test data: 0.7846 Acc: 0.692232181093671 AUROC: 0.898837256460583 Kappa: 0.611611626649269\n"
     ]
    }
   ],
   "source": [
    "y_train_predicted = grid_search.predict(X_train)\n",
    "y_train_pred_prob = grid_search.predict_proba(X_train)\n",
    "y_test_predicted =  grid_search.predict(X_test)\n",
    "y_test_pred_prob = grid_search.predict_proba(X_test)\n",
    "auroc_train = roc_auc_score(y_train, y_train_pred_prob, multi_class='ovr', average='weighted')\n",
    "auroc_test = roc_auc_score(y_test, y_test_pred_prob, multi_class='ovr', average='weighted')\n",
    "print('F1 Score of train data: %0.4f' %f1_score(y_train,y_train_predicted,average='weighted'), f'Acc: {balanced_accuracy_score(y_train, y_train_predicted,)}', f'AUROC: {auroc_train}', f'Kappa: {cohen_kappa_score(y_train, y_train_predicted)}')\n",
    "print('F1 Score of test data: %0.4f' %f1_score(y_test,y_test_predicted,average='weighted'), f'Acc: {balanced_accuracy_score(y_test, y_test_predicted)}', f'AUROC: {auroc_test}', f'Kappa: {cohen_kappa_score(y_test, y_test_predicted)}')"
   ]
  },
  {
   "cell_type": "code",
   "execution_count": 19,
   "metadata": {},
   "outputs": [
    {
     "name": "stderr",
     "output_type": "stream",
     "text": [
      "INFO:root:sklearn.svm.SVC.predict: running accelerated version on CPU\n"
     ]
    },
    {
     "data": {
      "image/png": "[encoded data removed]",
      "text/plain": [
       "<Figure size 640x480 with 2 Axes>"
      ]
     },
     "metadata": {},
     "output_type": "display_data"
    }
   ],
   "source": [
    "ConfusionMatrixDisplay.from_estimator(grid_search, X_test, y_test, display_labels=['bcc', 'mel', 'scc'])\n",
    "plt.show()"
   ]
  },
  {
   "cell_type": "markdown",
   "metadata": {},
   "source": [
    "### Classification - RF"
   ]
  },
  {
   "cell_type": "code",
   "execution_count": 9,
   "metadata": {},
   "outputs": [
    {
     "name": "stderr",
     "output_type": "stream",
     "text": [
      "INFO:root:sklearn.ensemble.RandomForestClassifier.fit: running accelerated version on CPU\n"
     ]
    },
    {
     "name": "stdout",
     "output_type": "stream",
     "text": [
      "Fitting 10 folds for each of 9 candidates, totalling 90 fits\n"
     ]
    },
    {
     "name": "stderr",
     "output_type": "stream",
     "text": [
      "INFO:root:sklearn.ensemble.RandomForestClassifier.predict: running accelerated version on CPU\n",
      "INFO:root:sklearn.ensemble.RandomForestClassifier.fit: running accelerated version on CPU\n",
      "INFO:root:sklearn.ensemble.RandomForestClassifier.predict: running accelerated version on CPU\n",
      "INFO:root:sklearn.ensemble.RandomForestClassifier.fit: running accelerated version on CPU\n",
      "INFO:root:sklearn.ensemble.RandomForestClassifier.predict: running accelerated version on CPU\n",
      "INFO:root:sklearn.ensemble.RandomForestClassifier.fit: running accelerated version on CPU\n",
      "INFO:root:sklearn.ensemble.RandomForestClassifier.predict: running accelerated version on CPU\n",
      "INFO:root:sklearn.ensemble.RandomForestClassifier.fit: running accelerated version on CPU\n",
      "INFO:root:sklearn.ensemble.RandomForestClassifier.predict: running accelerated version on CPU\n",
      "INFO:root:sklearn.ensemble.RandomForestClassifier.fit: running accelerated version on CPU\n",
      "INFO:root:sklearn.ensemble.RandomForestClassifier.predict: running accelerated version on CPU\n",
      "INFO:root:sklearn.ensemble.RandomForestClassifier.fit: running accelerated version on CPU\n",
      "INFO:root:sklearn.ensemble.RandomForestClassifier.predict: running accelerated version on CPU\n",
      "INFO:root:sklearn.ensemble.RandomForestClassifier.fit: running accelerated version on CPU\n",
      "INFO:root:sklearn.ensemble.RandomForestClassifier.predict: running accelerated version on CPU\n",
      "INFO:root:sklearn.ensemble.RandomForestClassifier.fit: running accelerated version on CPU\n",
      "INFO:root:sklearn.ensemble.RandomForestClassifier.predict: running accelerated version on CPU\n",
      "INFO:root:sklearn.ensemble.RandomForestClassifier.fit: running accelerated version on CPU\n",
      "INFO:root:sklearn.ensemble.RandomForestClassifier.predict: running accelerated version on CPU\n",
      "INFO:root:sklearn.ensemble.RandomForestClassifier.fit: running accelerated version on CPU\n",
      "INFO:root:sklearn.ensemble.RandomForestClassifier.predict: running accelerated version on CPU\n",
      "INFO:root:sklearn.ensemble.RandomForestClassifier.fit: running accelerated version on CPU\n",
      "INFO:root:sklearn.ensemble.RandomForestClassifier.predict: running accelerated version on CPU\n",
      "INFO:root:sklearn.ensemble.RandomForestClassifier.fit: running accelerated version on CPU\n",
      "INFO:root:sklearn.ensemble.RandomForestClassifier.predict: running accelerated version on CPU\n",
      "INFO:root:sklearn.ensemble.RandomForestClassifier.fit: running accelerated version on CPU\n",
      "INFO:root:sklearn.ensemble.RandomForestClassifier.predict: running accelerated version on CPU\n",
      "INFO:root:sklearn.ensemble.RandomForestClassifier.fit: running accelerated version on CPU\n",
      "INFO:root:sklearn.ensemble.RandomForestClassifier.predict: running accelerated version on CPU\n",
      "INFO:root:sklearn.ensemble.RandomForestClassifier.fit: running accelerated version on CPU\n",
      "INFO:root:sklearn.ensemble.RandomForestClassifier.predict: running accelerated version on CPU\n",
      "INFO:root:sklearn.ensemble.RandomForestClassifier.fit: running accelerated version on CPU\n",
      "INFO:root:sklearn.ensemble.RandomForestClassifier.predict: running accelerated version on CPU\n",
      "INFO:root:sklearn.ensemble.RandomForestClassifier.fit: running accelerated version on CPU\n",
      "INFO:root:sklearn.ensemble.RandomForestClassifier.predict: running accelerated version on CPU\n",
      "INFO:root:sklearn.ensemble.RandomForestClassifier.fit: running accelerated version on CPU\n",
      "INFO:root:sklearn.ensemble.RandomForestClassifier.predict: running accelerated version on CPU\n",
      "INFO:root:sklearn.ensemble.RandomForestClassifier.fit: running accelerated version on CPU\n",
      "INFO:root:sklearn.ensemble.RandomForestClassifier.predict: running accelerated version on CPU\n",
      "INFO:root:sklearn.ensemble.RandomForestClassifier.fit: running accelerated version on CPU\n",
      "INFO:root:sklearn.ensemble.RandomForestClassifier.predict: running accelerated version on CPU\n",
      "INFO:root:sklearn.ensemble.RandomForestClassifier.fit: running accelerated version on CPU\n",
      "INFO:root:sklearn.ensemble.RandomForestClassifier.predict: running accelerated version on CPU\n",
      "INFO:root:sklearn.ensemble.RandomForestClassifier.fit: running accelerated version on CPU\n",
      "INFO:root:sklearn.ensemble.RandomForestClassifier.predict: running accelerated version on CPU\n",
      "INFO:root:sklearn.ensemble.RandomForestClassifier.fit: running accelerated version on CPU\n",
      "INFO:root:sklearn.ensemble.RandomForestClassifier.predict: running accelerated version on CPU\n",
      "INFO:root:sklearn.ensemble.RandomForestClassifier.fit: running accelerated version on CPU\n",
      "INFO:root:sklearn.ensemble.RandomForestClassifier.predict: running accelerated version on CPU\n",
      "INFO:root:sklearn.ensemble.RandomForestClassifier.fit: running accelerated version on CPU\n",
      "INFO:root:sklearn.ensemble.RandomForestClassifier.predict: running accelerated version on CPU\n",
      "INFO:root:sklearn.ensemble.RandomForestClassifier.fit: running accelerated version on CPU\n",
      "INFO:root:sklearn.ensemble.RandomForestClassifier.predict: running accelerated version on CPU\n",
      "INFO:root:sklearn.ensemble.RandomForestClassifier.fit: running accelerated version on CPU\n",
      "INFO:root:sklearn.ensemble.RandomForestClassifier.predict: running accelerated version on CPU\n",
      "INFO:root:sklearn.ensemble.RandomForestClassifier.fit: running accelerated version on CPU\n",
      "INFO:root:sklearn.ensemble.RandomForestClassifier.predict: running accelerated version on CPU\n",
      "INFO:root:sklearn.ensemble.RandomForestClassifier.fit: running accelerated version on CPU\n",
      "INFO:root:sklearn.ensemble.RandomForestClassifier.predict: running accelerated version on CPU\n",
      "INFO:root:sklearn.ensemble.RandomForestClassifier.fit: running accelerated version on CPU\n",
      "INFO:root:sklearn.ensemble.RandomForestClassifier.predict: running accelerated version on CPU\n",
      "INFO:root:sklearn.ensemble.RandomForestClassifier.fit: running accelerated version on CPU\n",
      "INFO:root:sklearn.ensemble.RandomForestClassifier.predict: running accelerated version on CPU\n",
      "INFO:root:sklearn.ensemble.RandomForestClassifier.fit: running accelerated version on CPU\n",
      "INFO:root:sklearn.ensemble.RandomForestClassifier.predict: running accelerated version on CPU\n",
      "INFO:root:sklearn.ensemble.RandomForestClassifier.fit: running accelerated version on CPU\n",
      "INFO:root:sklearn.ensemble.RandomForestClassifier.predict: running accelerated version on CPU\n",
      "INFO:root:sklearn.ensemble.RandomForestClassifier.fit: running accelerated version on CPU\n",
      "INFO:root:sklearn.ensemble.RandomForestClassifier.predict: running accelerated version on CPU\n",
      "INFO:root:sklearn.ensemble.RandomForestClassifier.fit: running accelerated version on CPU\n",
      "INFO:root:sklearn.ensemble.RandomForestClassifier.predict: running accelerated version on CPU\n",
      "INFO:root:sklearn.ensemble.RandomForestClassifier.fit: running accelerated version on CPU\n",
      "INFO:root:sklearn.ensemble.RandomForestClassifier.predict: running accelerated version on CPU\n",
      "INFO:root:sklearn.ensemble.RandomForestClassifier.fit: running accelerated version on CPU\n",
      "INFO:root:sklearn.ensemble.RandomForestClassifier.predict: running accelerated version on CPU\n",
      "INFO:root:sklearn.ensemble.RandomForestClassifier.fit: running accelerated version on CPU\n",
      "INFO:root:sklearn.ensemble.RandomForestClassifier.predict: running accelerated version on CPU\n",
      "INFO:root:sklearn.ensemble.RandomForestClassifier.fit: running accelerated version on CPU\n",
      "INFO:root:sklearn.ensemble.RandomForestClassifier.predict: running accelerated version on CPU\n",
      "INFO:root:sklearn.ensemble.RandomForestClassifier.fit: running accelerated version on CPU\n",
      "INFO:root:sklearn.ensemble.RandomForestClassifier.predict: running accelerated version on CPU\n",
      "INFO:root:sklearn.ensemble.RandomForestClassifier.fit: running accelerated version on CPU\n",
      "INFO:root:sklearn.ensemble.RandomForestClassifier.predict: running accelerated version on CPU\n",
      "INFO:root:sklearn.ensemble.RandomForestClassifier.fit: running accelerated version on CPU\n",
      "INFO:root:sklearn.ensemble.RandomForestClassifier.predict: running accelerated version on CPU\n",
      "INFO:root:sklearn.ensemble.RandomForestClassifier.fit: running accelerated version on CPU\n",
      "INFO:root:sklearn.ensemble.RandomForestClassifier.predict: running accelerated version on CPU\n",
      "INFO:root:sklearn.ensemble.RandomForestClassifier.fit: running accelerated version on CPU\n",
      "INFO:root:sklearn.ensemble.RandomForestClassifier.predict: running accelerated version on CPU\n",
      "INFO:root:sklearn.ensemble.RandomForestClassifier.fit: running accelerated version on CPU\n",
      "INFO:root:sklearn.ensemble.RandomForestClassifier.predict: running accelerated version on CPU\n",
      "INFO:root:sklearn.ensemble.RandomForestClassifier.fit: running accelerated version on CPU\n",
      "INFO:root:sklearn.ensemble.RandomForestClassifier.predict: running accelerated version on CPU\n",
      "INFO:root:sklearn.ensemble.RandomForestClassifier.fit: running accelerated version on CPU\n",
      "INFO:root:sklearn.ensemble.RandomForestClassifier.predict: running accelerated version on CPU\n",
      "INFO:root:sklearn.ensemble.RandomForestClassifier.fit: running accelerated version on CPU\n",
      "INFO:root:sklearn.ensemble.RandomForestClassifier.predict: running accelerated version on CPU\n",
      "INFO:root:sklearn.ensemble.RandomForestClassifier.fit: running accelerated version on CPU\n",
      "INFO:root:sklearn.ensemble.RandomForestClassifier.predict: running accelerated version on CPU\n",
      "INFO:root:sklearn.ensemble.RandomForestClassifier.fit: running accelerated version on CPU\n",
      "INFO:root:sklearn.ensemble.RandomForestClassifier.predict: running accelerated version on CPU\n",
      "INFO:root:sklearn.ensemble.RandomForestClassifier.fit: running accelerated version on CPU\n",
      "INFO:root:sklearn.ensemble.RandomForestClassifier.predict: running accelerated version on CPU\n",
      "INFO:root:sklearn.ensemble.RandomForestClassifier.fit: running accelerated version on CPU\n",
      "INFO:root:sklearn.ensemble.RandomForestClassifier.predict: running accelerated version on CPU\n",
      "INFO:root:sklearn.ensemble.RandomForestClassifier.fit: running accelerated version on CPU\n",
      "INFO:root:sklearn.ensemble.RandomForestClassifier.predict: running accelerated version on CPU\n",
      "INFO:root:sklearn.ensemble.RandomForestClassifier.fit: running accelerated version on CPU\n",
      "INFO:root:sklearn.ensemble.RandomForestClassifier.predict: running accelerated version on CPU\n",
      "INFO:root:sklearn.ensemble.RandomForestClassifier.fit: running accelerated version on CPU\n",
      "INFO:root:sklearn.ensemble.RandomForestClassifier.predict: running accelerated version on CPU\n",
      "INFO:root:sklearn.ensemble.RandomForestClassifier.fit: running accelerated version on CPU\n",
      "INFO:root:sklearn.ensemble.RandomForestClassifier.predict: running accelerated version on CPU\n",
      "INFO:root:sklearn.ensemble.RandomForestClassifier.fit: running accelerated version on CPU\n",
      "INFO:root:sklearn.ensemble.RandomForestClassifier.predict: running accelerated version on CPU\n",
      "INFO:root:sklearn.ensemble.RandomForestClassifier.fit: running accelerated version on CPU\n",
      "INFO:root:sklearn.ensemble.RandomForestClassifier.predict: running accelerated version on CPU\n",
      "INFO:root:sklearn.ensemble.RandomForestClassifier.fit: running accelerated version on CPU\n",
      "INFO:root:sklearn.ensemble.RandomForestClassifier.predict: running accelerated version on CPU\n",
      "INFO:root:sklearn.ensemble.RandomForestClassifier.fit: running accelerated version on CPU\n",
      "INFO:root:sklearn.ensemble.RandomForestClassifier.predict: running accelerated version on CPU\n",
      "INFO:root:sklearn.ensemble.RandomForestClassifier.fit: running accelerated version on CPU\n",
      "INFO:root:sklearn.ensemble.RandomForestClassifier.predict: running accelerated version on CPU\n",
      "INFO:root:sklearn.ensemble.RandomForestClassifier.fit: running accelerated version on CPU\n",
      "INFO:root:sklearn.ensemble.RandomForestClassifier.predict: running accelerated version on CPU\n",
      "INFO:root:sklearn.ensemble.RandomForestClassifier.fit: running accelerated version on CPU\n",
      "INFO:root:sklearn.ensemble.RandomForestClassifier.predict: running accelerated version on CPU\n",
      "INFO:root:sklearn.ensemble.RandomForestClassifier.fit: running accelerated version on CPU\n",
      "INFO:root:sklearn.ensemble.RandomForestClassifier.predict: running accelerated version on CPU\n",
      "INFO:root:sklearn.ensemble.RandomForestClassifier.fit: running accelerated version on CPU\n",
      "INFO:root:sklearn.ensemble.RandomForestClassifier.predict: running accelerated version on CPU\n",
      "INFO:root:sklearn.ensemble.RandomForestClassifier.fit: running accelerated version on CPU\n",
      "INFO:root:sklearn.ensemble.RandomForestClassifier.predict: running accelerated version on CPU\n",
      "INFO:root:sklearn.ensemble.RandomForestClassifier.fit: running accelerated version on CPU\n",
      "INFO:root:sklearn.ensemble.RandomForestClassifier.predict: running accelerated version on CPU\n",
      "INFO:root:sklearn.ensemble.RandomForestClassifier.fit: running accelerated version on CPU\n",
      "INFO:root:sklearn.ensemble.RandomForestClassifier.predict: running accelerated version on CPU\n",
      "INFO:root:sklearn.ensemble.RandomForestClassifier.fit: running accelerated version on CPU\n",
      "INFO:root:sklearn.ensemble.RandomForestClassifier.predict: running accelerated version on CPU\n",
      "INFO:root:sklearn.ensemble.RandomForestClassifier.fit: running accelerated version on CPU\n",
      "INFO:root:sklearn.ensemble.RandomForestClassifier.predict: running accelerated version on CPU\n",
      "INFO:root:sklearn.ensemble.RandomForestClassifier.fit: running accelerated version on CPU\n",
      "INFO:root:sklearn.ensemble.RandomForestClassifier.predict: running accelerated version on CPU\n",
      "INFO:root:sklearn.ensemble.RandomForestClassifier.fit: running accelerated version on CPU\n",
      "INFO:root:sklearn.ensemble.RandomForestClassifier.predict: running accelerated version on CPU\n",
      "INFO:root:sklearn.ensemble.RandomForestClassifier.fit: running accelerated version on CPU\n",
      "INFO:root:sklearn.ensemble.RandomForestClassifier.predict: running accelerated version on CPU\n",
      "INFO:root:sklearn.ensemble.RandomForestClassifier.fit: running accelerated version on CPU\n",
      "INFO:root:sklearn.ensemble.RandomForestClassifier.predict: running accelerated version on CPU\n",
      "INFO:root:sklearn.ensemble.RandomForestClassifier.fit: running accelerated version on CPU\n",
      "INFO:root:sklearn.ensemble.RandomForestClassifier.predict: running accelerated version on CPU\n",
      "INFO:root:sklearn.ensemble.RandomForestClassifier.fit: running accelerated version on CPU\n",
      "INFO:root:sklearn.ensemble.RandomForestClassifier.predict: running accelerated version on CPU\n",
      "INFO:root:sklearn.ensemble.RandomForestClassifier.fit: running accelerated version on CPU\n",
      "INFO:root:sklearn.ensemble.RandomForestClassifier.predict: running accelerated version on CPU\n",
      "INFO:root:sklearn.ensemble.RandomForestClassifier.fit: running accelerated version on CPU\n",
      "INFO:root:sklearn.ensemble.RandomForestClassifier.predict: running accelerated version on CPU\n",
      "INFO:root:sklearn.ensemble.RandomForestClassifier.fit: running accelerated version on CPU\n",
      "INFO:root:sklearn.ensemble.RandomForestClassifier.predict: running accelerated version on CPU\n",
      "INFO:root:sklearn.ensemble.RandomForestClassifier.fit: running accelerated version on CPU\n",
      "INFO:root:sklearn.ensemble.RandomForestClassifier.predict: running accelerated version on CPU\n",
      "INFO:root:sklearn.ensemble.RandomForestClassifier.fit: running accelerated version on CPU\n",
      "INFO:root:sklearn.ensemble.RandomForestClassifier.predict: running accelerated version on CPU\n",
      "INFO:root:sklearn.ensemble.RandomForestClassifier.fit: running accelerated version on CPU\n",
      "INFO:root:sklearn.ensemble.RandomForestClassifier.predict: running accelerated version on CPU\n",
      "INFO:root:sklearn.ensemble.RandomForestClassifier.fit: running accelerated version on CPU\n",
      "INFO:root:sklearn.ensemble.RandomForestClassifier.predict: running accelerated version on CPU\n",
      "INFO:root:sklearn.ensemble.RandomForestClassifier.fit: running accelerated version on CPU\n",
      "INFO:root:sklearn.ensemble.RandomForestClassifier.predict: running accelerated version on CPU\n",
      "INFO:root:sklearn.ensemble.RandomForestClassifier.fit: running accelerated version on CPU\n",
      "INFO:root:sklearn.ensemble.RandomForestClassifier.predict: running accelerated version on CPU\n",
      "INFO:root:sklearn.ensemble.RandomForestClassifier.fit: running accelerated version on CPU\n",
      "INFO:root:sklearn.ensemble.RandomForestClassifier.predict: running accelerated version on CPU\n",
      "INFO:root:sklearn.ensemble.RandomForestClassifier.fit: running accelerated version on CPU\n",
      "INFO:root:sklearn.ensemble.RandomForestClassifier.predict: running accelerated version on CPU\n",
      "INFO:root:sklearn.ensemble.RandomForestClassifier.fit: running accelerated version on CPU\n",
      "INFO:root:sklearn.ensemble.RandomForestClassifier.predict: running accelerated version on CPU\n",
      "INFO:root:sklearn.ensemble.RandomForestClassifier.fit: running accelerated version on CPU\n",
      "INFO:root:sklearn.ensemble.RandomForestClassifier.predict: running accelerated version on CPU\n",
      "INFO:root:sklearn.ensemble.RandomForestClassifier.fit: running accelerated version on CPU\n"
     ]
    },
    {
     "name": "stdout",
     "output_type": "stream",
     "text": [
      "TRAIN- The best parameters are {'classifier__max_depth': 100, 'classifier__n_estimators': 300} with an Kappa-score of 0.5768\n"
     ]
    }
   ],
   "source": [
    "classifier =  RandomForestClassifier(class_weight='balanced') #svm.SVC(class_weight='balanced', probability=True)\n",
    "estimators_range = [100, 200, 300]\n",
    "depth_range = [50, 100, 200]\n",
    "param_grid = {'classifier__n_estimators': estimators_range,\n",
    "                'classifier__max_depth': depth_range}\n",
    "\n",
    "cv = StratifiedKFold(n_splits=10, shuffle=True, random_state=42)\n",
    "\n",
    "pipeline = Pipeline([('scaler', StandardScaler()),('classifier', classifier)])\n",
    "grid_search = GridSearchCV(pipeline, param_grid, cv=cv, refit=True, verbose=1, scoring=kappa_scoring)\n",
    "grid_search.fit(X_train, y_train)\n",
    "\n",
    "print(\"TRAIN- The best parameters are %s with an Kappa-score of %0.4f\"%(grid_search.best_params_, grid_search.best_score_))"
   ]
  },
  {
   "cell_type": "code",
   "execution_count": 10,
   "metadata": {},
   "outputs": [
    {
     "name": "stderr",
     "output_type": "stream",
     "text": [
      "INFO:root:sklearn.ensemble.RandomForestClassifier.predict: running accelerated version on CPU\n",
      "INFO:root:sklearn.ensemble.RandomForestClassifier.predict_proba: running accelerated version on CPU\n",
      "INFO:root:sklearn.ensemble.RandomForestClassifier.predict: running accelerated version on CPU\n",
      "INFO:root:sklearn.ensemble.RandomForestClassifier.predict_proba: running accelerated version on CPU\n",
      "INFO:root:sklearn.metrics.roc_auc_score: fallback to original Scikit-learn\n",
      "INFO:root:sklearn.metrics.roc_auc_score: fallback to original Scikit-learn\n"
     ]
    },
    {
     "name": "stdout",
     "output_type": "stream",
     "text": [
      "F1 Score of train data: 0.9950 Acc: 0.9963172492099298 AUROC: 0.9999986073132697 Kappa: 0.9908278431728615\n",
      "F1 Score of test data: 0.7590 Acc: 0.7381431834158955 AUROC: 0.9208519363140902 Kappa: 0.5579745802378753\n"
     ]
    }
   ],
   "source": [
    "y_train_predicted = grid_search.predict(X_train)\n",
    "y_train_pred_prob = grid_search.predict_proba(X_train)\n",
    "y_test_predicted =  grid_search.predict(X_test)\n",
    "y_test_pred_prob = grid_search.predict_proba(X_test)\n",
    "auroc_train = roc_auc_score(y_train, y_train_pred_prob, multi_class='ovr', average='weighted')\n",
    "auroc_test = roc_auc_score(y_test, y_test_pred_prob, multi_class='ovr', average='weighted')\n",
    "print('F1 Score of train data: %0.4f' %f1_score(y_train,y_train_predicted,average='weighted'), f'Acc: {balanced_accuracy_score(y_train, y_train_predicted,)}', f'AUROC: {auroc_train}', f'Kappa: {cohen_kappa_score(y_train, y_train_predicted)}')\n",
    "print('F1 Score of test data: %0.4f' %f1_score(y_test,y_test_predicted,average='weighted'), f'Acc: {balanced_accuracy_score(y_test, y_test_predicted)}', f'AUROC: {auroc_test}', f'Kappa: {cohen_kappa_score(y_test, y_test_predicted)}')"
   ]
  },
  {
   "cell_type": "code",
   "execution_count": 11,
   "metadata": {},
   "outputs": [
    {
     "name": "stderr",
     "output_type": "stream",
     "text": [
      "INFO:root:sklearn.ensemble.RandomForestClassifier.predict: running accelerated version on CPU\n"
     ]
    },
    {
     "data": {
      "image/png": "[encoded data removed]",
      "text/plain": [
       "<Figure size 640x480 with 2 Axes>"
      ]
     },
     "metadata": {},
     "output_type": "display_data"
    }
   ],
   "source": [
    "ConfusionMatrixDisplay.from_estimator(grid_search, X_test, y_test, display_labels=['bcc', 'mel', 'scc'])\n",
    "plt.show()"
   ]
  },
  {
   "cell_type": "code",
   "execution_count": null,
   "metadata": {},
   "outputs": [],
   "source": []
  }
 ],
 "metadata": {
  "kernelspec": {
   "display_name": "Python 3.9.13 ('cad2')",
   "language": "python",
   "name": "python3"
  },
  "language_info": {
   "codemirror_mode": {
    "name": "ipython",
    "version": 3
   },
   "file_extension": ".py",
   "mimetype": "text/x-python",
   "name": "python",
   "nbconvert_exporter": "python",
   "pygments_lexer": "ipython3",
   "version": "3.9.13"
  },
  "orig_nbformat": 4,
  "vscode": {
   "interpreter": {
    "hash": "a0c90d376db34231447b0a346bd9b020b335514f400822d22910f8af73bdac81"
   }
  }
 },
 "nbformat": 4,
 "nbformat_minor": 2
}
