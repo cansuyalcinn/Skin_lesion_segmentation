{
 "cells": [
  {
   "cell_type": "code",
   "execution_count": 1,
   "metadata": {
    "collapsed": true
   },
   "outputs": [
    {
     "name": "stderr",
     "output_type": "stream",
     "text": [
      "100%|██████████| 1/1 [00:01<00:00,  1.99s/it]\n"
     ]
    }
   ],
   "source": [
    "import cv2\n",
    "import numpy as np\n",
    "import matplotlib.pyplot as plt\n",
    "import pandas as pd\n",
    "from sklearn import preprocessing\n",
    "import skimage\n",
    "from scipy.stats import skew, kurtosis\n",
    "from sklearn import svm\n",
    "from sklearn.metrics import confusion_matrix\n",
    "from sklearn.model_selection import train_test_split\n",
    "from sklearn import metrics\n",
    "from skimage.feature import local_binary_pattern\n",
    "from dataset.dataset import SkinLesion_Dataset, SegExamples\n",
    "from pipeline.preprocessing import SkinLesionPreprocessing\n",
    "from sklearn.model_selection import StratifiedKFold\n",
    "from statistics import stdev\n",
    "from sklearn import linear_model\n",
    "from tqdm import tqdm\n",
    "\n",
    "\n",
    "preproc = SkinLesionPreprocessing()\n",
    "examples = SegExamples()\n",
    "\n",
    "# get features example\n",
    "all_feat = []\n",
    "labels = []\n",
    "\n",
    "radius = 1\n",
    "n_points = 8 * radius\n",
    "lbp_feature_vector=[]\n",
    "\n",
    "for i in tqdm(range(examples.seg_examples_df.shape[0]-67)):\n",
    "\n",
    "    if examples[i]['problem'] != 'binary':\n",
    "        continue\n",
    "\n",
    "    labels.append(examples[i]['label'])\n",
    "\n",
    "    image = examples[i]['img']\n",
    "\n",
    "    image = preproc.preprocess(image) # the img uploaded as numpy array.\n",
    "\n",
    "    gray = cv2.cvtColor(image, cv2.COLOR_BGR2GRAY)\n",
    "\n",
    "    # Blur using 3 * 3 kernel.\n",
    "    gray_blurred = cv2.blur(gray, (3, 3))\n",
    "\n",
    "    cimg = cv2.cvtColor(gray_blurred,cv2.COLOR_GRAY2BGR)\n",
    "    circles = cv2.HoughCircles(gray_blurred,cv2.HOUGH_GRADIENT,1,20,\n",
    "                                param1=50,param2=30,minRadius=0,maxRadius=0)\n",
    "\n",
    "    # circles = np.uint16(np.around(circles))\n",
    "    # for i in circles[0,:]:\n",
    "    #     # draw the outer circle\n",
    "    #     cv2.circle(cimg,(i[0],i[1]),i[2],(0,255,0),2)\n",
    "    #     # draw the center of the circle\n",
    "    #     cv2.circle(cimg,(i[0],i[1]),2,(0,0,255),3)\n",
    "    # cv2.imshow('detected circles',cimg)\n",
    "    # cv2.waitKey(0)\n",
    "    # cv2.destroyAllWindows()\n",
    "\n",
    "    # Draw circles that are detected.\n",
    "    if circles is not None:\n",
    "\n",
    "        # Convert the circle parameters a, b and r to integers.\n",
    "        detected_circles = np.uint16(np.around(circles))\n",
    "\n",
    "        for pt in detected_circles[0, :]:\n",
    "            a, b, r = pt[0], pt[1], pt[2]\n",
    "\n",
    "            # Draw the circumference of the circle.\n",
    "            cv2.circle(cimg, (a, b), r, (0, 255, 0), 2)\n",
    "\n",
    "            # Draw a small circle (of radius 1) to show the center.\n",
    "            cv2.circle(cimg, (a, b), 1, (0, 0, 255), 3)\n",
    "\n",
    "        cv2.imshow(\"Detected Circle\", cimg)\n",
    "        cv2.waitKey(0)\n"
   ]
  }
 ],
 "metadata": {
  "kernelspec": {
   "display_name": "Python 3",
   "language": "python",
   "name": "python3"
  },
  "language_info": {
   "codemirror_mode": {
    "name": "ipython",
    "version": 2
   },
   "file_extension": ".py",
   "mimetype": "text/x-python",
   "name": "python",
   "nbconvert_exporter": "python",
   "pygments_lexer": "ipython2",
   "version": "2.7.6"
  }
 },
 "nbformat": 4,
 "nbformat_minor": 0
}
