{
 "cells": [
  {
   "cell_type": "code",
   "execution_count": 3,
   "metadata": {},
   "outputs": [],
   "source": [
    "import os\n",
    "import sys; sys.path.insert(0, os.path.abspath(\"../../\"))\n",
    "import cv2\n",
    "import numpy as np\n",
    "import pandas as pd\n",
    "import matplotlib.pyplot as plt\n",
    "from tqdm import tqdm\n",
    "from dataset.dataset import SkinLesion_Dataset, SegExamples\n",
    "from pipeline.preprocessing import SkinLesionPreprocessing\n",
    "from pipeline.feature_extraction import FeaturesExtraction\n",
    "from pathlib import Path\n",
    "import time\n",
    "\n",
    "import logging\n",
    "import torch\n",
    "import torchvision\n",
    "\n",
    "import torch.nn as nn\n",
    "import torch.optim as optim\n",
    "\n",
    "from torch.optim import lr_scheduler\n",
    "from torch.utils.data import DataLoader\n",
    "from torchvision.models.detection.rpn import AnchorGenerator"
   ]
  },
  {
   "cell_type": "code",
   "execution_count": null,
   "metadata": {},
   "outputs": [],
   "source": [
    "data2 = SkinLesion_Dataset(class_task='binary',resize_image= False)\n",
    "preproc2 = SkinLesionPreprocessing(resize=True, remove_hair=False)"
   ]
  },
  {
   "cell_type": "code",
   "execution_count": null,
   "metadata": {},
   "outputs": [],
   "source": [
    "datasets = {\n",
    "        'train': SkinLesion_Dataset(class_task='binary',resize_image= False, partitions=['train']),\n",
    "        'val': SkinLesion_Dataset(class_task='binary',resize_image= False, partitions=['val'])\n",
    "        }\n",
    "def collate_fn(batch):\n",
    "        return tuple(zip(*batch))\n",
    "dataloaders = {\n",
    "        'val': DataLoader(\n",
    "            datasets['val'], batch_size=5,\n",
    "            num_workers=4, collate_fn=collate_fn, drop_last=False),\n",
    "        'train': DataLoader(\n",
    "            datasets['train'], batch_size=2,\n",
    "            shuffle=True, collate_fn=collate_fn, num_workers=4, drop_last=False)\n",
    "    }\n"
   ]
  }
 ],
 "metadata": {
  "kernelspec": {
   "display_name": "Python 3.9.13 ('cad2')",
   "language": "python",
   "name": "python3"
  },
  "language_info": {
   "codemirror_mode": {
    "name": "ipython",
    "version": 3
   },
   "file_extension": ".py",
   "mimetype": "text/x-python",
   "name": "python",
   "nbconvert_exporter": "python",
   "pygments_lexer": "ipython3",
   "version": "3.9.13"
  },
  "orig_nbformat": 4,
  "vscode": {
   "interpreter": {
    "hash": "a0c90d376db34231447b0a346bd9b020b335514f400822d22910f8af73bdac81"
   }
  }
 },
 "nbformat": 4,
 "nbformat_minor": 2
}
