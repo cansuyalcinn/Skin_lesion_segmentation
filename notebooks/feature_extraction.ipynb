{
 "cells": [
  {
   "cell_type": "code",
   "execution_count": null,
   "metadata": {
    "collapsed": true
   },
   "outputs": [],
   "source": [
    "# from the segmented image:\n",
    "# the color channel r,g,b = color histogram\n",
    "# mean, mode, std, skewness, energy, entropy, kurtosis\n",
    "# min and max values for each channel.\n",
    "# get the hsv space color info and calculate the same mean, ... for it too.\n",
    "# glcm - contrast, correlation, enegry, homogenity\n",
    "\n"
   ]
  }
 ],
 "metadata": {
  "kernelspec": {
   "display_name": "Python 3",
   "language": "python",
   "name": "python3"
  },
  "language_info": {
   "codemirror_mode": {
    "name": "ipython",
    "version": 2
   },
   "file_extension": ".py",
   "mimetype": "text/x-python",
   "name": "python",
   "nbconvert_exporter": "python",
   "pygments_lexer": "ipython2",
   "version": "2.7.6"
  }
 },
 "nbformat": 4,
 "nbformat_minor": 0
}
