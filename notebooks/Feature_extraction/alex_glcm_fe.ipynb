{
 "cells": [
  {
   "cell_type": "code",
   "execution_count": 1,
   "metadata": {},
   "outputs": [],
   "source": [
    "import os\n",
    "import sys; sys.path.insert(0, os.path.abspath(\"../\"))\n",
    "import cv2\n",
    "import numpy as np \n",
    "import matplotlib.pyplot as plt\n",
    "# from utils.plots import get_image, get_image_and_plot\n",
    "from tqdm import tqdm\n",
    "import pandas as pd\n",
    "from scipy.stats import skew, kurtosis\n",
    "from skimage.measure import shannon_entropy\n",
    "from pipeline.preprocessing import SkinLesionPreprocessing\n",
    "from dataset.dataset import SegExamples\n",
    "from pipeline.feature_extraction import FeaturesExtraction\n",
    "from tqdm import tqdm\n",
    "import pyarrow\n",
    "from skimage.feature import local_binary_pattern, graycomatrix, graycoprops"
   ]
  },
  {
   "cell_type": "code",
   "execution_count": 6,
   "metadata": {},
   "outputs": [],
   "source": [
    "examples = SegExamples()\n",
    "preproc = SkinLesionPreprocessing()\n",
    "cfe = FeaturesExtraction(levels=['global'])"
   ]
  },
  {
   "cell_type": "code",
   "execution_count": 3,
   "metadata": {},
   "outputs": [],
   "source": [
    "image = examples[0]['img']\n",
    "image_p = preproc.preprocess(image)\n",
    "img_gs = cv2.cvtColor(image_p, cv2.COLOR_BGR2GRAY)"
   ]
  },
  {
   "cell_type": "markdown",
   "metadata": {},
   "source": [
    "### GLCM decomp and features"
   ]
  },
  {
   "cell_type": "code",
   "execution_count": 4,
   "metadata": {},
   "outputs": [
    {
     "data": {
      "text/plain": [
       "(256, 256, 2, 4)"
      ]
     },
     "execution_count": 4,
     "metadata": {},
     "output_type": "execute_result"
    }
   ],
   "source": [
    "glcm_decomp = graycomatrix(img_gs, [1, 2], [0, np.pi/4, np.pi/2, np.pi*(0.75)], normed=True)\n",
    "glcm_decomp.shape"
   ]
  },
  {
   "cell_type": "code",
   "execution_count": 5,
   "metadata": {},
   "outputs": [
    {
     "data": {
      "text/plain": [
       "array([3.990215  , 5.26754557, 3.47824852, 6.20035283, 9.41555192,\n",
       "       5.26754557, 8.01418582, 6.20035283])"
      ]
     },
     "execution_count": 5,
     "metadata": {},
     "output_type": "execute_result"
    }
   ],
   "source": [
    "contrast = graycoprops(glcm_decomp, 'contrast')\n",
    "contrast.ravel()"
   ]
  },
  {
   "cell_type": "code",
   "execution_count": 7,
   "metadata": {},
   "outputs": [
    {
     "data": {
      "text/html": [
       "<div>\n",
       "<style scoped>\n",
       "    .dataframe tbody tr th:only-of-type {\n",
       "        vertical-align: middle;\n",
       "    }\n",
       "\n",
       "    .dataframe tbody tr th {\n",
       "        vertical-align: top;\n",
       "    }\n",
       "\n",
       "    .dataframe thead th {\n",
       "        text-align: right;\n",
       "    }\n",
       "</style>\n",
       "<table border=\"1\" class=\"dataframe\">\n",
       "  <thead>\n",
       "    <tr style=\"text-align: right;\">\n",
       "      <th></th>\n",
       "      <th>0</th>\n",
       "    </tr>\n",
       "  </thead>\n",
       "  <tbody>\n",
       "    <tr>\n",
       "      <th>global_rgb_mean_1</th>\n",
       "      <td>152.992157</td>\n",
       "    </tr>\n",
       "    <tr>\n",
       "      <th>global_rgb_mean_2</th>\n",
       "      <td>123.149544</td>\n",
       "    </tr>\n",
       "    <tr>\n",
       "      <th>global_rgb_mean_3</th>\n",
       "      <td>142.798080</td>\n",
       "    </tr>\n",
       "    <tr>\n",
       "      <th>global_rgb_std_1</th>\n",
       "      <td>40.043137</td>\n",
       "    </tr>\n",
       "    <tr>\n",
       "      <th>global_rgb_std_2</th>\n",
       "      <td>38.584644</td>\n",
       "    </tr>\n",
       "    <tr>\n",
       "      <th>...</th>\n",
       "      <td>...</td>\n",
       "    </tr>\n",
       "    <tr>\n",
       "      <th>global_dist1_ang3_correlation</th>\n",
       "      <td>0.997990</td>\n",
       "    </tr>\n",
       "    <tr>\n",
       "      <th>global_dist2_ang0_correlation</th>\n",
       "      <td>0.996947</td>\n",
       "    </tr>\n",
       "    <tr>\n",
       "      <th>global_dist2_ang1_correlation</th>\n",
       "      <td>0.998293</td>\n",
       "    </tr>\n",
       "    <tr>\n",
       "      <th>global_dist2_ang2_correlation</th>\n",
       "      <td>0.997403</td>\n",
       "    </tr>\n",
       "    <tr>\n",
       "      <th>global_dist2_ang3_correlation</th>\n",
       "      <td>0.997990</td>\n",
       "    </tr>\n",
       "  </tbody>\n",
       "</table>\n",
       "<p>128 rows × 1 columns</p>\n",
       "</div>"
      ],
      "text/plain": [
       "                                        0\n",
       "global_rgb_mean_1              152.992157\n",
       "global_rgb_mean_2              123.149544\n",
       "global_rgb_mean_3              142.798080\n",
       "global_rgb_std_1                40.043137\n",
       "global_rgb_std_2                38.584644\n",
       "...                                   ...\n",
       "global_dist1_ang3_correlation    0.997990\n",
       "global_dist2_ang0_correlation    0.996947\n",
       "global_dist2_ang1_correlation    0.998293\n",
       "global_dist2_ang2_correlation    0.997403\n",
       "global_dist2_ang3_correlation    0.997990\n",
       "\n",
       "[128 rows x 1 columns]"
      ]
     },
     "execution_count": 7,
     "metadata": {},
     "output_type": "execute_result"
    }
   ],
   "source": [
    "df = pd.DataFrame([cfe.extract_features(image_p)], columns=cfe.features_names)\n",
    "df.T"
   ]
  }
 ],
 "metadata": {
  "kernelspec": {
   "display_name": "Python 3.9.13 ('cad1')",
   "language": "python",
   "name": "python3"
  },
  "language_info": {
   "codemirror_mode": {
    "name": "ipython",
    "version": 3
   },
   "file_extension": ".py",
   "mimetype": "text/x-python",
   "name": "python",
   "nbconvert_exporter": "python",
   "pygments_lexer": "ipython3",
   "version": "3.9.13"
  },
  "orig_nbformat": 4,
  "vscode": {
   "interpreter": {
    "hash": "a15a68de0844bc5e4a360f39560ca1500be546bde921bc531bbc8feb7772096b"
   }
  }
 },
 "nbformat": 4,
 "nbformat_minor": 2
}
