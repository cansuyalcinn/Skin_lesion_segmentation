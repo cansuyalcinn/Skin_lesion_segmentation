{
 "cells": [
  {
   "cell_type": "code",
   "execution_count": 3,
   "metadata": {
    "collapsed": true
   },
   "outputs": [],
   "source": [
    "import cv2\n",
    "import numpy as np\n",
    "import matplotlib.pyplot as plt\n",
    "import pandas as pd\n",
    "from sklearn import preprocessing\n",
    "import skimage\n",
    "from scipy.stats import skew, kurtosis\n",
    "from sklearn import svm\n",
    "from sklearn.metrics import confusion_matrix\n",
    "from sklearn.model_selection import train_test_split\n",
    "from sklearn import metrics\n",
    "from skimage.feature import local_binary_pattern\n",
    "from dataset.dataset import SkinLesion_Dataset, SegExamples\n",
    "from pipeline.preprocessing import SkinLesionPreprocessing\n",
    "from sklearn.model_selection import StratifiedKFold\n",
    "from statistics import stdev\n",
    "from sklearn import linear_model\n",
    "from tqdm import tqdm\n",
    "\n",
    "\n",
    "preproc = SkinLesionPreprocessing()\n",
    "examples = SegExamples()"
   ]
  },
  {
   "cell_type": "code",
   "execution_count": null,
   "outputs": [],
   "source": [
    "def lbp_function(paths):\n",
    "    radius = 1\n",
    "    n_points = 8 * radius\n",
    "    lbp_feature_vector=[]\n",
    "    for i in paths:\n",
    "        image = cv2.imread(i, cv2.IMREAD_GRAYSCALE) # read image as grayscale\n",
    "        lbp = local_binary_pattern(image, n_points, radius, method=\"uniform\") # 'uniform' is rotation invariant.\n",
    "        hist = np.histogram(lbp.ravel())\n",
    "        feature_array=np.ndarray.tolist(hist[0])\n",
    "        lbp_feature_vector.append(feature_array)\n",
    "    return pd.DataFrame(lbp_feature_vector)"
   ],
   "metadata": {
    "collapsed": false
   }
  },
  {
   "cell_type": "code",
   "execution_count": 30,
   "outputs": [
    {
     "name": "stderr",
     "output_type": "stream",
     "text": [
      " 50%|█████     | 1/2 [00:00<00:00,  1.61it/s]"
     ]
    },
    {
     "name": "stdout",
     "output_type": "stream",
     "text": [
      "(30,)\n"
     ]
    },
    {
     "name": "stderr",
     "output_type": "stream",
     "text": [
      "100%|██████████| 2/2 [00:01<00:00,  1.11it/s]"
     ]
    },
    {
     "name": "stdout",
     "output_type": "stream",
     "text": [
      "(30,)\n"
     ]
    },
    {
     "name": "stderr",
     "output_type": "stream",
     "text": [
      "\n"
     ]
    },
    {
     "data": {
      "text/plain": "      0      1      2      3      4      5      6      7      8      9   ...  \\\n0  17226  22537  15663  24051  25377  27954  24295  25980  32798  48743  ...   \n1   9721  14553   9820  23630  28680  33278  21827  20193  27347  31847  ...   \n\n      20     21     22     23     24     25     26     27     28     29  \n0  18363  23626  14430  21422  22713  24918  23420  27381  37376  50975  \n1  12778  17698   8880  18291  17591  25284  21057  23676  35941  39700  \n\n[2 rows x 30 columns]",
      "text/html": "<div>\n<style scoped>\n    .dataframe tbody tr th:only-of-type {\n        vertical-align: middle;\n    }\n\n    .dataframe tbody tr th {\n        vertical-align: top;\n    }\n\n    .dataframe thead th {\n        text-align: right;\n    }\n</style>\n<table border=\"1\" class=\"dataframe\">\n  <thead>\n    <tr style=\"text-align: right;\">\n      <th></th>\n      <th>0</th>\n      <th>1</th>\n      <th>2</th>\n      <th>3</th>\n      <th>4</th>\n      <th>5</th>\n      <th>6</th>\n      <th>7</th>\n      <th>8</th>\n      <th>9</th>\n      <th>...</th>\n      <th>20</th>\n      <th>21</th>\n      <th>22</th>\n      <th>23</th>\n      <th>24</th>\n      <th>25</th>\n      <th>26</th>\n      <th>27</th>\n      <th>28</th>\n      <th>29</th>\n    </tr>\n  </thead>\n  <tbody>\n    <tr>\n      <th>0</th>\n      <td>17226</td>\n      <td>22537</td>\n      <td>15663</td>\n      <td>24051</td>\n      <td>25377</td>\n      <td>27954</td>\n      <td>24295</td>\n      <td>25980</td>\n      <td>32798</td>\n      <td>48743</td>\n      <td>...</td>\n      <td>18363</td>\n      <td>23626</td>\n      <td>14430</td>\n      <td>21422</td>\n      <td>22713</td>\n      <td>24918</td>\n      <td>23420</td>\n      <td>27381</td>\n      <td>37376</td>\n      <td>50975</td>\n    </tr>\n    <tr>\n      <th>1</th>\n      <td>9721</td>\n      <td>14553</td>\n      <td>9820</td>\n      <td>23630</td>\n      <td>28680</td>\n      <td>33278</td>\n      <td>21827</td>\n      <td>20193</td>\n      <td>27347</td>\n      <td>31847</td>\n      <td>...</td>\n      <td>12778</td>\n      <td>17698</td>\n      <td>8880</td>\n      <td>18291</td>\n      <td>17591</td>\n      <td>25284</td>\n      <td>21057</td>\n      <td>23676</td>\n      <td>35941</td>\n      <td>39700</td>\n    </tr>\n  </tbody>\n</table>\n<p>2 rows × 30 columns</p>\n</div>"
     },
     "execution_count": 30,
     "metadata": {},
     "output_type": "execute_result"
    }
   ],
   "source": [
    "# get features example\n",
    "all_feat = []\n",
    "labels = []\n",
    "\n",
    "radius = 1\n",
    "n_points = 8 * radius\n",
    "lbp_feature_vector=[]\n",
    "\n",
    "for i in tqdm(range(examples.seg_examples_df.shape[0])):\n",
    "\n",
    "    if examples[i]['problem'] != 'binary':\n",
    "        continue\n",
    "\n",
    "    labels.append(examples[i]['label'])\n",
    "\n",
    "    image = examples[i]['img']\n",
    "\n",
    "    image = preproc.preprocess(image) # the img uploaded as numpy array.\n",
    "\n",
    "    lbp1 = local_binary_pattern(image[:,:,0], n_points, radius, method=\"uniform\")\n",
    "    lbp2 = local_binary_pattern(image[:,:,1], n_points, radius, method=\"uniform\")\n",
    "    lbp3 = local_binary_pattern(image[:,:,2], n_points, radius, method=\"uniform\")\n",
    "\n",
    "    hist1 = np.histogram(lbp1.ravel())\n",
    "    hist2 = np.histogram(lbp2.ravel())\n",
    "    hist3 = np.histogram(lbp3.ravel())\n",
    "\n",
    "    feature_array1=np.ndarray.tolist(hist1[0])\n",
    "    feature_array2=np.ndarray.tolist(hist2[0])\n",
    "    feature_array3=np.ndarray.tolist(hist3[0])\n",
    "\n",
    "    lbp_all  = np.concatenate((feature_array1, feature_array2, feature_array3),axis=0)\n",
    "    lbp_feature_vector.append(lbp_all)\n",
    "\n",
    "d = pd.DataFrame(lbp_feature_vector)\n",
    "d"
   ],
   "metadata": {
    "collapsed": false
   }
  }
 ],
 "metadata": {
  "kernelspec": {
   "display_name": "Python 3",
   "language": "python",
   "name": "python3"
  },
  "language_info": {
   "codemirror_mode": {
    "name": "ipython",
    "version": 2
   },
   "file_extension": ".py",
   "mimetype": "text/x-python",
   "name": "python",
   "nbconvert_exporter": "python",
   "pygments_lexer": "ipython2",
   "version": "2.7.6"
  }
 },
 "nbformat": 4,
 "nbformat_minor": 0
}
