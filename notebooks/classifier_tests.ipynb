{
 "cells": [
  {
   "cell_type": "code",
   "execution_count": 22,
   "metadata": {
    "collapsed": true
   },
   "outputs": [],
   "source": [
    "import os\n",
    "import sys; sys.path.insert(0, os.path.abspath(\"../\"))\n",
    "import cv2\n",
    "import numpy as np\n",
    "import pandas as pd\n",
    "from tqdm import tqdm\n",
    "from dataset.dataset import SkinLesion_Dataset, SegExamples\n",
    "from pipeline.preprocessing import SkinLesionPreprocessing\n",
    "from pipeline.feature_extraction import FeaturesExtraction\n",
    "\n",
    "import multiprocessing as mp\n",
    "from tqdm import tqdm\n",
    "\n",
    "from sklearn.model_selection import GridSearchCV, StratifiedKFold\n",
    "from sklearn.ensemble import RandomForestClassifier\n",
    "import pickle\n",
    "from sklearn import preprocessing\n",
    "from sklearn.preprocessing import StandardScaler\n",
    "from sklearn.pipeline import Pipeline\n",
    "from sklearn.metrics import f1_score, accuracy_score\n",
    "from sklearn.model_selection import GridSearchCV\n",
    "from sklearn.preprocessing import OneHotEncoder"
   ]
  },
  {
   "cell_type": "code",
   "execution_count": 2,
   "outputs": [
    {
     "data": {
      "text/plain": "'C:\\\\Users\\\\Lenovo\\\\PycharmProjects\\\\Skin_lesion_segmentation\\\\notebooks'"
     },
     "execution_count": 2,
     "metadata": {},
     "output_type": "execute_result"
    }
   ],
   "source": [
    "pwd"
   ],
   "metadata": {
    "collapsed": false
   }
  },
  {
   "cell_type": "code",
   "execution_count": 18,
   "outputs": [],
   "source": [
    "# Binary feather files\n",
    "train_f = pd.read_feather(\"../data/binary/train_all_feat.f\", columns=None, use_threads=True, storage_options=None)\n",
    "val_f = pd.read_feather(\"../data/binary/val_all_features.f\", columns=None, use_threads=True, storage_options=None)\n",
    "# Multi-class feather files.\n",
    "train_f_mul = pd.read_feather(\"../data/three_class/train_all_feat.f\", columns=None, use_threads=True, storage_options=None)\n",
    "val_f_mul = pd.read_feather(\"../data/three_class/val_all_feat.f\", columns=None, use_threads=True, storage_options=None)"
   ],
   "metadata": {
    "collapsed": false
   }
  },
  {
   "cell_type": "code",
   "execution_count": 20,
   "outputs": [
    {
     "data": {
      "text/plain": "array([0, 0, 0, ..., 2, 2, 2])"
     },
     "execution_count": 20,
     "metadata": {},
     "output_type": "execute_result"
    }
   ],
   "source": [
    "## Pre-processing of the data Encoding\n",
    "# binary case\n",
    "train_f.replace({'nevus': 1, 'others': 0}, inplace=True)\n",
    "val_f.replace({'nevus': 1, 'others': 0}, inplace=True)\n",
    "\n",
    "# multi class case ???\n",
    "\n",
    "## Pre-processing of the data Normalization\n",
    "\n",
    "## Grid search\n",
    "## Stratifed cross validation\n",
    "# cv = StratifiedKFold(n_splits=10, shuffle=True, random_state=42)\n",
    "## Classifiers\n",
    "## Predictions and Metric Calculations\n",
    "## Val data testing\n"
   ],
   "metadata": {
    "collapsed": false
   }
  }
 ],
 "metadata": {
  "kernelspec": {
   "display_name": "Python 3",
   "language": "python",
   "name": "python3"
  },
  "language_info": {
   "codemirror_mode": {
    "name": "ipython",
    "version": 2
   },
   "file_extension": ".py",
   "mimetype": "text/x-python",
   "name": "python",
   "nbconvert_exporter": "python",
   "pygments_lexer": "ipython2",
   "version": "2.7.6"
  }
 },
 "nbformat": 4,
 "nbformat_minor": 0
}
