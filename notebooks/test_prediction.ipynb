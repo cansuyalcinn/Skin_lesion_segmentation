{
 "cells": [
  {
   "cell_type": "code",
   "execution_count": 1,
   "metadata": {},
   "outputs": [],
   "source": [
    "# from sklearnex import patch_sklearn\n",
    "# patch_sklearn()"
   ]
  },
  {
   "cell_type": "code",
   "execution_count": 1,
   "metadata": {},
   "outputs": [],
   "source": [
    "import os\n",
    "import sys; sys.path.insert(0, os.path.abspath(\"../\"))\n",
    "import cv2\n",
    "import numpy as np\n",
    "import pandas as pd\n",
    "import matplotlib.pyplot as plt\n",
    "from tqdm import tqdm\n",
    "from sklearn.pipeline import Pipeline\n",
    "\n",
    "from pipeline.preprocessing import SkinLesionPreprocessing\n",
    "from pipeline.feature_extraction import FeaturesExtraction"
   ]
  },
  {
   "cell_type": "code",
   "execution_count": 2,
   "metadata": {},
   "outputs": [
    {
     "name": "stdout",
     "output_type": "stream",
     "text": [
      "2121 ['../data/three_class/test/testX/xxx00001.jpg', '../data/three_class/test/testX/xxx00002.jpg', '../data/three_class/test/testX/xxx00003.jpg', '../data/three_class/test/testX/xxx00004.jpg', '../data/three_class/test/testX/xxx00005.jpg', '../data/three_class/test/testX/xxx00006.jpg', '../data/three_class/test/testX/xxx00007.jpg', '../data/three_class/test/testX/xxx00008.jpg', '../data/three_class/test/testX/xxx00009.jpg', '../data/three_class/test/testX/xxx00010.jpg']\n"
     ]
    }
   ],
   "source": [
    "def load_images_from_folder(folder):\n",
    "    images=[]\n",
    "    for filename in os.listdir(folder):\n",
    "        full_path = folder + filename\n",
    "        images.append(full_path)\n",
    "    return images\n",
    "\n",
    "path = '../data/three_class/test/testX/'\n",
    "images_folder = sorted(load_images_from_folder(path))\n",
    "print(np.size(images_folder), images_folder[:10])"
   ]
  },
  {
   "cell_type": "code",
   "execution_count": 3,
   "metadata": {},
   "outputs": [
    {
     "name": "stdout",
     "output_type": "stream",
     "text": [
      "143\n"
     ]
    }
   ],
   "source": [
    "preproc = SkinLesionPreprocessing()\n",
    "cfe = FeaturesExtraction(levels=['global'])\n",
    "print(len(cfe.features_names))"
   ]
  },
  {
   "cell_type": "code",
   "execution_count": 4,
   "metadata": {},
   "outputs": [
    {
     "name": "stderr",
     "output_type": "stream",
     "text": [
      "100%|██████████| 2121/2121 [25:29<00:00,  1.39it/s]\n"
     ]
    }
   ],
   "source": [
    "features = []\n",
    "file_names = []\n",
    "for idx, img_path in tqdm(enumerate(images_folder), total=len(images_folder)):\n",
    "    img = cv2.imread(str(img_path), cv2.IMREAD_COLOR)\n",
    "    file_names.append(img_path.split('/')[-1])\n",
    "    height, width, ch = img.shape\n",
    "    img_resized = cv2.resize(img,(int(width/2),int(height/2)), interpolation=cv2.INTER_AREA)\n",
    "    img_preproc = preproc.preprocess(img_resized)\n",
    "    features.append(cfe.extract_features(img_preproc))\n",
    "\n",
    "\n",
    "df = pd.DataFrame(features, columns=cfe.features_names)\n",
    "df['file_name'] = file_names\n",
    "df.to_feather('../data/three_class/test_all_global_feat.f') "
   ]
  },
  {
   "cell_type": "code",
   "execution_count": 3,
   "metadata": {},
   "outputs": [
    {
     "name": "stdout",
     "output_type": "stream",
     "text": [
      "60\n"
     ]
    }
   ],
   "source": [
    "preproc = SkinLesionPreprocessing()\n",
    "cfe = FeaturesExtraction(levels=['local'], lbp_params={}, glcm_params={}, gabor_params={})\n",
    "print(len(cfe.features_names))"
   ]
  },
  {
   "cell_type": "code",
   "execution_count": 4,
   "metadata": {},
   "outputs": [
    {
     "name": "stderr",
     "output_type": "stream",
     "text": [
      "100%|██████████| 2121/2121 [12:57<00:00,  2.73it/s]\n"
     ]
    }
   ],
   "source": [
    "features = []\n",
    "file_names = []\n",
    "for idx, img_path in tqdm(enumerate(images_folder), total= len(images_folder)):\n",
    "    img = cv2.imread(str(img_path), cv2.IMREAD_COLOR)\n",
    "    file_names.append(img_path.split('/')[-1])\n",
    "    height, width, ch = img.shape\n",
    "    img_resized = cv2.resize(img,(int(width/2),int(height/2)), interpolation=cv2.INTER_AREA)\n",
    "    img_preproc = preproc.preprocess(img_resized)\n",
    "    mask = preproc.get_seg_mask(img_preproc)\n",
    "    features.append(cfe.extract_features(img_preproc, mask))\n",
    "\n",
    "\n",
    "df = pd.DataFrame(features, columns=cfe.features_names)\n",
    "df['file_name'] = file_names\n",
    "df.to_feather('../data/three_class/test_color_local_feat.f') "
   ]
  },
  {
   "cell_type": "code",
   "execution_count": 22,
   "metadata": {},
   "outputs": [],
   "source": [
    "# test_df_1 = pd.read_feather(\"../data/binary/test_all_global_feat.f\")\n",
    "# test_df_2 = pd.read_feather(\"../data/binary/test_color_local_feat.f\")\n",
    "\n",
    "# test_df = pd.concat([test_df_2.iloc[:,:60], test_df_1], axis=1)\n",
    "# test_shape = test_df.shape\n",
    "# file_names_df = test_df_1.iloc[:,-1]\n",
    "\n",
    "# X_test = test_df.iloc[:, :(test_shape[1]-1)].to_numpy(dtype=np.float32)\n",
    "\n",
    "# # here goes your classifier\n",
    "# y_pred = classifier.predict(X_test)\n",
    "\n",
    "# test_results = pd.DataFrame({'file_name': list(file_names_df), 'pred': list(y_pred)})\n",
    "# test_results.to_excel('binary_test_pred.xlsx')\n"
   ]
  },
  {
   "cell_type": "code",
   "execution_count": null,
   "metadata": {},
   "outputs": [],
   "source": []
  }
 ],
 "metadata": {
  "kernelspec": {
   "display_name": "Python 3.9.13 ('cad2')",
   "language": "python",
   "name": "python3"
  },
  "language_info": {
   "codemirror_mode": {
    "name": "ipython",
    "version": 3
   },
   "file_extension": ".py",
   "mimetype": "text/x-python",
   "name": "python",
   "nbconvert_exporter": "python",
   "pygments_lexer": "ipython3",
   "version": "3.9.13"
  },
  "orig_nbformat": 4,
  "vscode": {
   "interpreter": {
    "hash": "a0c90d376db34231447b0a346bd9b020b335514f400822d22910f8af73bdac81"
   }
  }
 },
 "nbformat": 4,
 "nbformat_minor": 2
}
