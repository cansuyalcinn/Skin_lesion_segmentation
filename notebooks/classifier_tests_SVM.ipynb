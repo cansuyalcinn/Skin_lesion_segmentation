{
 "cells": [
  {
   "cell_type": "code",
   "execution_count": 1,
   "outputs": [
    {
     "ename": "KeyboardInterrupt",
     "evalue": "",
     "output_type": "error",
     "traceback": [
      "\u001B[1;31m---------------------------------------------------------------------------\u001B[0m",
      "\u001B[1;31mKeyboardInterrupt\u001B[0m                         Traceback (most recent call last)",
      "Cell \u001B[1;32mIn [1], line 1\u001B[0m\n\u001B[1;32m----> 1\u001B[0m \u001B[38;5;28;01mfrom\u001B[39;00m \u001B[38;5;21;01msklearnex\u001B[39;00m \u001B[38;5;28;01mimport\u001B[39;00m patch_sklearn\n\u001B[0;32m      2\u001B[0m patch_sklearn\n",
      "File \u001B[1;32m~\\.virtualenvs\\Skin_lesion_segmentation\\lib\\site-packages\\sklearnex\\__init__.py:18\u001B[0m\n\u001B[0;32m      1\u001B[0m \u001B[38;5;66;03m#!/usr/bin/env python\u001B[39;00m\n\u001B[0;32m      2\u001B[0m \u001B[38;5;66;03m#===============================================================================\u001B[39;00m\n\u001B[0;32m      3\u001B[0m \u001B[38;5;66;03m# Copyright 2021 Intel Corporation\u001B[39;00m\n\u001B[1;32m   (...)\u001B[0m\n\u001B[0;32m     15\u001B[0m \u001B[38;5;66;03m# limitations under the License.\u001B[39;00m\n\u001B[0;32m     16\u001B[0m \u001B[38;5;66;03m#===============================================================================\u001B[39;00m\n\u001B[1;32m---> 18\u001B[0m \u001B[38;5;28;01mfrom\u001B[39;00m \u001B[38;5;21;01m.\u001B[39;00m\u001B[38;5;21;01mdispatcher\u001B[39;00m \u001B[38;5;28;01mimport\u001B[39;00m patch_sklearn\n\u001B[0;32m     19\u001B[0m \u001B[38;5;28;01mfrom\u001B[39;00m \u001B[38;5;21;01m.\u001B[39;00m\u001B[38;5;21;01mdispatcher\u001B[39;00m \u001B[38;5;28;01mimport\u001B[39;00m unpatch_sklearn\n\u001B[0;32m     20\u001B[0m \u001B[38;5;28;01mfrom\u001B[39;00m \u001B[38;5;21;01m.\u001B[39;00m\u001B[38;5;21;01mdispatcher\u001B[39;00m \u001B[38;5;28;01mimport\u001B[39;00m get_patch_names\n",
      "File \u001B[1;32m~\\.virtualenvs\\Skin_lesion_segmentation\\lib\\site-packages\\sklearnex\\dispatcher.py:22\u001B[0m\n\u001B[0;32m     20\u001B[0m \u001B[38;5;28;01mimport\u001B[39;00m \u001B[38;5;21;01mos\u001B[39;00m\n\u001B[0;32m     21\u001B[0m \u001B[38;5;28;01mfrom\u001B[39;00m \u001B[38;5;21;01mfunctools\u001B[39;00m \u001B[38;5;28;01mimport\u001B[39;00m lru_cache\n\u001B[1;32m---> 22\u001B[0m \u001B[38;5;28;01mfrom\u001B[39;00m \u001B[38;5;21;01mdaal4py\u001B[39;00m\u001B[38;5;21;01m.\u001B[39;00m\u001B[38;5;21;01msklearn\u001B[39;00m\u001B[38;5;21;01m.\u001B[39;00m\u001B[38;5;21;01m_utils\u001B[39;00m \u001B[38;5;28;01mimport\u001B[39;00m daal_check_version, sklearn_check_version\n\u001B[0;32m     25\u001B[0m \u001B[38;5;28;01mdef\u001B[39;00m \u001B[38;5;21m_is_new_patching_available\u001B[39m():\n\u001B[0;32m     26\u001B[0m     \u001B[38;5;28;01mreturn\u001B[39;00m os\u001B[38;5;241m.\u001B[39menviron\u001B[38;5;241m.\u001B[39mget(\u001B[38;5;124m'\u001B[39m\u001B[38;5;124mOFF_ONEDAL_IFACE\u001B[39m\u001B[38;5;124m'\u001B[39m) \u001B[38;5;129;01mis\u001B[39;00m \u001B[38;5;28;01mNone\u001B[39;00m \\\n\u001B[0;32m     27\u001B[0m         \u001B[38;5;129;01mand\u001B[39;00m daal_check_version((\u001B[38;5;241m2021\u001B[39m, \u001B[38;5;124m'\u001B[39m\u001B[38;5;124mP\u001B[39m\u001B[38;5;124m'\u001B[39m, \u001B[38;5;241m300\u001B[39m))\n",
      "File \u001B[1;32m~\\.virtualenvs\\Skin_lesion_segmentation\\lib\\site-packages\\daal4py\\sklearn\\__init__.py:17\u001B[0m\n\u001B[0;32m      1\u001B[0m \u001B[38;5;66;03m#===============================================================================\u001B[39;00m\n\u001B[0;32m      2\u001B[0m \u001B[38;5;66;03m# Copyright 2014 Intel Corporation\u001B[39;00m\n\u001B[0;32m      3\u001B[0m \u001B[38;5;66;03m#\u001B[39;00m\n\u001B[1;32m   (...)\u001B[0m\n\u001B[0;32m     14\u001B[0m \u001B[38;5;66;03m# limitations under the License.\u001B[39;00m\n\u001B[0;32m     15\u001B[0m \u001B[38;5;66;03m#===============================================================================\u001B[39;00m\n\u001B[1;32m---> 17\u001B[0m \u001B[38;5;28;01mfrom\u001B[39;00m \u001B[38;5;21;01m.\u001B[39;00m\u001B[38;5;21;01mmonkeypatch\u001B[39;00m\u001B[38;5;21;01m.\u001B[39;00m\u001B[38;5;21;01mdispatcher\u001B[39;00m \u001B[38;5;28;01mimport\u001B[39;00m enable \u001B[38;5;28;01mas\u001B[39;00m patch_sklearn\n\u001B[0;32m     18\u001B[0m \u001B[38;5;28;01mfrom\u001B[39;00m \u001B[38;5;21;01m.\u001B[39;00m\u001B[38;5;21;01mmonkeypatch\u001B[39;00m\u001B[38;5;21;01m.\u001B[39;00m\u001B[38;5;21;01mdispatcher\u001B[39;00m \u001B[38;5;28;01mimport\u001B[39;00m disable \u001B[38;5;28;01mas\u001B[39;00m unpatch_sklearn\n\u001B[0;32m     19\u001B[0m \u001B[38;5;28;01mfrom\u001B[39;00m \u001B[38;5;21;01m.\u001B[39;00m\u001B[38;5;21;01mmonkeypatch\u001B[39;00m\u001B[38;5;21;01m.\u001B[39;00m\u001B[38;5;21;01mdispatcher\u001B[39;00m \u001B[38;5;28;01mimport\u001B[39;00m _patch_names \u001B[38;5;28;01mas\u001B[39;00m sklearn_patch_names\n",
      "File \u001B[1;32m~\\.virtualenvs\\Skin_lesion_segmentation\\lib\\site-packages\\daal4py\\sklearn\\monkeypatch\\dispatcher.py:28\u001B[0m\n\u001B[0;32m     26\u001B[0m \u001B[38;5;28;01mfrom\u001B[39;00m \u001B[38;5;21;01m.\u001B[39;00m\u001B[38;5;21;01m.\u001B[39;00m\u001B[38;5;21;01mmetrics\u001B[39;00m \u001B[38;5;28;01mimport\u001B[39;00m _daal_roc_auc_score\n\u001B[0;32m     27\u001B[0m \u001B[38;5;28;01mfrom\u001B[39;00m \u001B[38;5;21;01m.\u001B[39;00m\u001B[38;5;21;01m.\u001B[39;00m\u001B[38;5;21;01mmetrics\u001B[39;00m \u001B[38;5;28;01mimport\u001B[39;00m daal_pairwise_distances\n\u001B[1;32m---> 28\u001B[0m \u001B[38;5;28;01mfrom\u001B[39;00m \u001B[38;5;21;01m.\u001B[39;00m\u001B[38;5;21;01m.\u001B[39;00m\u001B[38;5;21;01mcluster\u001B[39;00m\u001B[38;5;21;01m.\u001B[39;00m\u001B[38;5;21;01mk_means\u001B[39;00m \u001B[38;5;28;01mimport\u001B[39;00m KMeans \u001B[38;5;28;01mas\u001B[39;00m KMeans_daal4py\n\u001B[0;32m     29\u001B[0m \u001B[38;5;28;01mfrom\u001B[39;00m \u001B[38;5;21;01m.\u001B[39;00m\u001B[38;5;21;01m.\u001B[39;00m\u001B[38;5;21;01mcluster\u001B[39;00m\u001B[38;5;21;01m.\u001B[39;00m\u001B[38;5;21;01mdbscan\u001B[39;00m \u001B[38;5;28;01mimport\u001B[39;00m DBSCAN \u001B[38;5;28;01mas\u001B[39;00m DBSCAN_daal4py\n\u001B[0;32m     30\u001B[0m \u001B[38;5;28;01mfrom\u001B[39;00m \u001B[38;5;21;01m.\u001B[39;00m\u001B[38;5;21;01m.\u001B[39;00m\u001B[38;5;21;01mlinear_model\u001B[39;00m\u001B[38;5;21;01m.\u001B[39;00m\u001B[38;5;21;01mcoordinate_descent\u001B[39;00m \u001B[38;5;28;01mimport\u001B[39;00m Lasso \u001B[38;5;28;01mas\u001B[39;00m Lasso_daal4py\n",
      "File \u001B[1;32m~\\.virtualenvs\\Skin_lesion_segmentation\\lib\\site-packages\\daal4py\\sklearn\\cluster\\__init__.py:18\u001B[0m\n\u001B[0;32m      1\u001B[0m \u001B[38;5;66;03m#!/usr/bin/env python\u001B[39;00m\n\u001B[0;32m      2\u001B[0m \u001B[38;5;66;03m#===============================================================================\u001B[39;00m\n\u001B[0;32m      3\u001B[0m \u001B[38;5;66;03m# Copyright 2014 Intel Corporation\u001B[39;00m\n\u001B[1;32m   (...)\u001B[0m\n\u001B[0;32m     15\u001B[0m \u001B[38;5;66;03m# limitations under the License.\u001B[39;00m\n\u001B[0;32m     16\u001B[0m \u001B[38;5;66;03m#===============================================================================\u001B[39;00m\n\u001B[1;32m---> 18\u001B[0m \u001B[38;5;28;01mfrom\u001B[39;00m \u001B[38;5;21;01m.\u001B[39;00m\u001B[38;5;21;01mk_means\u001B[39;00m \u001B[38;5;28;01mimport\u001B[39;00m KMeans\n\u001B[0;32m     19\u001B[0m \u001B[38;5;28;01mfrom\u001B[39;00m \u001B[38;5;21;01m.\u001B[39;00m\u001B[38;5;21;01mdbscan\u001B[39;00m \u001B[38;5;28;01mimport\u001B[39;00m DBSCAN\n\u001B[0;32m     20\u001B[0m __all__ \u001B[38;5;241m=\u001B[39m [\u001B[38;5;124m'\u001B[39m\u001B[38;5;124mKMeans\u001B[39m\u001B[38;5;124m'\u001B[39m, \u001B[38;5;124m'\u001B[39m\u001B[38;5;124mDBSCAN\u001B[39m\u001B[38;5;124m'\u001B[39m]\n",
      "File \u001B[1;32m~\\.virtualenvs\\Skin_lesion_segmentation\\lib\\site-packages\\daal4py\\sklearn\\cluster\\k_means.py:20\u001B[0m\n\u001B[0;32m     17\u001B[0m \u001B[38;5;28;01mfrom\u001B[39;00m \u001B[38;5;21;01mdaal4py\u001B[39;00m\u001B[38;5;21;01m.\u001B[39;00m\u001B[38;5;21;01msklearn\u001B[39;00m\u001B[38;5;21;01m.\u001B[39;00m\u001B[38;5;21;01m_utils\u001B[39;00m \u001B[38;5;28;01mimport\u001B[39;00m sklearn_check_version\n\u001B[0;32m     19\u001B[0m \u001B[38;5;28;01mif\u001B[39;00m sklearn_check_version(\u001B[38;5;124m'\u001B[39m\u001B[38;5;124m0.23\u001B[39m\u001B[38;5;124m'\u001B[39m):\n\u001B[1;32m---> 20\u001B[0m     \u001B[38;5;28;01mfrom\u001B[39;00m \u001B[38;5;21;01m.\u001B[39;00m\u001B[38;5;21;01m_k_means_0_23\u001B[39;00m \u001B[38;5;28;01mimport\u001B[39;00m \u001B[38;5;241m*\u001B[39m\n\u001B[0;32m     21\u001B[0m \u001B[38;5;28;01melse\u001B[39;00m:\n\u001B[0;32m     22\u001B[0m     \u001B[38;5;28;01mfrom\u001B[39;00m \u001B[38;5;21;01m.\u001B[39;00m\u001B[38;5;21;01m_k_means_0_22\u001B[39;00m \u001B[38;5;28;01mimport\u001B[39;00m \u001B[38;5;241m*\u001B[39m\n",
      "File \u001B[1;32m~\\.virtualenvs\\Skin_lesion_segmentation\\lib\\site-packages\\daal4py\\sklearn\\cluster\\_k_means_0_23.py:28\u001B[0m\n\u001B[0;32m     22\u001B[0m \u001B[38;5;28;01mfrom\u001B[39;00m \u001B[38;5;21;01msklearn\u001B[39;00m\u001B[38;5;21;01m.\u001B[39;00m\u001B[38;5;21;01mutils\u001B[39;00m\u001B[38;5;21;01m.\u001B[39;00m\u001B[38;5;21;01msparsefuncs\u001B[39;00m \u001B[38;5;28;01mimport\u001B[39;00m mean_variance_axis\n\u001B[0;32m     23\u001B[0m \u001B[38;5;28;01mfrom\u001B[39;00m \u001B[38;5;21;01msklearn\u001B[39;00m\u001B[38;5;21;01m.\u001B[39;00m\u001B[38;5;21;01mutils\u001B[39;00m\u001B[38;5;21;01m.\u001B[39;00m\u001B[38;5;21;01mvalidation\u001B[39;00m \u001B[38;5;28;01mimport\u001B[39;00m (\n\u001B[0;32m     24\u001B[0m     check_is_fitted,\n\u001B[0;32m     25\u001B[0m     _num_samples,\n\u001B[0;32m     26\u001B[0m     _deprecate_positional_args)\n\u001B[1;32m---> 28\u001B[0m \u001B[38;5;28;01mfrom\u001B[39;00m \u001B[38;5;21;01msklearn\u001B[39;00m\u001B[38;5;21;01m.\u001B[39;00m\u001B[38;5;21;01mcluster\u001B[39;00m\u001B[38;5;21;01m.\u001B[39;00m\u001B[38;5;21;01m_kmeans\u001B[39;00m \u001B[38;5;28;01mimport\u001B[39;00m _labels_inertia\n\u001B[0;32m     29\u001B[0m \u001B[38;5;28;01mfrom\u001B[39;00m \u001B[38;5;21;01msklearn\u001B[39;00m\u001B[38;5;21;01m.\u001B[39;00m\u001B[38;5;21;01mutils\u001B[39;00m\u001B[38;5;21;01m.\u001B[39;00m\u001B[38;5;21;01m_openmp_helpers\u001B[39;00m \u001B[38;5;28;01mimport\u001B[39;00m _openmp_effective_n_threads\n\u001B[0;32m     31\u001B[0m \u001B[38;5;28;01mfrom\u001B[39;00m \u001B[38;5;21;01msklearn\u001B[39;00m\u001B[38;5;21;01m.\u001B[39;00m\u001B[38;5;21;01mexceptions\u001B[39;00m \u001B[38;5;28;01mimport\u001B[39;00m ConvergenceWarning\n",
      "File \u001B[1;32m~\\.virtualenvs\\Skin_lesion_segmentation\\lib\\site-packages\\sklearn\\cluster\\__init__.py:6\u001B[0m\n\u001B[0;32m      1\u001B[0m \u001B[38;5;124;03m\"\"\"\u001B[39;00m\n\u001B[0;32m      2\u001B[0m \u001B[38;5;124;03mThe :mod:`sklearn.cluster` module gathers popular unsupervised clustering\u001B[39;00m\n\u001B[0;32m      3\u001B[0m \u001B[38;5;124;03malgorithms.\u001B[39;00m\n\u001B[0;32m      4\u001B[0m \u001B[38;5;124;03m\"\"\"\u001B[39;00m\n\u001B[1;32m----> 6\u001B[0m \u001B[38;5;28;01mfrom\u001B[39;00m \u001B[38;5;21;01m.\u001B[39;00m\u001B[38;5;21;01m_spectral\u001B[39;00m \u001B[38;5;28;01mimport\u001B[39;00m spectral_clustering, SpectralClustering\n\u001B[0;32m      7\u001B[0m \u001B[38;5;28;01mfrom\u001B[39;00m \u001B[38;5;21;01m.\u001B[39;00m\u001B[38;5;21;01m_mean_shift\u001B[39;00m \u001B[38;5;28;01mimport\u001B[39;00m mean_shift, MeanShift, estimate_bandwidth, get_bin_seeds\n\u001B[0;32m      8\u001B[0m \u001B[38;5;28;01mfrom\u001B[39;00m \u001B[38;5;21;01m.\u001B[39;00m\u001B[38;5;21;01m_affinity_propagation\u001B[39;00m \u001B[38;5;28;01mimport\u001B[39;00m affinity_propagation, AffinityPropagation\n",
      "File \u001B[1;32m~\\.virtualenvs\\Skin_lesion_segmentation\\lib\\site-packages\\sklearn\\cluster\\_spectral.py:21\u001B[0m\n\u001B[0;32m     19\u001B[0m \u001B[38;5;28;01mfrom\u001B[39;00m \u001B[38;5;21;01m.\u001B[39;00m\u001B[38;5;21;01m.\u001B[39;00m\u001B[38;5;21;01mmetrics\u001B[39;00m\u001B[38;5;21;01m.\u001B[39;00m\u001B[38;5;21;01mpairwise\u001B[39;00m \u001B[38;5;28;01mimport\u001B[39;00m pairwise_kernels\n\u001B[0;32m     20\u001B[0m \u001B[38;5;28;01mfrom\u001B[39;00m \u001B[38;5;21;01m.\u001B[39;00m\u001B[38;5;21;01m.\u001B[39;00m\u001B[38;5;21;01mneighbors\u001B[39;00m \u001B[38;5;28;01mimport\u001B[39;00m kneighbors_graph, NearestNeighbors\n\u001B[1;32m---> 21\u001B[0m \u001B[38;5;28;01mfrom\u001B[39;00m \u001B[38;5;21;01m.\u001B[39;00m\u001B[38;5;21;01m.\u001B[39;00m\u001B[38;5;21;01mmanifold\u001B[39;00m \u001B[38;5;28;01mimport\u001B[39;00m spectral_embedding\n\u001B[0;32m     22\u001B[0m \u001B[38;5;28;01mfrom\u001B[39;00m \u001B[38;5;21;01m.\u001B[39;00m\u001B[38;5;21;01m_kmeans\u001B[39;00m \u001B[38;5;28;01mimport\u001B[39;00m k_means\n\u001B[0;32m     25\u001B[0m \u001B[38;5;28;01mdef\u001B[39;00m \u001B[38;5;21mcluster_qr\u001B[39m(vectors):\n",
      "File \u001B[1;32m<frozen importlib._bootstrap>:1007\u001B[0m, in \u001B[0;36m_find_and_load\u001B[1;34m(name, import_)\u001B[0m\n",
      "File \u001B[1;32m<frozen importlib._bootstrap>:986\u001B[0m, in \u001B[0;36m_find_and_load_unlocked\u001B[1;34m(name, import_)\u001B[0m\n",
      "File \u001B[1;32m<frozen importlib._bootstrap>:680\u001B[0m, in \u001B[0;36m_load_unlocked\u001B[1;34m(spec)\u001B[0m\n",
      "File \u001B[1;32m<frozen importlib._bootstrap_external>:846\u001B[0m, in \u001B[0;36mexec_module\u001B[1;34m(self, module)\u001B[0m\n",
      "File \u001B[1;32m<frozen importlib._bootstrap_external>:941\u001B[0m, in \u001B[0;36mget_code\u001B[1;34m(self, fullname)\u001B[0m\n",
      "File \u001B[1;32m<frozen importlib._bootstrap_external>:1039\u001B[0m, in \u001B[0;36mget_data\u001B[1;34m(self, path)\u001B[0m\n",
      "\u001B[1;31mKeyboardInterrupt\u001B[0m: "
     ]
    }
   ],
   "source": [
    "from sklearnex import patch_sklearn\n",
    "patch_sklearn"
   ],
   "metadata": {
    "collapsed": false
   }
  },
  {
   "cell_type": "code",
   "execution_count": null,
   "outputs": [],
   "source": [
    "import os\n",
    "import sys; sys.path.insert(0, os.path.abspath(\"../\"))\n",
    "import cv2\n",
    "import numpy as np\n",
    "from sklearn import svm\n",
    "import pandas as pd\n",
    "from tqdm import tqdm\n",
    "from dataset.dataset import SkinLesion_Dataset, SegExamples\n",
    "from pipeline.preprocessing import SkinLesionPreprocessing\n",
    "from pipeline.feature_extraction import FeaturesExtraction\n",
    "\n",
    "import multiprocessing as mp\n",
    "from tqdm import tqdm\n",
    "\n",
    "from sklearn.model_selection import GridSearchCV, StratifiedKFold\n",
    "from sklearn.ensemble import RandomForestClassifier\n",
    "import pickle\n",
    "from sklearn import preprocessing\n",
    "from sklearn.preprocessing import StandardScaler\n",
    "from sklearn.pipeline import Pipeline\n",
    "from sklearn.metrics import f1_score, accuracy_score\n",
    "from sklearn.model_selection import GridSearchCV\n",
    "from sklearn.preprocessing import OneHotEncoder\n",
    "from sklearn.model_selection import GridSearchCV, StratifiedKFold\n",
    "from sklearn.ensemble import RandomForestClassifier\n",
    "import pickle\n",
    "from sklearn.svm import LinearSVC\n",
    "from sklearn import preprocessing\n",
    "from sklearn.preprocessing import StandardScaler\n",
    "from sklearn.pipeline import Pipeline\n",
    "from sklearn.metrics import f1_score, accuracy_score\n",
    "from sklearn.feature_selection import VarianceThreshold\n",
    "from sklearn.feature_selection import SelectFromModel"
   ],
   "metadata": {
    "collapsed": false
   }
  },
  {
   "cell_type": "code",
   "execution_count": null,
   "outputs": [],
   "source": [
    "# Binary feather files\n",
    "train_f = pd.read_feather(\"../data/binary/train_all_feat.f\", columns=None, use_threads=True, storage_options=None)\n",
    "val_f = pd.read_feather(\"../data/binary/val_all_features.f\", columns=None, use_threads=True, storage_options=None)\n",
    "train_shape = train_f.shape\n",
    "val_shape = val_f.shape\n",
    "print(f'train shape: {train_shape}, val shape: {val_shape}')\n",
    "# Multi-class feather files.\n",
    "train_f_mul = pd.read_feather(\"../data/three_class/train_all_feat.f\", columns=None, use_threads=True, storage_options=None)\n",
    "val_f_mul = pd.read_feather(\"../data/three_class/val_all_feat.f\", columns=None, use_threads=True, storage_options=None)\n",
    "train_shape_m = train_f_mul.shape\n",
    "val_shape_m = val_f_mul.shape\n",
    "print(f'train shape multi: {train_shape_m}, val shape multi: {val_shape_m}')"
   ],
   "metadata": {
    "collapsed": false
   }
  },
  {
   "cell_type": "code",
   "execution_count": null,
   "outputs": [],
   "source": [
    "## Pre-processing\n",
    "# Binary case\n",
    "train_f.replace({'nevus': 1, 'others': 0}, inplace=True)\n",
    "val_f.replace({'nevus': 1, 'others': 0}, inplace=True)\n",
    "\n",
    "df_train = train_f.iloc[:train_shape[0], :].sample(frac=1, random_state=42)\n",
    "df_val = val_f.iloc[:val_shape[0], :].sample(frac=1, random_state=42)\n",
    "print(f\"df_train: {df_train.shape}, df_val: {df_val.shape}\")\n",
    "\n",
    "X_train, y_train = df_train.iloc[:, :(train_shape[1]-1)].to_numpy(dtype=np.float32), df_train.iloc[:, (train_shape[1]-1)].to_numpy()\n",
    "X_test, y_test = df_val.iloc[:, :(val_shape[1]-1)].to_numpy(dtype= np.float32), df_val.iloc[:, (val_shape[1]-1)].to_numpy()\n",
    "\n",
    "print(f'X_train_new: {X_train.dtype}, y_train: {y_train.shape}, X_test_new: {X_test.shape}, y_test: {y_test.shape}')\n",
    "\n",
    "X_train_f = pd.DataFrame(X_train)\n",
    "X_test_f = pd.DataFrame(X_test)\n",
    "y_train_f = pd.DataFrame(y_train)\n",
    "y_test_f = pd.DataFrame(y_test)\n",
    "frames = [X_train_f, X_test_f]\n",
    "f = [y_train_f, y_test_f]\n",
    "X = pd.concat(frames)\n",
    "y = pd.concat(f)\n",
    "\n",
    "# Feature Selection -- VARIANCE THRESHOLD\n",
    "sel_var = VarianceThreshold(threshold=(.8 * (1 - .8)))\n",
    "X_var= sel_var.fit_transform(X)\n",
    "print(f'X_var: {X_var.shape}')\n",
    "\n",
    "## Feature Selection -- SelectFromModel\n",
    "sel_sfm = SelectFromModel(LinearSVC(C = 0.09, penalty=\"l1\",  dual=False))\n",
    "print(\"Performing Feature Selection ... \")\n",
    "X_sfm = sel_sfm.fit_transform(X, y)\n",
    "print(f'X_sfm: {X_sfm.shape}')\n",
    "\n",
    "# split dataframe X again into train and test -- VARIANCE THRESHOLD\n",
    "X_train_var = pd.DataFrame(X_var).iloc[:len(X_train_f[0])].to_numpy(dtype=np.float32)\n",
    "X_test_var = pd.DataFrame(X_var).iloc[len(X_train_f[0]):].to_numpy(dtype=np.float32)\n",
    "y_train_new = pd.DataFrame(y).iloc[:len(y_train_f[0])].to_numpy(dtype=np.float32)\n",
    "y_test_new = pd.DataFrame(y).iloc[len(y_train_f[0]):].to_numpy(dtype=np.float32)\n",
    "print(f'X_train_var: {X_train_var.shape}, y_train: {y_train.shape}, X_test_var: {X_test_var.shape}, y_test: {y_test.shape}')\n",
    "\n",
    "# split dataframe X again into train and test SFM\n",
    "X_train_new = pd.DataFrame(X_sfm).iloc[:len(X_train_f[0])].to_numpy(dtype=np.float32)\n",
    "X_test_new = pd.DataFrame(X_sfm).iloc[len(X_train_f[0]):].to_numpy(dtype=np.float32)\n",
    "y_train_new = pd.DataFrame(y).iloc[:len(y_train_f[0])].to_numpy(dtype=np.float32)\n",
    "y_test_new = pd.DataFrame(y).iloc[len(y_train_f[0]):].to_numpy(dtype=np.float32)\n",
    "print(f'X_train_new: {X_train_new.shape}, y_train: {y_train.shape}, X_test_new: {X_test_new.shape}, y_test: {y_test.shape}')"
   ],
   "metadata": {
    "collapsed": false
   }
  },
  {
   "cell_type": "code",
   "execution_count": null,
   "outputs": [
    {
     "name": "stdout",
     "output_type": "stream",
     "text": [
      "Fitting 10 folds for each of 48 candidates, totalling 480 fits\n",
      "[CV 1/10] END classifier__C=0.1, classifier__gamma=1, classifier__kernel=rbf;, score=0.509 total time= 1.3min\n",
      "[CV 2/10] END classifier__C=0.1, classifier__gamma=1, classifier__kernel=rbf;, score=0.509 total time= 1.2min\n",
      "[CV 3/10] END classifier__C=0.1, classifier__gamma=1, classifier__kernel=rbf;, score=0.509 total time= 1.2min\n",
      "[CV 4/10] END classifier__C=0.1, classifier__gamma=1, classifier__kernel=rbf;, score=0.509 total time= 1.4min\n",
      "[CV 5/10] END classifier__C=0.1, classifier__gamma=1, classifier__kernel=rbf;, score=0.509 total time= 1.2min\n",
      "[CV 6/10] END classifier__C=0.1, classifier__gamma=1, classifier__kernel=rbf;, score=0.508 total time= 1.3min\n",
      "[CV 7/10] END classifier__C=0.1, classifier__gamma=1, classifier__kernel=rbf;, score=0.508 total time= 1.3min\n",
      "[CV 8/10] END classifier__C=0.1, classifier__gamma=1, classifier__kernel=rbf;, score=0.508 total time= 1.3min\n",
      "[CV 9/10] END classifier__C=0.1, classifier__gamma=1, classifier__kernel=rbf;, score=0.508 total time= 1.5min\n",
      "[CV 10/10] END classifier__C=0.1, classifier__gamma=1, classifier__kernel=rbf;, score=0.508 total time= 1.6min\n",
      "[CV 1/10] END classifier__C=0.1, classifier__gamma=1, classifier__kernel=linear;, score=0.801 total time=  43.5s\n",
      "[CV 2/10] END classifier__C=0.1, classifier__gamma=1, classifier__kernel=linear;, score=0.795 total time=  29.4s\n",
      "[CV 3/10] END classifier__C=0.1, classifier__gamma=1, classifier__kernel=linear;, score=0.811 total time=  37.3s\n",
      "[CV 4/10] END classifier__C=0.1, classifier__gamma=1, classifier__kernel=linear;, score=0.807 total time=  38.1s\n",
      "[CV 5/10] END classifier__C=0.1, classifier__gamma=1, classifier__kernel=linear;, score=0.813 total time=  28.5s\n",
      "[CV 6/10] END classifier__C=0.1, classifier__gamma=1, classifier__kernel=linear;, score=0.825 total time=  28.6s\n",
      "[CV 7/10] END classifier__C=0.1, classifier__gamma=1, classifier__kernel=linear;, score=0.799 total time=  32.1s\n",
      "[CV 8/10] END classifier__C=0.1, classifier__gamma=1, classifier__kernel=linear;, score=0.797 total time=  32.2s\n",
      "[CV 9/10] END classifier__C=0.1, classifier__gamma=1, classifier__kernel=linear;, score=0.799 total time=  27.6s\n",
      "[CV 10/10] END classifier__C=0.1, classifier__gamma=1, classifier__kernel=linear;, score=0.801 total time=  29.2s\n",
      "[CV 1/10] END classifier__C=0.1, classifier__gamma=1, classifier__kernel=poly;, score=0.786 total time= 6.4min\n",
      "[CV 2/10] END classifier__C=0.1, classifier__gamma=1, classifier__kernel=poly;, score=0.798 total time= 8.0min\n",
      "[CV 3/10] END classifier__C=0.1, classifier__gamma=1, classifier__kernel=poly;, score=0.799 total time= 8.8min\n",
      "[CV 4/10] END classifier__C=0.1, classifier__gamma=1, classifier__kernel=poly;, score=0.803 total time= 7.8min\n",
      "[CV 5/10] END classifier__C=0.1, classifier__gamma=1, classifier__kernel=poly;, score=0.772 total time= 7.5min\n",
      "[CV 6/10] END classifier__C=0.1, classifier__gamma=1, classifier__kernel=poly;, score=0.803 total time= 8.7min\n",
      "[CV 7/10] END classifier__C=0.1, classifier__gamma=1, classifier__kernel=poly;, score=0.789 total time= 6.7min\n",
      "[CV 8/10] END classifier__C=0.1, classifier__gamma=1, classifier__kernel=poly;, score=0.776 total time= 7.1min\n",
      "[CV 9/10] END classifier__C=0.1, classifier__gamma=1, classifier__kernel=poly;, score=0.783 total time= 6.0min\n",
      "[CV 10/10] END classifier__C=0.1, classifier__gamma=1, classifier__kernel=poly;, score=0.787 total time= 6.8min\n",
      "[CV 1/10] END classifier__C=0.1, classifier__gamma=0.1, classifier__kernel=rbf;, score=0.661 total time=  45.1s\n",
      "[CV 2/10] END classifier__C=0.1, classifier__gamma=0.1, classifier__kernel=rbf;, score=0.659 total time=  47.0s\n",
      "[CV 3/10] END classifier__C=0.1, classifier__gamma=0.1, classifier__kernel=rbf;, score=0.684 total time=  43.0s\n",
      "[CV 4/10] END classifier__C=0.1, classifier__gamma=0.1, classifier__kernel=rbf;, score=0.652 total time=  44.9s\n",
      "[CV 5/10] END classifier__C=0.1, classifier__gamma=0.1, classifier__kernel=rbf;, score=0.664 total time=  41.3s\n",
      "[CV 6/10] END classifier__C=0.1, classifier__gamma=0.1, classifier__kernel=rbf;, score=0.672 total time=  43.7s\n",
      "[CV 7/10] END classifier__C=0.1, classifier__gamma=0.1, classifier__kernel=rbf;, score=0.675 total time=  47.2s\n",
      "[CV 8/10] END classifier__C=0.1, classifier__gamma=0.1, classifier__kernel=rbf;, score=0.657 total time=  41.6s\n",
      "[CV 9/10] END classifier__C=0.1, classifier__gamma=0.1, classifier__kernel=rbf;, score=0.677 total time=  45.3s\n",
      "[CV 10/10] END classifier__C=0.1, classifier__gamma=0.1, classifier__kernel=rbf;, score=0.668 total time=  42.8s\n",
      "[CV 1/10] END classifier__C=0.1, classifier__gamma=0.1, classifier__kernel=linear;, score=0.801 total time=  31.3s\n",
      "[CV 2/10] END classifier__C=0.1, classifier__gamma=0.1, classifier__kernel=linear;, score=0.795 total time=  29.0s\n",
      "[CV 3/10] END classifier__C=0.1, classifier__gamma=0.1, classifier__kernel=linear;, score=0.811 total time=  30.0s\n",
      "[CV 4/10] END classifier__C=0.1, classifier__gamma=0.1, classifier__kernel=linear;, score=0.807 total time=  28.2s\n",
      "[CV 5/10] END classifier__C=0.1, classifier__gamma=0.1, classifier__kernel=linear;, score=0.813 total time=  27.1s\n",
      "[CV 6/10] END classifier__C=0.1, classifier__gamma=0.1, classifier__kernel=linear;, score=0.825 total time=  28.3s\n",
      "[CV 7/10] END classifier__C=0.1, classifier__gamma=0.1, classifier__kernel=linear;, score=0.799 total time=  28.7s\n",
      "[CV 8/10] END classifier__C=0.1, classifier__gamma=0.1, classifier__kernel=linear;, score=0.797 total time=  28.1s\n",
      "[CV 9/10] END classifier__C=0.1, classifier__gamma=0.1, classifier__kernel=linear;, score=0.799 total time=  26.7s\n",
      "[CV 10/10] END classifier__C=0.1, classifier__gamma=0.1, classifier__kernel=linear;, score=0.801 total time=  27.9s\n",
      "[CV 1/10] END classifier__C=0.1, classifier__gamma=0.1, classifier__kernel=poly;, score=0.805 total time= 2.4min\n",
      "[CV 2/10] END classifier__C=0.1, classifier__gamma=0.1, classifier__kernel=poly;, score=0.818 total time= 2.4min\n",
      "[CV 3/10] END classifier__C=0.1, classifier__gamma=0.1, classifier__kernel=poly;, score=0.825 total time= 2.7min\n",
      "[CV 4/10] END classifier__C=0.1, classifier__gamma=0.1, classifier__kernel=poly;, score=0.834 total time= 2.6min\n",
      "[CV 5/10] END classifier__C=0.1, classifier__gamma=0.1, classifier__kernel=poly;, score=0.813 total time= 2.3min\n",
      "[CV 6/10] END classifier__C=0.1, classifier__gamma=0.1, classifier__kernel=poly;, score=0.839 total time= 2.4min\n",
      "[CV 7/10] END classifier__C=0.1, classifier__gamma=0.1, classifier__kernel=poly;, score=0.813 total time= 2.3min\n",
      "[CV 8/10] END classifier__C=0.1, classifier__gamma=0.1, classifier__kernel=poly;, score=0.810 total time= 2.2min\n",
      "[CV 9/10] END classifier__C=0.1, classifier__gamma=0.1, classifier__kernel=poly;, score=0.817 total time= 2.1min\n",
      "[CV 10/10] END classifier__C=0.1, classifier__gamma=0.1, classifier__kernel=poly;, score=0.810 total time= 2.4min\n",
      "[CV 1/10] END classifier__C=0.1, classifier__gamma=0.01, classifier__kernel=rbf;, score=0.793 total time=  25.4s\n",
      "[CV 2/10] END classifier__C=0.1, classifier__gamma=0.01, classifier__kernel=rbf;, score=0.794 total time=  26.5s\n",
      "[CV 3/10] END classifier__C=0.1, classifier__gamma=0.01, classifier__kernel=rbf;, score=0.812 total time=  26.5s\n",
      "[CV 4/10] END classifier__C=0.1, classifier__gamma=0.01, classifier__kernel=rbf;, score=0.813 total time=  25.4s\n",
      "[CV 5/10] END classifier__C=0.1, classifier__gamma=0.01, classifier__kernel=rbf;, score=0.811 total time=  27.8s\n",
      "[CV 6/10] END classifier__C=0.1, classifier__gamma=0.01, classifier__kernel=rbf;, score=0.825 total time=  29.8s\n",
      "[CV 7/10] END classifier__C=0.1, classifier__gamma=0.01, classifier__kernel=rbf;, score=0.793 total time=  27.0s\n",
      "[CV 8/10] END classifier__C=0.1, classifier__gamma=0.01, classifier__kernel=rbf;, score=0.791 total time=  25.9s\n",
      "[CV 9/10] END classifier__C=0.1, classifier__gamma=0.01, classifier__kernel=rbf;, score=0.795 total time=  27.5s\n",
      "[CV 10/10] END classifier__C=0.1, classifier__gamma=0.01, classifier__kernel=rbf;, score=0.806 total time=  28.3s\n",
      "[CV 1/10] END classifier__C=0.1, classifier__gamma=0.01, classifier__kernel=linear;, score=0.801 total time=  27.1s\n",
      "[CV 2/10] END classifier__C=0.1, classifier__gamma=0.01, classifier__kernel=linear;, score=0.795 total time=  25.0s\n",
      "[CV 3/10] END classifier__C=0.1, classifier__gamma=0.01, classifier__kernel=linear;, score=0.811 total time=  24.8s\n",
      "[CV 4/10] END classifier__C=0.1, classifier__gamma=0.01, classifier__kernel=linear;, score=0.807 total time=  31.6s\n",
      "[CV 5/10] END classifier__C=0.1, classifier__gamma=0.01, classifier__kernel=linear;, score=0.813 total time=  28.5s\n",
      "[CV 6/10] END classifier__C=0.1, classifier__gamma=0.01, classifier__kernel=linear;, score=0.825 total time=  25.7s\n",
      "[CV 7/10] END classifier__C=0.1, classifier__gamma=0.01, classifier__kernel=linear;, score=0.799 total time=  24.5s\n",
      "[CV 8/10] END classifier__C=0.1, classifier__gamma=0.01, classifier__kernel=linear;, score=0.797 total time=  26.5s\n",
      "[CV 9/10] END classifier__C=0.1, classifier__gamma=0.01, classifier__kernel=linear;, score=0.799 total time=  29.4s\n",
      "[CV 10/10] END classifier__C=0.1, classifier__gamma=0.01, classifier__kernel=linear;, score=0.801 total time=  29.1s\n",
      "[CV 1/10] END classifier__C=0.1, classifier__gamma=0.01, classifier__kernel=poly;, score=0.796 total time=  23.7s\n",
      "[CV 2/10] END classifier__C=0.1, classifier__gamma=0.01, classifier__kernel=poly;, score=0.793 total time=  23.5s\n",
      "[CV 3/10] END classifier__C=0.1, classifier__gamma=0.01, classifier__kernel=poly;, score=0.823 total time=  26.4s\n",
      "[CV 4/10] END classifier__C=0.1, classifier__gamma=0.01, classifier__kernel=poly;, score=0.811 total time=  29.3s\n",
      "[CV 5/10] END classifier__C=0.1, classifier__gamma=0.01, classifier__kernel=poly;, score=0.803 total time=  28.3s\n",
      "[CV 6/10] END classifier__C=0.1, classifier__gamma=0.01, classifier__kernel=poly;, score=0.820 total time=  31.1s\n",
      "[CV 7/10] END classifier__C=0.1, classifier__gamma=0.01, classifier__kernel=poly;, score=0.803 total time=  27.4s\n",
      "[CV 8/10] END classifier__C=0.1, classifier__gamma=0.01, classifier__kernel=poly;, score=0.797 total time=  38.6s\n",
      "[CV 9/10] END classifier__C=0.1, classifier__gamma=0.01, classifier__kernel=poly;, score=0.795 total time=  35.8s\n",
      "[CV 10/10] END classifier__C=0.1, classifier__gamma=0.01, classifier__kernel=poly;, score=0.808 total time=  31.5s\n",
      "[CV 1/10] END classifier__C=0.1, classifier__gamma=0.001, classifier__kernel=rbf;, score=0.786 total time=  38.7s\n",
      "[CV 2/10] END classifier__C=0.1, classifier__gamma=0.001, classifier__kernel=rbf;, score=0.778 total time=  37.3s\n",
      "[CV 3/10] END classifier__C=0.1, classifier__gamma=0.001, classifier__kernel=rbf;, score=0.803 total time=  41.0s\n",
      "[CV 4/10] END classifier__C=0.1, classifier__gamma=0.001, classifier__kernel=rbf;, score=0.793 total time=  36.8s\n",
      "[CV 5/10] END classifier__C=0.1, classifier__gamma=0.001, classifier__kernel=rbf;, score=0.797 total time=  37.1s\n",
      "[CV 6/10] END classifier__C=0.1, classifier__gamma=0.001, classifier__kernel=rbf;, score=0.812 total time=  37.6s\n",
      "[CV 7/10] END classifier__C=0.1, classifier__gamma=0.001, classifier__kernel=rbf;, score=0.783 total time=  37.6s\n",
      "[CV 8/10] END classifier__C=0.1, classifier__gamma=0.001, classifier__kernel=rbf;, score=0.790 total time=  38.7s\n",
      "[CV 9/10] END classifier__C=0.1, classifier__gamma=0.001, classifier__kernel=rbf;, score=0.777 total time=  37.4s\n",
      "[CV 10/10] END classifier__C=0.1, classifier__gamma=0.001, classifier__kernel=rbf;, score=0.803 total time=  37.3s\n",
      "[CV 1/10] END classifier__C=0.1, classifier__gamma=0.001, classifier__kernel=linear;, score=0.801 total time=  34.2s\n",
      "[CV 2/10] END classifier__C=0.1, classifier__gamma=0.001, classifier__kernel=linear;, score=0.795 total time=  35.1s\n",
      "[CV 3/10] END classifier__C=0.1, classifier__gamma=0.001, classifier__kernel=linear;, score=0.811 total time=  36.2s\n",
      "[CV 4/10] END classifier__C=0.1, classifier__gamma=0.001, classifier__kernel=linear;, score=0.807 total time=  37.1s\n",
      "[CV 5/10] END classifier__C=0.1, classifier__gamma=0.001, classifier__kernel=linear;, score=0.813 total time=  36.2s\n",
      "[CV 6/10] END classifier__C=0.1, classifier__gamma=0.001, classifier__kernel=linear;, score=0.825 total time=  35.5s\n",
      "[CV 7/10] END classifier__C=0.1, classifier__gamma=0.001, classifier__kernel=linear;, score=0.799 total time=  36.0s\n",
      "[CV 8/10] END classifier__C=0.1, classifier__gamma=0.001, classifier__kernel=linear;, score=0.797 total time=  37.0s\n",
      "[CV 9/10] END classifier__C=0.1, classifier__gamma=0.001, classifier__kernel=linear;, score=0.799 total time=  35.2s\n",
      "[CV 10/10] END classifier__C=0.1, classifier__gamma=0.001, classifier__kernel=linear;, score=0.801 total time=  36.3s\n",
      "[CV 1/10] END classifier__C=0.1, classifier__gamma=0.001, classifier__kernel=poly;, score=0.518 total time=  51.0s\n",
      "[CV 2/10] END classifier__C=0.1, classifier__gamma=0.001, classifier__kernel=poly;, score=0.516 total time=  51.4s\n",
      "[CV 3/10] END classifier__C=0.1, classifier__gamma=0.001, classifier__kernel=poly;, score=0.516 total time=  49.9s\n",
      "[CV 4/10] END classifier__C=0.1, classifier__gamma=0.001, classifier__kernel=poly;, score=0.512 total time=  51.3s\n",
      "[CV 5/10] END classifier__C=0.1, classifier__gamma=0.001, classifier__kernel=poly;, score=0.512 total time=  50.9s\n",
      "[CV 6/10] END classifier__C=0.1, classifier__gamma=0.001, classifier__kernel=poly;, score=0.512 total time=  51.6s\n",
      "[CV 7/10] END classifier__C=0.1, classifier__gamma=0.001, classifier__kernel=poly;, score=0.513 total time=  51.3s\n",
      "[CV 8/10] END classifier__C=0.1, classifier__gamma=0.001, classifier__kernel=poly;, score=0.513 total time=  50.6s\n",
      "[CV 9/10] END classifier__C=0.1, classifier__gamma=0.001, classifier__kernel=poly;, score=0.515 total time=  47.9s\n",
      "[CV 10/10] END classifier__C=0.1, classifier__gamma=0.001, classifier__kernel=poly;, score=0.515 total time=  51.2s\n",
      "[CV 1/10] END classifier__C=1, classifier__gamma=1, classifier__kernel=rbf;, score=0.530 total time= 2.4min\n",
      "[CV 2/10] END classifier__C=1, classifier__gamma=1, classifier__kernel=rbf;, score=0.529 total time= 2.3min\n",
      "[CV 3/10] END classifier__C=1, classifier__gamma=1, classifier__kernel=rbf;, score=0.541 total time= 2.2min\n",
      "[CV 4/10] END classifier__C=1, classifier__gamma=1, classifier__kernel=rbf;, score=0.536 total time= 2.0min\n",
      "[CV 5/10] END classifier__C=1, classifier__gamma=1, classifier__kernel=rbf;, score=0.529 total time= 2.0min\n",
      "[CV 6/10] END classifier__C=1, classifier__gamma=1, classifier__kernel=rbf;, score=0.530 total time= 2.6min\n",
      "[CV 7/10] END classifier__C=1, classifier__gamma=1, classifier__kernel=rbf;, score=0.539 total time= 2.4min\n",
      "[CV 8/10] END classifier__C=1, classifier__gamma=1, classifier__kernel=rbf;, score=0.529 total time= 2.2min\n",
      "[CV 9/10] END classifier__C=1, classifier__gamma=1, classifier__kernel=rbf;, score=0.535 total time= 2.1min\n",
      "[CV 10/10] END classifier__C=1, classifier__gamma=1, classifier__kernel=rbf;, score=0.533 total time= 2.3min\n",
      "[CV 1/10] END classifier__C=1, classifier__gamma=1, classifier__kernel=linear;, score=0.801 total time= 1.3min\n",
      "[CV 2/10] END classifier__C=1, classifier__gamma=1, classifier__kernel=linear;, score=0.800 total time= 1.3min\n",
      "[CV 3/10] END classifier__C=1, classifier__gamma=1, classifier__kernel=linear;, score=0.812 total time= 1.2min\n",
      "[CV 4/10] END classifier__C=1, classifier__gamma=1, classifier__kernel=linear;, score=0.802 total time= 1.0min\n",
      "[CV 5/10] END classifier__C=1, classifier__gamma=1, classifier__kernel=linear;, score=0.811 total time= 1.1min\n",
      "[CV 6/10] END classifier__C=1, classifier__gamma=1, classifier__kernel=linear;, score=0.827 total time= 1.1min\n",
      "[CV 7/10] END classifier__C=1, classifier__gamma=1, classifier__kernel=linear;, score=0.793 total time= 1.1min\n",
      "[CV 8/10] END classifier__C=1, classifier__gamma=1, classifier__kernel=linear;, score=0.796 total time= 1.1min\n",
      "[CV 9/10] END classifier__C=1, classifier__gamma=1, classifier__kernel=linear;, score=0.797 total time= 1.1min\n",
      "[CV 10/10] END classifier__C=1, classifier__gamma=1, classifier__kernel=linear;, score=0.802 total time= 1.2min\n",
      "[CV 1/10] END classifier__C=1, classifier__gamma=1, classifier__kernel=poly;, score=0.786 total time= 5.6min\n",
      "[CV 2/10] END classifier__C=1, classifier__gamma=1, classifier__kernel=poly;, score=0.798 total time= 6.8min\n",
      "[CV 3/10] END classifier__C=1, classifier__gamma=1, classifier__kernel=poly;, score=0.799 total time= 6.7min\n",
      "[CV 4/10] END classifier__C=1, classifier__gamma=1, classifier__kernel=poly;, score=0.803 total time= 6.5min\n",
      "[CV 5/10] END classifier__C=1, classifier__gamma=1, classifier__kernel=poly;, score=0.772 total time= 6.1min\n",
      "[CV 6/10] END classifier__C=1, classifier__gamma=1, classifier__kernel=poly;, score=0.803 total time= 7.3min\n",
      "[CV 7/10] END classifier__C=1, classifier__gamma=1, classifier__kernel=poly;, score=0.789 total time= 6.4min\n",
      "[CV 8/10] END classifier__C=1, classifier__gamma=1, classifier__kernel=poly;, score=0.776 total time= 6.9min\n",
      "[CV 9/10] END classifier__C=1, classifier__gamma=1, classifier__kernel=poly;, score=0.783 total time= 6.1min\n",
      "[CV 10/10] END classifier__C=1, classifier__gamma=1, classifier__kernel=poly;, score=0.787 total time= 7.3min\n",
      "[CV 1/10] END classifier__C=1, classifier__gamma=0.1, classifier__kernel=rbf;, score=0.825 total time= 2.3min\n",
      "[CV 2/10] END classifier__C=1, classifier__gamma=0.1, classifier__kernel=rbf;, score=0.830 total time= 1.7min\n",
      "[CV 3/10] END classifier__C=1, classifier__gamma=0.1, classifier__kernel=rbf;, score=0.839 total time= 1.9min\n",
      "[CV 4/10] END classifier__C=1, classifier__gamma=0.1, classifier__kernel=rbf;, score=0.839 total time= 1.8min\n",
      "[CV 5/10] END classifier__C=1, classifier__gamma=0.1, classifier__kernel=rbf;, score=0.824 total time= 2.1min\n",
      "[CV 6/10] END classifier__C=1, classifier__gamma=0.1, classifier__kernel=rbf;, score=0.849 total time= 1.7min\n",
      "[CV 7/10] END classifier__C=1, classifier__gamma=0.1, classifier__kernel=rbf;, score=0.825 total time= 1.6min\n",
      "[CV 8/10] END classifier__C=1, classifier__gamma=0.1, classifier__kernel=rbf;, score=0.831 total time= 1.6min\n",
      "[CV 9/10] END classifier__C=1, classifier__gamma=0.1, classifier__kernel=rbf;, score=0.824 total time= 1.6min\n",
      "[CV 10/10] END classifier__C=1, classifier__gamma=0.1, classifier__kernel=rbf;, score=0.832 total time= 1.5min\n",
      "[CV 1/10] END classifier__C=1, classifier__gamma=0.1, classifier__kernel=linear;, score=0.801 total time= 1.1min\n",
      "[CV 2/10] END classifier__C=1, classifier__gamma=0.1, classifier__kernel=linear;, score=0.800 total time= 1.1min\n",
      "[CV 3/10] END classifier__C=1, classifier__gamma=0.1, classifier__kernel=linear;, score=0.812 total time= 1.1min\n",
      "[CV 4/10] END classifier__C=1, classifier__gamma=0.1, classifier__kernel=linear;, score=0.802 total time= 1.2min\n",
      "[CV 5/10] END classifier__C=1, classifier__gamma=0.1, classifier__kernel=linear;, score=0.811 total time= 1.0min\n",
      "[CV 6/10] END classifier__C=1, classifier__gamma=0.1, classifier__kernel=linear;, score=0.827 total time= 1.2min\n",
      "[CV 7/10] END classifier__C=1, classifier__gamma=0.1, classifier__kernel=linear;, score=0.793 total time= 1.0min\n",
      "[CV 8/10] END classifier__C=1, classifier__gamma=0.1, classifier__kernel=linear;, score=0.796 total time= 1.2min\n",
      "[CV 9/10] END classifier__C=1, classifier__gamma=0.1, classifier__kernel=linear;, score=0.797 total time= 1.0min\n",
      "[CV 10/10] END classifier__C=1, classifier__gamma=0.1, classifier__kernel=linear;, score=0.802 total time= 1.1min\n",
      "[CV 1/10] END classifier__C=1, classifier__gamma=0.1, classifier__kernel=poly;, score=0.791 total time= 5.7min\n",
      "[CV 2/10] END classifier__C=1, classifier__gamma=0.1, classifier__kernel=poly;, score=0.799 total time= 5.5min\n",
      "[CV 3/10] END classifier__C=1, classifier__gamma=0.1, classifier__kernel=poly;, score=0.803 total time= 6.7min\n",
      "[CV 4/10] END classifier__C=1, classifier__gamma=0.1, classifier__kernel=poly;, score=0.812 total time= 5.1min\n",
      "[CV 5/10] END classifier__C=1, classifier__gamma=0.1, classifier__kernel=poly;, score=0.778 total time= 5.4min\n",
      "[CV 6/10] END classifier__C=1, classifier__gamma=0.1, classifier__kernel=poly;, score=0.812 total time= 5.5min\n",
      "[CV 7/10] END classifier__C=1, classifier__gamma=0.1, classifier__kernel=poly;, score=0.796 total time= 5.4min\n",
      "[CV 8/10] END classifier__C=1, classifier__gamma=0.1, classifier__kernel=poly;, score=0.789 total time= 5.2min\n",
      "[CV 9/10] END classifier__C=1, classifier__gamma=0.1, classifier__kernel=poly;, score=0.793 total time= 5.0min\n",
      "[CV 10/10] END classifier__C=1, classifier__gamma=0.1, classifier__kernel=poly;, score=0.788 total time= 5.5min\n",
      "[CV 1/10] END classifier__C=1, classifier__gamma=0.01, classifier__kernel=rbf;, score=0.810 total time=  26.7s\n",
      "[CV 2/10] END classifier__C=1, classifier__gamma=0.01, classifier__kernel=rbf;, score=0.828 total time=  25.5s\n",
      "[CV 3/10] END classifier__C=1, classifier__gamma=0.01, classifier__kernel=rbf;, score=0.834 total time=  21.6s\n",
      "[CV 4/10] END classifier__C=1, classifier__gamma=0.01, classifier__kernel=rbf;, score=0.836 total time=  21.7s\n",
      "[CV 5/10] END classifier__C=1, classifier__gamma=0.01, classifier__kernel=rbf;, score=0.832 total time=  23.6s\n",
      "[CV 6/10] END classifier__C=1, classifier__gamma=0.01, classifier__kernel=rbf;, score=0.844 total time=  26.1s\n",
      "[CV 7/10] END classifier__C=1, classifier__gamma=0.01, classifier__kernel=rbf;, score=0.818 total time=  24.5s\n",
      "[CV 8/10] END classifier__C=1, classifier__gamma=0.01, classifier__kernel=rbf;, score=0.821 total time=  21.2s\n",
      "[CV 9/10] END classifier__C=1, classifier__gamma=0.01, classifier__kernel=rbf;, score=0.833 total time=  21.7s\n",
      "[CV 10/10] END classifier__C=1, classifier__gamma=0.01, classifier__kernel=rbf;, score=0.820 total time=  23.2s\n",
      "[CV 1/10] END classifier__C=1, classifier__gamma=0.01, classifier__kernel=linear;, score=0.801 total time= 1.1min\n",
      "[CV 2/10] END classifier__C=1, classifier__gamma=0.01, classifier__kernel=linear;, score=0.800 total time= 1.1min\n",
      "[CV 3/10] END classifier__C=1, classifier__gamma=0.01, classifier__kernel=linear;, score=0.812 total time= 1.1min\n",
      "[CV 4/10] END classifier__C=1, classifier__gamma=0.01, classifier__kernel=linear;, score=0.802 total time= 1.0min\n",
      "[CV 5/10] END classifier__C=1, classifier__gamma=0.01, classifier__kernel=linear;, score=0.811 total time= 1.0min\n",
      "[CV 6/10] END classifier__C=1, classifier__gamma=0.01, classifier__kernel=linear;, score=0.827 total time= 1.0min\n",
      "[CV 7/10] END classifier__C=1, classifier__gamma=0.01, classifier__kernel=linear;, score=0.793 total time= 1.0min\n",
      "[CV 8/10] END classifier__C=1, classifier__gamma=0.01, classifier__kernel=linear;, score=0.796 total time=  59.2s\n",
      "[CV 9/10] END classifier__C=1, classifier__gamma=0.01, classifier__kernel=linear;, score=0.797 total time=  59.5s\n",
      "[CV 10/10] END classifier__C=1, classifier__gamma=0.01, classifier__kernel=linear;, score=0.802 total time= 1.0min\n",
      "[CV 1/10] END classifier__C=1, classifier__gamma=0.01, classifier__kernel=poly;, score=0.801 total time=  21.5s\n",
      "[CV 2/10] END classifier__C=1, classifier__gamma=0.01, classifier__kernel=poly;, score=0.809 total time=  21.9s\n",
      "[CV 3/10] END classifier__C=1, classifier__gamma=0.01, classifier__kernel=poly;, score=0.829 total time=  21.7s\n",
      "[CV 4/10] END classifier__C=1, classifier__gamma=0.01, classifier__kernel=poly;, score=0.828 total time=  22.2s\n",
      "[CV 5/10] END classifier__C=1, classifier__gamma=0.01, classifier__kernel=poly;, score=0.828 total time=  21.8s\n",
      "[CV 6/10] END classifier__C=1, classifier__gamma=0.01, classifier__kernel=poly;, score=0.836 total time=  22.0s\n",
      "[CV 7/10] END classifier__C=1, classifier__gamma=0.01, classifier__kernel=poly;, score=0.821 total time=  23.4s\n",
      "[CV 8/10] END classifier__C=1, classifier__gamma=0.01, classifier__kernel=poly;, score=0.815 total time=  21.3s\n",
      "[CV 9/10] END classifier__C=1, classifier__gamma=0.01, classifier__kernel=poly;, score=0.819 total time=  21.8s\n",
      "[CV 10/10] END classifier__C=1, classifier__gamma=0.01, classifier__kernel=poly;, score=0.821 total time=  22.5s\n",
      "[CV 1/10] END classifier__C=1, classifier__gamma=0.001, classifier__kernel=rbf;, score=0.804 total time=  21.5s\n",
      "[CV 2/10] END classifier__C=1, classifier__gamma=0.001, classifier__kernel=rbf;, score=0.807 total time=  22.1s\n",
      "[CV 3/10] END classifier__C=1, classifier__gamma=0.001, classifier__kernel=rbf;, score=0.817 total time=  21.5s\n",
      "[CV 4/10] END classifier__C=1, classifier__gamma=0.001, classifier__kernel=rbf;, score=0.805 total time=  21.5s\n",
      "[CV 5/10] END classifier__C=1, classifier__gamma=0.001, classifier__kernel=rbf;, score=0.816 total time=  21.6s\n",
      "[CV 6/10] END classifier__C=1, classifier__gamma=0.001, classifier__kernel=rbf;, score=0.824 total time=  21.3s\n",
      "[CV 7/10] END classifier__C=1, classifier__gamma=0.001, classifier__kernel=rbf;, score=0.797 total time=  23.9s\n",
      "[CV 8/10] END classifier__C=1, classifier__gamma=0.001, classifier__kernel=rbf;, score=0.801 total time=  22.1s\n",
      "[CV 9/10] END classifier__C=1, classifier__gamma=0.001, classifier__kernel=rbf;, score=0.797 total time=  21.6s\n",
      "[CV 10/10] END classifier__C=1, classifier__gamma=0.001, classifier__kernel=rbf;, score=0.809 total time=  21.8s\n",
      "[CV 1/10] END classifier__C=1, classifier__gamma=0.001, classifier__kernel=linear;, score=0.801 total time= 1.0min\n",
      "[CV 2/10] END classifier__C=1, classifier__gamma=0.001, classifier__kernel=linear;, score=0.800 total time= 1.0min\n",
      "[CV 3/10] END classifier__C=1, classifier__gamma=0.001, classifier__kernel=linear;, score=0.812 total time= 1.2min\n",
      "[CV 4/10] END classifier__C=1, classifier__gamma=0.001, classifier__kernel=linear;, score=0.802 total time= 1.0min\n",
      "[CV 5/10] END classifier__C=1, classifier__gamma=0.001, classifier__kernel=linear;, score=0.811 total time= 1.0min\n",
      "[CV 6/10] END classifier__C=1, classifier__gamma=0.001, classifier__kernel=linear;, score=0.827 total time= 1.1min\n",
      "[CV 7/10] END classifier__C=1, classifier__gamma=0.001, classifier__kernel=linear;, score=0.793 total time= 1.1min\n",
      "[CV 8/10] END classifier__C=1, classifier__gamma=0.001, classifier__kernel=linear;, score=0.796 total time= 1.1min\n",
      "[CV 9/10] END classifier__C=1, classifier__gamma=0.001, classifier__kernel=linear;, score=0.797 total time= 1.1min\n",
      "[CV 10/10] END classifier__C=1, classifier__gamma=0.001, classifier__kernel=linear;, score=0.802 total time= 1.0min\n",
      "[CV 1/10] END classifier__C=1, classifier__gamma=0.001, classifier__kernel=poly;, score=0.672 total time=  35.5s\n",
      "[CV 2/10] END classifier__C=1, classifier__gamma=0.001, classifier__kernel=poly;, score=0.668 total time=  36.2s\n",
      "[CV 3/10] END classifier__C=1, classifier__gamma=0.001, classifier__kernel=poly;, score=0.666 total time=  32.9s\n",
      "[CV 4/10] END classifier__C=1, classifier__gamma=0.001, classifier__kernel=poly;, score=0.692 total time=  33.2s\n",
      "[CV 5/10] END classifier__C=1, classifier__gamma=0.001, classifier__kernel=poly;, score=0.689 total time=  37.6s\n",
      "[CV 6/10] END classifier__C=1, classifier__gamma=0.001, classifier__kernel=poly;, score=0.700 total time=  33.9s\n",
      "[CV 7/10] END classifier__C=1, classifier__gamma=0.001, classifier__kernel=poly;, score=0.658 total time=  32.8s\n",
      "[CV 8/10] END classifier__C=1, classifier__gamma=0.001, classifier__kernel=poly;, score=0.681 total time=  35.8s\n",
      "[CV 9/10] END classifier__C=1, classifier__gamma=0.001, classifier__kernel=poly;, score=0.693 total time=  36.2s\n",
      "[CV 10/10] END classifier__C=1, classifier__gamma=0.001, classifier__kernel=poly;, score=0.669 total time=  32.4s\n",
      "[CV 1/10] END classifier__C=10, classifier__gamma=1, classifier__kernel=rbf;, score=0.532 total time= 2.3min\n",
      "[CV 2/10] END classifier__C=10, classifier__gamma=1, classifier__kernel=rbf;, score=0.534 total time= 2.3min\n",
      "[CV 3/10] END classifier__C=10, classifier__gamma=1, classifier__kernel=rbf;, score=0.549 total time= 2.2min\n",
      "[CV 4/10] END classifier__C=10, classifier__gamma=1, classifier__kernel=rbf;, score=0.543 total time= 2.2min\n",
      "[CV 5/10] END classifier__C=10, classifier__gamma=1, classifier__kernel=rbf;, score=0.536 total time= 2.2min\n",
      "[CV 6/10] END classifier__C=10, classifier__gamma=1, classifier__kernel=rbf;, score=0.535 total time= 2.3min\n",
      "[CV 7/10] END classifier__C=10, classifier__gamma=1, classifier__kernel=rbf;, score=0.542 total time= 2.2min\n",
      "[CV 8/10] END classifier__C=10, classifier__gamma=1, classifier__kernel=rbf;, score=0.534 total time= 2.4min\n",
      "[CV 9/10] END classifier__C=10, classifier__gamma=1, classifier__kernel=rbf;, score=0.540 total time= 2.2min\n",
      "[CV 10/10] END classifier__C=10, classifier__gamma=1, classifier__kernel=rbf;, score=0.537 total time= 2.4min\n",
      "[CV 1/10] END classifier__C=10, classifier__gamma=1, classifier__kernel=linear;, score=0.804 total time= 7.0min\n",
      "[CV 2/10] END classifier__C=10, classifier__gamma=1, classifier__kernel=linear;, score=0.800 total time= 7.0min\n",
      "[CV 3/10] END classifier__C=10, classifier__gamma=1, classifier__kernel=linear;, score=0.809 total time= 7.1min\n",
      "[CV 4/10] END classifier__C=10, classifier__gamma=1, classifier__kernel=linear;, score=0.801 total time= 7.0min\n",
      "[CV 5/10] END classifier__C=10, classifier__gamma=1, classifier__kernel=linear;, score=0.809 total time= 7.1min\n",
      "[CV 6/10] END classifier__C=10, classifier__gamma=1, classifier__kernel=linear;, score=0.826 total time= 7.1min\n",
      "[CV 7/10] END classifier__C=10, classifier__gamma=1, classifier__kernel=linear;, score=0.795 total time= 6.8min\n",
      "[CV 8/10] END classifier__C=10, classifier__gamma=1, classifier__kernel=linear;, score=0.793 total time= 6.7min\n",
      "[CV 9/10] END classifier__C=10, classifier__gamma=1, classifier__kernel=linear;, score=0.801 total time= 7.3min\n",
      "[CV 10/10] END classifier__C=10, classifier__gamma=1, classifier__kernel=linear;, score=0.799 total time= 7.0min\n",
      "[CV 1/10] END classifier__C=10, classifier__gamma=1, classifier__kernel=poly;, score=0.786 total time= 5.0min\n",
      "[CV 2/10] END classifier__C=10, classifier__gamma=1, classifier__kernel=poly;, score=0.798 total time= 6.1min\n",
      "[CV 3/10] END classifier__C=10, classifier__gamma=1, classifier__kernel=poly;, score=0.799 total time= 6.7min\n",
      "[CV 4/10] END classifier__C=10, classifier__gamma=1, classifier__kernel=poly;, score=0.803 total time= 6.3min\n",
      "[CV 5/10] END classifier__C=10, classifier__gamma=1, classifier__kernel=poly;, score=0.772 total time= 6.1min\n",
      "[CV 6/10] END classifier__C=10, classifier__gamma=1, classifier__kernel=poly;, score=0.803 total time= 6.7min\n",
      "[CV 7/10] END classifier__C=10, classifier__gamma=1, classifier__kernel=poly;, score=0.789 total time= 5.5min\n",
      "[CV 8/10] END classifier__C=10, classifier__gamma=1, classifier__kernel=poly;, score=0.776 total time= 5.8min\n",
      "[CV 9/10] END classifier__C=10, classifier__gamma=1, classifier__kernel=poly;, score=0.783 total time= 5.3min\n",
      "[CV 10/10] END classifier__C=10, classifier__gamma=1, classifier__kernel=poly;, score=0.787 total time= 6.0min\n",
      "[CV 1/10] END classifier__C=10, classifier__gamma=0.1, classifier__kernel=rbf;, score=0.831 total time= 1.8min\n",
      "[CV 2/10] END classifier__C=10, classifier__gamma=0.1, classifier__kernel=rbf;, score=0.835 total time= 1.8min\n",
      "[CV 3/10] END classifier__C=10, classifier__gamma=0.1, classifier__kernel=rbf;, score=0.834 total time= 1.8min\n",
      "[CV 4/10] END classifier__C=10, classifier__gamma=0.1, classifier__kernel=rbf;, score=0.838 total time= 1.8min\n",
      "[CV 5/10] END classifier__C=10, classifier__gamma=0.1, classifier__kernel=rbf;, score=0.825 total time= 1.8min\n",
      "[CV 6/10] END classifier__C=10, classifier__gamma=0.1, classifier__kernel=rbf;, score=0.852 total time= 1.8min\n",
      "[CV 7/10] END classifier__C=10, classifier__gamma=0.1, classifier__kernel=rbf;, score=0.828 total time= 1.8min\n",
      "[CV 8/10] END classifier__C=10, classifier__gamma=0.1, classifier__kernel=rbf;, score=0.826 total time= 1.8min\n",
      "[CV 9/10] END classifier__C=10, classifier__gamma=0.1, classifier__kernel=rbf;, score=0.827 total time= 1.8min\n",
      "[CV 10/10] END classifier__C=10, classifier__gamma=0.1, classifier__kernel=rbf;, score=0.836 total time= 1.7min\n",
      "[CV 1/10] END classifier__C=10, classifier__gamma=0.1, classifier__kernel=linear;, score=0.804 total time= 7.0min\n",
      "[CV 2/10] END classifier__C=10, classifier__gamma=0.1, classifier__kernel=linear;, score=0.800 total time= 7.1min\n",
      "[CV 3/10] END classifier__C=10, classifier__gamma=0.1, classifier__kernel=linear;, score=0.809 total time= 6.9min\n",
      "[CV 4/10] END classifier__C=10, classifier__gamma=0.1, classifier__kernel=linear;, score=0.801 total time= 6.9min\n",
      "[CV 5/10] END classifier__C=10, classifier__gamma=0.1, classifier__kernel=linear;, score=0.809 total time= 7.0min\n",
      "[CV 6/10] END classifier__C=10, classifier__gamma=0.1, classifier__kernel=linear;, score=0.826 total time= 6.8min\n",
      "[CV 7/10] END classifier__C=10, classifier__gamma=0.1, classifier__kernel=linear;, score=0.795 total time= 6.3min\n",
      "[CV 8/10] END classifier__C=10, classifier__gamma=0.1, classifier__kernel=linear;, score=0.793 total time= 6.2min\n",
      "[CV 9/10] END classifier__C=10, classifier__gamma=0.1, classifier__kernel=linear;, score=0.801 total time= 7.1min\n",
      "[CV 10/10] END classifier__C=10, classifier__gamma=0.1, classifier__kernel=linear;, score=0.799 total time= 7.3min\n",
      "[CV 1/10] END classifier__C=10, classifier__gamma=0.1, classifier__kernel=poly;, score=0.786 total time= 5.6min\n",
      "[CV 2/10] END classifier__C=10, classifier__gamma=0.1, classifier__kernel=poly;, score=0.798 total time= 6.3min\n",
      "[CV 3/10] END classifier__C=10, classifier__gamma=0.1, classifier__kernel=poly;, score=0.799 total time= 6.8min\n",
      "[CV 4/10] END classifier__C=10, classifier__gamma=0.1, classifier__kernel=poly;, score=0.803 total time= 6.6min\n",
      "[CV 5/10] END classifier__C=10, classifier__gamma=0.1, classifier__kernel=poly;, score=0.772 total time= 5.7min\n",
      "[CV 6/10] END classifier__C=10, classifier__gamma=0.1, classifier__kernel=poly;, score=0.803 total time= 6.6min\n",
      "[CV 7/10] END classifier__C=10, classifier__gamma=0.1, classifier__kernel=poly;, score=0.789 total time= 5.6min\n",
      "[CV 8/10] END classifier__C=10, classifier__gamma=0.1, classifier__kernel=poly;, score=0.776 total time= 6.3min\n",
      "[CV 9/10] END classifier__C=10, classifier__gamma=0.1, classifier__kernel=poly;, score=0.783 total time= 5.6min\n",
      "[CV 10/10] END classifier__C=10, classifier__gamma=0.1, classifier__kernel=poly;, score=0.787 total time= 5.9min\n",
      "[CV 1/10] END classifier__C=10, classifier__gamma=0.01, classifier__kernel=rbf;, score=0.831 total time=  27.8s\n",
      "[CV 2/10] END classifier__C=10, classifier__gamma=0.01, classifier__kernel=rbf;, score=0.843 total time=  29.5s\n",
      "[CV 3/10] END classifier__C=10, classifier__gamma=0.01, classifier__kernel=rbf;, score=0.843 total time=  34.1s\n",
      "[CV 4/10] END classifier__C=10, classifier__gamma=0.01, classifier__kernel=rbf;, score=0.847 total time=  30.2s\n",
      "[CV 5/10] END classifier__C=10, classifier__gamma=0.01, classifier__kernel=rbf;, score=0.846 total time=  30.5s\n",
      "[CV 6/10] END classifier__C=10, classifier__gamma=0.01, classifier__kernel=rbf;, score=0.862 total time=  32.2s\n",
      "[CV 7/10] END classifier__C=10, classifier__gamma=0.01, classifier__kernel=rbf;, score=0.839 total time=  33.6s\n",
      "[CV 8/10] END classifier__C=10, classifier__gamma=0.01, classifier__kernel=rbf;, score=0.834 total time=  29.1s\n",
      "[CV 9/10] END classifier__C=10, classifier__gamma=0.01, classifier__kernel=rbf;, score=0.849 total time=  28.9s\n",
      "[CV 10/10] END classifier__C=10, classifier__gamma=0.01, classifier__kernel=rbf;, score=0.843 total time=  31.2s\n",
      "[CV 1/10] END classifier__C=10, classifier__gamma=0.01, classifier__kernel=linear;, score=0.804 total time= 6.9min\n",
      "[CV 2/10] END classifier__C=10, classifier__gamma=0.01, classifier__kernel=linear;, score=0.800 total time= 6.9min\n",
      "[CV 3/10] END classifier__C=10, classifier__gamma=0.01, classifier__kernel=linear;, score=0.809 total time= 7.1min\n",
      "[CV 4/10] END classifier__C=10, classifier__gamma=0.01, classifier__kernel=linear;, score=0.801 total time= 6.8min\n",
      "[CV 5/10] END classifier__C=10, classifier__gamma=0.01, classifier__kernel=linear;, score=0.809 total time= 6.3min\n",
      "[CV 6/10] END classifier__C=10, classifier__gamma=0.01, classifier__kernel=linear;, score=0.826 total time= 6.5min\n",
      "[CV 7/10] END classifier__C=10, classifier__gamma=0.01, classifier__kernel=linear;, score=0.795 total time= 6.9min\n",
      "[CV 8/10] END classifier__C=10, classifier__gamma=0.01, classifier__kernel=linear;, score=0.793 total time= 6.7min\n",
      "[CV 9/10] END classifier__C=10, classifier__gamma=0.01, classifier__kernel=linear;, score=0.801 total time= 7.5min\n",
      "[CV 10/10] END classifier__C=10, classifier__gamma=0.01, classifier__kernel=linear;, score=0.799 total time= 7.3min\n",
      "[CV 1/10] END classifier__C=10, classifier__gamma=0.01, classifier__kernel=poly;, score=0.816 total time=  45.5s\n",
      "[CV 2/10] END classifier__C=10, classifier__gamma=0.01, classifier__kernel=poly;, score=0.836 total time=  39.3s\n",
      "[CV 3/10] END classifier__C=10, classifier__gamma=0.01, classifier__kernel=poly;, score=0.838 total time=  47.6s\n",
      "[CV 4/10] END classifier__C=10, classifier__gamma=0.01, classifier__kernel=poly;, score=0.843 total time=  42.9s\n",
      "[CV 5/10] END classifier__C=10, classifier__gamma=0.01, classifier__kernel=poly;, score=0.832 total time=  38.2s\n",
      "[CV 6/10] END classifier__C=10, classifier__gamma=0.01, classifier__kernel=poly;, score=0.853 total time=  49.9s\n",
      "[CV 7/10] END classifier__C=10, classifier__gamma=0.01, classifier__kernel=poly;, score=0.826 total time=  40.7s\n",
      "[CV 8/10] END classifier__C=10, classifier__gamma=0.01, classifier__kernel=poly;, score=0.829 total time=  41.4s\n",
      "[CV 9/10] END classifier__C=10, classifier__gamma=0.01, classifier__kernel=poly;, score=0.825 total time=  46.8s\n",
      "[CV 10/10] END classifier__C=10, classifier__gamma=0.01, classifier__kernel=poly;, score=0.820 total time=  41.6s\n",
      "[CV 1/10] END classifier__C=10, classifier__gamma=0.001, classifier__kernel=rbf;, score=0.814 total time=  20.0s\n",
      "[CV 2/10] END classifier__C=10, classifier__gamma=0.001, classifier__kernel=rbf;, score=0.809 total time=  25.1s\n",
      "[CV 3/10] END classifier__C=10, classifier__gamma=0.001, classifier__kernel=rbf;, score=0.823 total time=  27.8s\n",
      "[CV 4/10] END classifier__C=10, classifier__gamma=0.001, classifier__kernel=rbf;, score=0.815 total time=  28.2s\n",
      "[CV 5/10] END classifier__C=10, classifier__gamma=0.001, classifier__kernel=rbf;, score=0.830 total time=  21.8s\n",
      "[CV 6/10] END classifier__C=10, classifier__gamma=0.001, classifier__kernel=rbf;, score=0.834 total time=  21.7s\n",
      "[CV 7/10] END classifier__C=10, classifier__gamma=0.001, classifier__kernel=rbf;, score=0.813 total time=  24.9s\n",
      "[CV 8/10] END classifier__C=10, classifier__gamma=0.001, classifier__kernel=rbf;, score=0.814 total time=  23.9s\n",
      "[CV 9/10] END classifier__C=10, classifier__gamma=0.001, classifier__kernel=rbf;, score=0.816 total time=  21.7s\n",
      "[CV 10/10] END classifier__C=10, classifier__gamma=0.001, classifier__kernel=rbf;, score=0.819 total time=  20.7s\n",
      "[CV 1/10] END classifier__C=10, classifier__gamma=0.001, classifier__kernel=linear;, score=0.804 total time= 6.9min\n",
      "[CV 2/10] END classifier__C=10, classifier__gamma=0.001, classifier__kernel=linear;, score=0.800 total time= 7.1min\n",
      "[CV 3/10] END classifier__C=10, classifier__gamma=0.001, classifier__kernel=linear;, score=0.809 total time= 7.2min\n",
      "[CV 4/10] END classifier__C=10, classifier__gamma=0.001, classifier__kernel=linear;, score=0.801 total time= 7.0min\n",
      "[CV 5/10] END classifier__C=10, classifier__gamma=0.001, classifier__kernel=linear;, score=0.809 total time= 6.9min\n",
      "[CV 6/10] END classifier__C=10, classifier__gamma=0.001, classifier__kernel=linear;, score=0.826 total time= 7.2min\n",
      "[CV 7/10] END classifier__C=10, classifier__gamma=0.001, classifier__kernel=linear;, score=0.795 total time= 6.8min\n",
      "[CV 8/10] END classifier__C=10, classifier__gamma=0.001, classifier__kernel=linear;, score=0.793 total time= 6.8min\n",
      "[CV 9/10] END classifier__C=10, classifier__gamma=0.001, classifier__kernel=linear;, score=0.801 total time= 7.2min\n",
      "[CV 10/10] END classifier__C=10, classifier__gamma=0.001, classifier__kernel=linear;, score=0.799 total time= 7.4min\n",
      "[CV 1/10] END classifier__C=10, classifier__gamma=0.001, classifier__kernel=poly;, score=0.780 total time=  27.2s\n",
      "[CV 2/10] END classifier__C=10, classifier__gamma=0.001, classifier__kernel=poly;, score=0.762 total time=  26.4s\n",
      "[CV 3/10] END classifier__C=10, classifier__gamma=0.001, classifier__kernel=poly;, score=0.784 total time=  29.8s\n",
      "[CV 4/10] END classifier__C=10, classifier__gamma=0.001, classifier__kernel=poly;, score=0.801 total time=  31.7s\n",
      "[CV 5/10] END classifier__C=10, classifier__gamma=0.001, classifier__kernel=poly;, score=0.782 total time=  27.4s\n",
      "[CV 6/10] END classifier__C=10, classifier__gamma=0.001, classifier__kernel=poly;, score=0.806 total time=  27.0s\n",
      "[CV 7/10] END classifier__C=10, classifier__gamma=0.001, classifier__kernel=poly;, score=0.776 total time=  29.1s\n",
      "[CV 8/10] END classifier__C=10, classifier__gamma=0.001, classifier__kernel=poly;, score=0.770 total time=  31.3s\n",
      "[CV 9/10] END classifier__C=10, classifier__gamma=0.001, classifier__kernel=poly;, score=0.774 total time=  28.1s\n",
      "[CV 10/10] END classifier__C=10, classifier__gamma=0.001, classifier__kernel=poly;, score=0.787 total time=  27.3s\n",
      "[CV 1/10] END classifier__C=100, classifier__gamma=1, classifier__kernel=rbf;, score=0.532 total time= 2.2min\n",
      "[CV 2/10] END classifier__C=100, classifier__gamma=1, classifier__kernel=rbf;, score=0.534 total time= 2.3min\n",
      "[CV 3/10] END classifier__C=100, classifier__gamma=1, classifier__kernel=rbf;, score=0.549 total time= 2.2min\n",
      "[CV 4/10] END classifier__C=100, classifier__gamma=1, classifier__kernel=rbf;, score=0.543 total time= 2.2min\n",
      "[CV 5/10] END classifier__C=100, classifier__gamma=1, classifier__kernel=rbf;, score=0.536 total time= 2.2min\n",
      "[CV 6/10] END classifier__C=100, classifier__gamma=1, classifier__kernel=rbf;, score=0.535 total time= 2.1min\n",
      "[CV 7/10] END classifier__C=100, classifier__gamma=1, classifier__kernel=rbf;, score=0.542 total time= 2.1min\n",
      "[CV 8/10] END classifier__C=100, classifier__gamma=1, classifier__kernel=rbf;, score=0.534 total time= 2.2min\n",
      "[CV 9/10] END classifier__C=100, classifier__gamma=1, classifier__kernel=rbf;, score=0.540 total time= 2.0min\n",
      "[CV 10/10] END classifier__C=100, classifier__gamma=1, classifier__kernel=rbf;, score=0.537 total time= 2.1min\n",
      "[CV 1/10] END classifier__C=100, classifier__gamma=1, classifier__kernel=linear;, score=0.807 total time=60.9min\n",
      "[CV 2/10] END classifier__C=100, classifier__gamma=1, classifier__kernel=linear;, score=0.803 total time=62.2min\n",
      "[CV 3/10] END classifier__C=100, classifier__gamma=1, classifier__kernel=linear;, score=0.813 total time=59.7min\n"
     ]
    }
   ],
   "source": [
    "# SVM -- without feature selection\n",
    "param_grid = {'classifier__C': [0.1, 1, 10, 100],\n",
    "              'classifier__gamma': [1, 0.1, 0.01, 0.001],\n",
    "              'classifier__kernel': ['rbf', 'linear', 'poly']}\n",
    "\n",
    "# param_grid = {'classifier__C': [1],\n",
    "#               'classifier__gamma': [0.1],\n",
    "#               'classifier__kernel': ['rbf']}\n",
    "cv = StratifiedKFold(n_splits=10, shuffle=True, random_state=42)\n",
    "classifier = svm.SVC()\n",
    "pipe = Pipeline([('scaler', StandardScaler()),('classifier', classifier)])\n",
    "grid_search = GridSearchCV(pipe, param_grid, cv=cv, refit = True, verbose = 3)\n",
    "grid_search.fit(X_train, y_train)\n",
    "print(\"TRAIN- The best parameters are %s with an accuracy of %0.4f\"%(grid_search.best_params_, grid_search.best_score_))\n",
    "y_train_predicted = grid_search.predict(X_train)\n",
    "y_test_predicted =  grid_search.predict(X_test)\n",
    "print('F1 Score of train data: %0.4f' %f1_score(y_train,y_train_predicted,average='macro'), f'Acc: {accuracy_score(y_train, y_train_predicted)}')\n",
    "print('F1 Score of test data: %0.4f' %f1_score(y_test,y_test_predicted,average='macro'), f'Acc: {accuracy_score(y_test, y_test_predicted)}')"
   ],
   "metadata": {
    "collapsed": false
   }
  },
  {
   "cell_type": "code",
   "execution_count": 15,
   "outputs": [
    {
     "name": "stdout",
     "output_type": "stream",
     "text": [
      "Fitting 10 folds for each of 1 candidates, totalling 10 fits\n",
      "[CV 1/10] END classifier__C=10, classifier__kernel=rbf;, score=0.827 total time=  31.9s\n",
      "[CV 2/10] END classifier__C=10, classifier__kernel=rbf;, score=0.837 total time=  26.4s\n",
      "[CV 3/10] END classifier__C=10, classifier__kernel=rbf;, score=0.842 total time=  25.2s\n",
      "[CV 4/10] END classifier__C=10, classifier__kernel=rbf;, score=0.845 total time=  30.4s\n",
      "[CV 5/10] END classifier__C=10, classifier__kernel=rbf;, score=0.848 total time=  30.3s\n",
      "[CV 6/10] END classifier__C=10, classifier__kernel=rbf;, score=0.862 total time=  30.6s\n",
      "[CV 7/10] END classifier__C=10, classifier__kernel=rbf;, score=0.839 total time=  32.6s\n",
      "[CV 8/10] END classifier__C=10, classifier__kernel=rbf;, score=0.834 total time=  43.5s\n",
      "[CV 9/10] END classifier__C=10, classifier__kernel=rbf;, score=0.845 total time=  33.9s\n",
      "[CV 10/10] END classifier__C=10, classifier__kernel=rbf;, score=0.839 total time=  30.4s\n",
      "TRAIN- The best parameters are {'classifier__C': 10, 'classifier__kernel': 'rbf'} with an accuracy of 0.8419\n",
      "F1 Score of train data: 0.9086 Acc: 0.9086541625534715\n",
      "F1 Score of test data: 0.8450 Acc: 0.845100105374078\n"
     ]
    }
   ],
   "source": [
    "# svc without feature selection\n",
    "param_grid = {'classifier__C': [10],\n",
    "              'classifier__kernel': ['rbf']}\n",
    "cv = StratifiedKFold(n_splits=10, shuffle=True, random_state=42)\n",
    "classifier = svm.SVC()\n",
    "pipe = Pipeline([('scaler', StandardScaler()),('classifier', classifier)])\n",
    "grid_search = GridSearchCV(pipe, param_grid, cv=cv, refit = True, verbose = 3)\n",
    "grid_search.fit(X_train, y_train)\n",
    "print(\"TRAIN- The best parameters are %s with an accuracy of %0.4f\"%(grid_search.best_params_, grid_search.best_score_))\n",
    "y_train_predicted = grid_search.predict(X_train)\n",
    "y_test_predicted =  grid_search.predict(X_test)\n",
    "print('F1 Score of train data: %0.4f' %f1_score(y_train,y_train_predicted,average='macro'), f'Acc: {accuracy_score(y_train, y_train_predicted)}')\n",
    "print('F1 Score of test data: %0.4f' %f1_score(y_test,y_test_predicted,average='macro'), f'Acc: {accuracy_score(y_test, y_test_predicted)}')"
   ],
   "metadata": {
    "collapsed": false
   }
  },
  {
   "cell_type": "code",
   "execution_count": 44,
   "outputs": [
    {
     "name": "stdout",
     "output_type": "stream",
     "text": [
      "Fitting 10 folds for each of 1 candidates, totalling 10 fits\n",
      "[CV 1/10] END classifier__C=10, classifier__kernel=rbf;, score=0.812 total time=  27.7s\n",
      "[CV 2/10] END classifier__C=10, classifier__kernel=rbf;, score=0.826 total time=  21.0s\n",
      "[CV 3/10] END classifier__C=10, classifier__kernel=rbf;, score=0.832 total time=  22.6s\n",
      "[CV 4/10] END classifier__C=10, classifier__kernel=rbf;, score=0.826 total time=  21.2s\n",
      "[CV 5/10] END classifier__C=10, classifier__kernel=rbf;, score=0.828 total time=  22.1s\n",
      "[CV 6/10] END classifier__C=10, classifier__kernel=rbf;, score=0.841 total time=  23.9s\n",
      "[CV 7/10] END classifier__C=10, classifier__kernel=rbf;, score=0.829 total time=  20.7s\n",
      "[CV 8/10] END classifier__C=10, classifier__kernel=rbf;, score=0.822 total time=  22.5s\n",
      "[CV 9/10] END classifier__C=10, classifier__kernel=rbf;, score=0.828 total time=  22.4s\n",
      "[CV 10/10] END classifier__C=10, classifier__kernel=rbf;, score=0.822 total time=  22.5s\n",
      "TRAIN- The best parameters are {'classifier__C': 10, 'classifier__kernel': 'rbf'} with an accuracy of 0.8267\n",
      "F1 Score of train data: 0.8902 Acc: 0.8902270483711747\n",
      "F1 Score of test data: 0.8270 Acc: 0.827186512118019\n"
     ]
    }
   ],
   "source": [
    "# REsults from Varianec threshold method\n",
    "param_grid = {'classifier__C': [10],\n",
    "              'classifier__kernel': ['rbf']}\n",
    "cv = StratifiedKFold(n_splits=10, shuffle=True, random_state=42)\n",
    "classifier = svm.SVC()\n",
    "pipe = Pipeline([('scaler', StandardScaler()),('classifier', classifier)])\n",
    "grid_search = GridSearchCV(pipe, param_grid, cv=cv, refit = True, verbose = 3)\n",
    "grid_search.fit(X_train_new, y_train)\n",
    "print(\"TRAIN- The best parameters are %s with an accuracy of %0.4f\"%(grid_search.best_params_, grid_search.best_score_))\n",
    "y_train_predicted = grid_search.predict(X_train_new)\n",
    "y_test_predicted =  grid_search.predict(X_test_new)\n",
    "print('F1 Score of train data: %0.4f' %f1_score(y_train,y_train_predicted,average='macro'), f'Acc: {accuracy_score(y_train, y_train_predicted)}')\n",
    "print('F1 Score of test data: %0.4f' %f1_score(y_test,y_test_predicted,average='macro'), f'Acc: {accuracy_score(y_test, y_test_predicted)}')"
   ],
   "metadata": {
    "collapsed": false
   }
  },
  {
   "cell_type": "code",
   "execution_count": 72,
   "outputs": [
    {
     "name": "stdout",
     "output_type": "stream",
     "text": [
      "Fitting 10 folds for each of 1 candidates, totalling 10 fits\n"
     ]
    },
    {
     "name": "stderr",
     "output_type": "stream",
     "text": [
      "C:\\Users\\Lenovo\\.virtualenvs\\Skin_lesion_segmentation\\lib\\site-packages\\sklearn\\utils\\validation.py:1111: DataConversionWarning: A column-vector y was passed when a 1d array was expected. Please change the shape of y to (n_samples, ), for example using ravel().\n",
      "  y = column_or_1d(y, warn=True)\n"
     ]
    },
    {
     "name": "stdout",
     "output_type": "stream",
     "text": [
      "[CV 1/10] END classifier__C=10, classifier__kernel=rbf;, score=0.821 total time=  23.2s\n"
     ]
    },
    {
     "name": "stderr",
     "output_type": "stream",
     "text": [
      "C:\\Users\\Lenovo\\.virtualenvs\\Skin_lesion_segmentation\\lib\\site-packages\\sklearn\\utils\\validation.py:1111: DataConversionWarning: A column-vector y was passed when a 1d array was expected. Please change the shape of y to (n_samples, ), for example using ravel().\n",
      "  y = column_or_1d(y, warn=True)\n"
     ]
    },
    {
     "name": "stdout",
     "output_type": "stream",
     "text": [
      "[CV 2/10] END classifier__C=10, classifier__kernel=rbf;, score=0.827 total time=  24.0s\n"
     ]
    },
    {
     "name": "stderr",
     "output_type": "stream",
     "text": [
      "C:\\Users\\Lenovo\\.virtualenvs\\Skin_lesion_segmentation\\lib\\site-packages\\sklearn\\utils\\validation.py:1111: DataConversionWarning: A column-vector y was passed when a 1d array was expected. Please change the shape of y to (n_samples, ), for example using ravel().\n",
      "  y = column_or_1d(y, warn=True)\n"
     ]
    },
    {
     "name": "stdout",
     "output_type": "stream",
     "text": [
      "[CV 3/10] END classifier__C=10, classifier__kernel=rbf;, score=0.832 total time=  18.8s\n"
     ]
    },
    {
     "name": "stderr",
     "output_type": "stream",
     "text": [
      "C:\\Users\\Lenovo\\.virtualenvs\\Skin_lesion_segmentation\\lib\\site-packages\\sklearn\\utils\\validation.py:1111: DataConversionWarning: A column-vector y was passed when a 1d array was expected. Please change the shape of y to (n_samples, ), for example using ravel().\n",
      "  y = column_or_1d(y, warn=True)\n"
     ]
    },
    {
     "name": "stdout",
     "output_type": "stream",
     "text": [
      "[CV 4/10] END classifier__C=10, classifier__kernel=rbf;, score=0.836 total time=  19.6s\n"
     ]
    },
    {
     "name": "stderr",
     "output_type": "stream",
     "text": [
      "C:\\Users\\Lenovo\\.virtualenvs\\Skin_lesion_segmentation\\lib\\site-packages\\sklearn\\utils\\validation.py:1111: DataConversionWarning: A column-vector y was passed when a 1d array was expected. Please change the shape of y to (n_samples, ), for example using ravel().\n",
      "  y = column_or_1d(y, warn=True)\n"
     ]
    },
    {
     "name": "stdout",
     "output_type": "stream",
     "text": [
      "[CV 5/10] END classifier__C=10, classifier__kernel=rbf;, score=0.829 total time=  18.9s\n"
     ]
    },
    {
     "name": "stderr",
     "output_type": "stream",
     "text": [
      "C:\\Users\\Lenovo\\.virtualenvs\\Skin_lesion_segmentation\\lib\\site-packages\\sklearn\\utils\\validation.py:1111: DataConversionWarning: A column-vector y was passed when a 1d array was expected. Please change the shape of y to (n_samples, ), for example using ravel().\n",
      "  y = column_or_1d(y, warn=True)\n"
     ]
    },
    {
     "name": "stdout",
     "output_type": "stream",
     "text": [
      "[CV 6/10] END classifier__C=10, classifier__kernel=rbf;, score=0.843 total time=  19.2s\n"
     ]
    },
    {
     "name": "stderr",
     "output_type": "stream",
     "text": [
      "C:\\Users\\Lenovo\\.virtualenvs\\Skin_lesion_segmentation\\lib\\site-packages\\sklearn\\utils\\validation.py:1111: DataConversionWarning: A column-vector y was passed when a 1d array was expected. Please change the shape of y to (n_samples, ), for example using ravel().\n",
      "  y = column_or_1d(y, warn=True)\n"
     ]
    },
    {
     "name": "stdout",
     "output_type": "stream",
     "text": [
      "[CV 7/10] END classifier__C=10, classifier__kernel=rbf;, score=0.829 total time=  19.5s\n"
     ]
    },
    {
     "name": "stderr",
     "output_type": "stream",
     "text": [
      "C:\\Users\\Lenovo\\.virtualenvs\\Skin_lesion_segmentation\\lib\\site-packages\\sklearn\\utils\\validation.py:1111: DataConversionWarning: A column-vector y was passed when a 1d array was expected. Please change the shape of y to (n_samples, ), for example using ravel().\n",
      "  y = column_or_1d(y, warn=True)\n"
     ]
    },
    {
     "name": "stdout",
     "output_type": "stream",
     "text": [
      "[CV 8/10] END classifier__C=10, classifier__kernel=rbf;, score=0.826 total time=  19.3s\n"
     ]
    },
    {
     "name": "stderr",
     "output_type": "stream",
     "text": [
      "C:\\Users\\Lenovo\\.virtualenvs\\Skin_lesion_segmentation\\lib\\site-packages\\sklearn\\utils\\validation.py:1111: DataConversionWarning: A column-vector y was passed when a 1d array was expected. Please change the shape of y to (n_samples, ), for example using ravel().\n",
      "  y = column_or_1d(y, warn=True)\n"
     ]
    },
    {
     "name": "stdout",
     "output_type": "stream",
     "text": [
      "[CV 9/10] END classifier__C=10, classifier__kernel=rbf;, score=0.830 total time=  18.9s\n"
     ]
    },
    {
     "name": "stderr",
     "output_type": "stream",
     "text": [
      "C:\\Users\\Lenovo\\.virtualenvs\\Skin_lesion_segmentation\\lib\\site-packages\\sklearn\\utils\\validation.py:1111: DataConversionWarning: A column-vector y was passed when a 1d array was expected. Please change the shape of y to (n_samples, ), for example using ravel().\n",
      "  y = column_or_1d(y, warn=True)\n"
     ]
    },
    {
     "name": "stdout",
     "output_type": "stream",
     "text": [
      "[CV 10/10] END classifier__C=10, classifier__kernel=rbf;, score=0.828 total time=  19.1s\n"
     ]
    },
    {
     "name": "stderr",
     "output_type": "stream",
     "text": [
      "C:\\Users\\Lenovo\\.virtualenvs\\Skin_lesion_segmentation\\lib\\site-packages\\sklearn\\utils\\validation.py:1111: DataConversionWarning: A column-vector y was passed when a 1d array was expected. Please change the shape of y to (n_samples, ), for example using ravel().\n",
      "  y = column_or_1d(y, warn=True)\n"
     ]
    },
    {
     "name": "stdout",
     "output_type": "stream",
     "text": [
      "TRAIN- The best parameters are {'classifier__C': 10, 'classifier__kernel': 'rbf'} with an accuracy of 0.8301\n",
      "F1 Score of train data: 0.8993 Acc: 0.8993089832181639\n",
      "F1 Score of test data: 0.8320 Acc: 0.8321917808219178\n"
     ]
    }
   ],
   "source": [
    "# REsults from select from model method\n",
    "param_grid = {'classifier__C': [10],\n",
    "              'classifier__kernel': ['rbf']}\n",
    "cv = StratifiedKFold(n_splits=10, shuffle=True, random_state=42)\n",
    "classifier = svm.SVC()\n",
    "pipe = Pipeline([('scaler', StandardScaler()),('classifier', classifier)])\n",
    "grid_search = GridSearchCV(pipe, param_grid, cv=cv, refit = True, verbose = 3)\n",
    "grid_search.fit(X_train_new, y_train_new)\n",
    "print(\"TRAIN- The best parameters are %s with an accuracy of %0.4f\"%(grid_search.best_params_, grid_search.best_score_))\n",
    "y_train_predicted = grid_search.predict(X_train_new)\n",
    "y_test_predicted =  grid_search.predict(X_test_new)\n",
    "print('F1 Score of train data: %0.4f' %f1_score(y_train_new,y_train_predicted,average='macro'), f'Acc: {accuracy_score(y_train_new, y_train_predicted)}')\n",
    "print('F1 Score of test data: %0.4f' %f1_score(y_test_new,y_test_predicted,average='macro'), f'Acc: {accuracy_score(y_test_new, y_test_predicted)}')"
   ],
   "metadata": {
    "collapsed": false
   }
  }
 ],
 "metadata": {
  "kernelspec": {
   "display_name": "Python 3",
   "language": "python",
   "name": "python3"
  },
  "language_info": {
   "codemirror_mode": {
    "name": "ipython",
    "version": 2
   },
   "file_extension": ".py",
   "mimetype": "text/x-python",
   "name": "python",
   "nbconvert_exporter": "python",
   "pygments_lexer": "ipython2",
   "version": "2.7.6"
  }
 },
 "nbformat": 4,
 "nbformat_minor": 0
}
