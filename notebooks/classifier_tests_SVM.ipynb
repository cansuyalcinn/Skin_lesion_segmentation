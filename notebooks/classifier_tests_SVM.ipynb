{
 "cells": [
  {
   "cell_type": "code",
   "execution_count": 1,
   "outputs": [
    {
     "data": {
      "text/plain": "<function sklearnex.dispatcher.patch_sklearn(name=None, verbose=True, global_patch=False)>"
     },
     "execution_count": 1,
     "metadata": {},
     "output_type": "execute_result"
    }
   ],
   "source": [
    "from sklearnex import patch_sklearn\n",
    "patch_sklearn"
   ],
   "metadata": {
    "collapsed": false
   }
  },
  {
   "cell_type": "code",
   "execution_count": 2,
   "outputs": [],
   "source": [
    "import os\n",
    "import sys; sys.path.insert(0, os.path.abspath(\"../\"))\n",
    "import cv2\n",
    "import numpy as np\n",
    "from sklearn import svm\n",
    "import pandas as pd\n",
    "from tqdm import tqdm\n",
    "from dataset.dataset import SkinLesion_Dataset, SegExamples\n",
    "from pipeline.preprocessing import SkinLesionPreprocessing\n",
    "from pipeline.feature_extraction import FeaturesExtraction\n",
    "\n",
    "import multiprocessing as mp\n",
    "from tqdm import tqdm\n",
    "\n",
    "from sklearn.model_selection import GridSearchCV, StratifiedKFold\n",
    "from sklearn.ensemble import RandomForestClassifier\n",
    "import pickle\n",
    "from sklearn import preprocessing\n",
    "from sklearn.preprocessing import StandardScaler\n",
    "from sklearn.pipeline import Pipeline\n",
    "from sklearn.metrics import f1_score, accuracy_score\n",
    "from sklearn.model_selection import GridSearchCV\n",
    "from sklearn.preprocessing import OneHotEncoder\n",
    "from sklearn.model_selection import GridSearchCV, StratifiedKFold\n",
    "from sklearn.ensemble import RandomForestClassifier\n",
    "import pickle\n",
    "from sklearn.svm import LinearSVC\n",
    "from sklearn import preprocessing\n",
    "from sklearn.preprocessing import StandardScaler\n",
    "from sklearn.pipeline import Pipeline\n",
    "from sklearn.metrics import f1_score, accuracy_score\n",
    "from sklearn.feature_selection import VarianceThreshold\n",
    "from sklearn.feature_selection import SelectFromModel"
   ],
   "metadata": {
    "collapsed": false
   }
  },
  {
   "cell_type": "code",
   "execution_count": 3,
   "outputs": [
    {
     "name": "stdout",
     "output_type": "stream",
     "text": [
      "train shape: (15195, 144), val shape: (3796, 144)\n",
      "train shape multi: (5082, 144), val shape multi: (1270, 144)\n"
     ]
    }
   ],
   "source": [
    "# Binary feather files\n",
    "train_f = pd.read_feather(\"../data/binary/train_all_feat.f\", columns=None, use_threads=True, storage_options=None)\n",
    "val_f = pd.read_feather(\"../data/binary/val_all_features.f\", columns=None, use_threads=True, storage_options=None)\n",
    "train_shape = train_f.shape\n",
    "val_shape = val_f.shape\n",
    "print(f'train shape: {train_shape}, val shape: {val_shape}')\n",
    "# Multi-class feather files.\n",
    "train_f_mul = pd.read_feather(\"../data/three_class/train_all_feat.f\", columns=None, use_threads=True, storage_options=None)\n",
    "val_f_mul = pd.read_feather(\"../data/three_class/val_all_feat.f\", columns=None, use_threads=True, storage_options=None)\n",
    "train_shape_m = train_f_mul.shape\n",
    "val_shape_m = val_f_mul.shape\n",
    "print(f'train shape multi: {train_shape_m}, val shape multi: {val_shape_m}')"
   ],
   "metadata": {
    "collapsed": false
   }
  },
  {
   "cell_type": "code",
   "execution_count": 4,
   "outputs": [
    {
     "name": "stdout",
     "output_type": "stream",
     "text": [
      "df_train: (15195, 144), df_val: (3796, 144)\n",
      "X_train_new: float32, y_train: (15195,), X_test_new: (3796, 143), y_test: (3796,)\n",
      "X_var: (18991, 91)\n",
      "Performing Feature Selection ... \n"
     ]
    },
    {
     "name": "stderr",
     "output_type": "stream",
     "text": [
      "C:\\Users\\Lenovo\\.virtualenvs\\Skin_lesion_segmentation\\lib\\site-packages\\sklearn\\utils\\validation.py:1111: DataConversionWarning: A column-vector y was passed when a 1d array was expected. Please change the shape of y to (n_samples, ), for example using ravel().\n",
      "  y = column_or_1d(y, warn=True)\n"
     ]
    },
    {
     "name": "stdout",
     "output_type": "stream",
     "text": [
      "X_sfm: (18991, 85)\n",
      "X_train_var: (15195, 91), y_train: (15195,), X_test_var: (3796, 91), y_test: (3796,)\n",
      "X_train_new: (15195, 85), y_train: (15195,), X_test_new: (3796, 85), y_test: (3796,)\n"
     ]
    },
    {
     "name": "stderr",
     "output_type": "stream",
     "text": [
      "C:\\Users\\Lenovo\\.virtualenvs\\Skin_lesion_segmentation\\lib\\site-packages\\sklearn\\svm\\_base.py:1225: ConvergenceWarning: Liblinear failed to converge, increase the number of iterations.\n",
      "  warnings.warn(\n"
     ]
    }
   ],
   "source": [
    "## Pre-processing\n",
    "# Binary case\n",
    "train_f.replace({'nevus': 1, 'others': 0}, inplace=True)\n",
    "val_f.replace({'nevus': 1, 'others': 0}, inplace=True)\n",
    "\n",
    "df_train = train_f.iloc[:train_shape[0], :].sample(frac=1, random_state=42)\n",
    "df_val = val_f.iloc[:val_shape[0], :].sample(frac=1, random_state=42)\n",
    "print(f\"df_train: {df_train.shape}, df_val: {df_val.shape}\")\n",
    "\n",
    "X_train, y_train = df_train.iloc[:, :(train_shape[1]-1)].to_numpy(dtype=np.float32), df_train.iloc[:, (train_shape[1]-1)].to_numpy()\n",
    "X_test, y_test = df_val.iloc[:, :(val_shape[1]-1)].to_numpy(dtype= np.float32), df_val.iloc[:, (val_shape[1]-1)].to_numpy()\n",
    "\n",
    "print(f'X_train_new: {X_train.dtype}, y_train: {y_train.shape}, X_test_new: {X_test.shape}, y_test: {y_test.shape}')\n",
    "\n",
    "X_train_f = pd.DataFrame(X_train)\n",
    "X_test_f = pd.DataFrame(X_test)\n",
    "y_train_f = pd.DataFrame(y_train)\n",
    "y_test_f = pd.DataFrame(y_test)\n",
    "frames = [X_train_f, X_test_f]\n",
    "f = [y_train_f, y_test_f]\n",
    "X = pd.concat(frames)\n",
    "y = pd.concat(f)\n",
    "\n",
    "# Feature Selection -- VARIANCE THRESHOLD\n",
    "sel_var = VarianceThreshold(threshold=(.8 * (1 - .8)))\n",
    "X_var= sel_var.fit_transform(X)\n",
    "print(f'X_var: {X_var.shape}')\n",
    "\n",
    "## Feature Selection -- SelectFromModel\n",
    "sel_sfm = SelectFromModel(LinearSVC(C = 0.09, penalty=\"l1\",  dual=False))\n",
    "print(\"Performing Feature Selection ... \")\n",
    "X_sfm = sel_sfm.fit_transform(X, y)\n",
    "print(f'X_sfm: {X_sfm.shape}')\n",
    "\n",
    "# split dataframe X again into train and test -- VARIANCE THRESHOLD\n",
    "X_train_var = pd.DataFrame(X_var).iloc[:len(X_train_f[0])].to_numpy(dtype=np.float32)\n",
    "X_test_var = pd.DataFrame(X_var).iloc[len(X_train_f[0]):].to_numpy(dtype=np.float32)\n",
    "y_train_new = pd.DataFrame(y).iloc[:len(y_train_f[0])].to_numpy(dtype=np.float32)\n",
    "y_test_new = pd.DataFrame(y).iloc[len(y_train_f[0]):].to_numpy(dtype=np.float32)\n",
    "print(f'X_train_var: {X_train_var.shape}, y_train: {y_train.shape}, X_test_var: {X_test_var.shape}, y_test: {y_test.shape}')\n",
    "\n",
    "# split dataframe X again into train and test SFM\n",
    "X_train_new = pd.DataFrame(X_sfm).iloc[:len(X_train_f[0])].to_numpy(dtype=np.float32)\n",
    "X_test_new = pd.DataFrame(X_sfm).iloc[len(X_train_f[0]):].to_numpy(dtype=np.float32)\n",
    "y_train_new = pd.DataFrame(y).iloc[:len(y_train_f[0])].to_numpy(dtype=np.float32)\n",
    "y_test_new = pd.DataFrame(y).iloc[len(y_train_f[0]):].to_numpy(dtype=np.float32)\n",
    "print(f'X_train_new: {X_train_new.shape}, y_train: {y_train.shape}, X_test_new: {X_test_new.shape}, y_test: {y_test.shape}')"
   ],
   "metadata": {
    "collapsed": false
   }
  },
  {
   "cell_type": "code",
   "execution_count": null,
   "outputs": [
    {
     "name": "stdout",
     "output_type": "stream",
     "text": [
      "Fitting 10 folds for each of 48 candidates, totalling 480 fits\n",
      "[CV 1/10] END classifier__C=0.1, classifier__gamma=1, classifier__kernel=rbf;, score=0.509 total time= 1.3min\n",
      "[CV 2/10] END classifier__C=0.1, classifier__gamma=1, classifier__kernel=rbf;, score=0.509 total time= 1.2min\n",
      "[CV 3/10] END classifier__C=0.1, classifier__gamma=1, classifier__kernel=rbf;, score=0.509 total time= 1.2min\n",
      "[CV 4/10] END classifier__C=0.1, classifier__gamma=1, classifier__kernel=rbf;, score=0.509 total time= 1.4min\n",
      "[CV 5/10] END classifier__C=0.1, classifier__gamma=1, classifier__kernel=rbf;, score=0.509 total time= 1.2min\n",
      "[CV 6/10] END classifier__C=0.1, classifier__gamma=1, classifier__kernel=rbf;, score=0.508 total time= 1.3min\n",
      "[CV 7/10] END classifier__C=0.1, classifier__gamma=1, classifier__kernel=rbf;, score=0.508 total time= 1.3min\n",
      "[CV 8/10] END classifier__C=0.1, classifier__gamma=1, classifier__kernel=rbf;, score=0.508 total time= 1.3min\n",
      "[CV 9/10] END classifier__C=0.1, classifier__gamma=1, classifier__kernel=rbf;, score=0.508 total time= 1.5min\n",
      "[CV 10/10] END classifier__C=0.1, classifier__gamma=1, classifier__kernel=rbf;, score=0.508 total time= 1.6min\n",
      "[CV 1/10] END classifier__C=0.1, classifier__gamma=1, classifier__kernel=linear;, score=0.801 total time=  43.5s\n",
      "[CV 2/10] END classifier__C=0.1, classifier__gamma=1, classifier__kernel=linear;, score=0.795 total time=  29.4s\n",
      "[CV 3/10] END classifier__C=0.1, classifier__gamma=1, classifier__kernel=linear;, score=0.811 total time=  37.3s\n",
      "[CV 4/10] END classifier__C=0.1, classifier__gamma=1, classifier__kernel=linear;, score=0.807 total time=  38.1s\n",
      "[CV 5/10] END classifier__C=0.1, classifier__gamma=1, classifier__kernel=linear;, score=0.813 total time=  28.5s\n",
      "[CV 6/10] END classifier__C=0.1, classifier__gamma=1, classifier__kernel=linear;, score=0.825 total time=  28.6s\n",
      "[CV 7/10] END classifier__C=0.1, classifier__gamma=1, classifier__kernel=linear;, score=0.799 total time=  32.1s\n",
      "[CV 8/10] END classifier__C=0.1, classifier__gamma=1, classifier__kernel=linear;, score=0.797 total time=  32.2s\n",
      "[CV 9/10] END classifier__C=0.1, classifier__gamma=1, classifier__kernel=linear;, score=0.799 total time=  27.6s\n",
      "[CV 10/10] END classifier__C=0.1, classifier__gamma=1, classifier__kernel=linear;, score=0.801 total time=  29.2s\n",
      "[CV 1/10] END classifier__C=0.1, classifier__gamma=1, classifier__kernel=poly;, score=0.786 total time= 6.4min\n",
      "[CV 2/10] END classifier__C=0.1, classifier__gamma=1, classifier__kernel=poly;, score=0.798 total time= 8.0min\n",
      "[CV 3/10] END classifier__C=0.1, classifier__gamma=1, classifier__kernel=poly;, score=0.799 total time= 8.8min\n",
      "[CV 4/10] END classifier__C=0.1, classifier__gamma=1, classifier__kernel=poly;, score=0.803 total time= 7.8min\n",
      "[CV 5/10] END classifier__C=0.1, classifier__gamma=1, classifier__kernel=poly;, score=0.772 total time= 7.5min\n",
      "[CV 6/10] END classifier__C=0.1, classifier__gamma=1, classifier__kernel=poly;, score=0.803 total time= 8.7min\n",
      "[CV 7/10] END classifier__C=0.1, classifier__gamma=1, classifier__kernel=poly;, score=0.789 total time= 6.7min\n",
      "[CV 8/10] END classifier__C=0.1, classifier__gamma=1, classifier__kernel=poly;, score=0.776 total time= 7.1min\n",
      "[CV 9/10] END classifier__C=0.1, classifier__gamma=1, classifier__kernel=poly;, score=0.783 total time= 6.0min\n",
      "[CV 10/10] END classifier__C=0.1, classifier__gamma=1, classifier__kernel=poly;, score=0.787 total time= 6.8min\n",
      "[CV 1/10] END classifier__C=0.1, classifier__gamma=0.1, classifier__kernel=rbf;, score=0.661 total time=  45.1s\n",
      "[CV 2/10] END classifier__C=0.1, classifier__gamma=0.1, classifier__kernel=rbf;, score=0.659 total time=  47.0s\n",
      "[CV 3/10] END classifier__C=0.1, classifier__gamma=0.1, classifier__kernel=rbf;, score=0.684 total time=  43.0s\n",
      "[CV 4/10] END classifier__C=0.1, classifier__gamma=0.1, classifier__kernel=rbf;, score=0.652 total time=  44.9s\n",
      "[CV 5/10] END classifier__C=0.1, classifier__gamma=0.1, classifier__kernel=rbf;, score=0.664 total time=  41.3s\n",
      "[CV 6/10] END classifier__C=0.1, classifier__gamma=0.1, classifier__kernel=rbf;, score=0.672 total time=  43.7s\n",
      "[CV 7/10] END classifier__C=0.1, classifier__gamma=0.1, classifier__kernel=rbf;, score=0.675 total time=  47.2s\n",
      "[CV 8/10] END classifier__C=0.1, classifier__gamma=0.1, classifier__kernel=rbf;, score=0.657 total time=  41.6s\n",
      "[CV 9/10] END classifier__C=0.1, classifier__gamma=0.1, classifier__kernel=rbf;, score=0.677 total time=  45.3s\n",
      "[CV 10/10] END classifier__C=0.1, classifier__gamma=0.1, classifier__kernel=rbf;, score=0.668 total time=  42.8s\n",
      "[CV 1/10] END classifier__C=0.1, classifier__gamma=0.1, classifier__kernel=linear;, score=0.801 total time=  31.3s\n",
      "[CV 2/10] END classifier__C=0.1, classifier__gamma=0.1, classifier__kernel=linear;, score=0.795 total time=  29.0s\n",
      "[CV 3/10] END classifier__C=0.1, classifier__gamma=0.1, classifier__kernel=linear;, score=0.811 total time=  30.0s\n",
      "[CV 4/10] END classifier__C=0.1, classifier__gamma=0.1, classifier__kernel=linear;, score=0.807 total time=  28.2s\n",
      "[CV 5/10] END classifier__C=0.1, classifier__gamma=0.1, classifier__kernel=linear;, score=0.813 total time=  27.1s\n",
      "[CV 6/10] END classifier__C=0.1, classifier__gamma=0.1, classifier__kernel=linear;, score=0.825 total time=  28.3s\n",
      "[CV 7/10] END classifier__C=0.1, classifier__gamma=0.1, classifier__kernel=linear;, score=0.799 total time=  28.7s\n",
      "[CV 8/10] END classifier__C=0.1, classifier__gamma=0.1, classifier__kernel=linear;, score=0.797 total time=  28.1s\n",
      "[CV 9/10] END classifier__C=0.1, classifier__gamma=0.1, classifier__kernel=linear;, score=0.799 total time=  26.7s\n",
      "[CV 10/10] END classifier__C=0.1, classifier__gamma=0.1, classifier__kernel=linear;, score=0.801 total time=  27.9s\n",
      "[CV 1/10] END classifier__C=0.1, classifier__gamma=0.1, classifier__kernel=poly;, score=0.805 total time= 2.4min\n",
      "[CV 2/10] END classifier__C=0.1, classifier__gamma=0.1, classifier__kernel=poly;, score=0.818 total time= 2.4min\n",
      "[CV 3/10] END classifier__C=0.1, classifier__gamma=0.1, classifier__kernel=poly;, score=0.825 total time= 2.7min\n",
      "[CV 4/10] END classifier__C=0.1, classifier__gamma=0.1, classifier__kernel=poly;, score=0.834 total time= 2.6min\n",
      "[CV 5/10] END classifier__C=0.1, classifier__gamma=0.1, classifier__kernel=poly;, score=0.813 total time= 2.3min\n",
      "[CV 6/10] END classifier__C=0.1, classifier__gamma=0.1, classifier__kernel=poly;, score=0.839 total time= 2.4min\n",
      "[CV 7/10] END classifier__C=0.1, classifier__gamma=0.1, classifier__kernel=poly;, score=0.813 total time= 2.3min\n",
      "[CV 8/10] END classifier__C=0.1, classifier__gamma=0.1, classifier__kernel=poly;, score=0.810 total time= 2.2min\n",
      "[CV 9/10] END classifier__C=0.1, classifier__gamma=0.1, classifier__kernel=poly;, score=0.817 total time= 2.1min\n",
      "[CV 10/10] END classifier__C=0.1, classifier__gamma=0.1, classifier__kernel=poly;, score=0.810 total time= 2.4min\n",
      "[CV 1/10] END classifier__C=0.1, classifier__gamma=0.01, classifier__kernel=rbf;, score=0.793 total time=  25.4s\n",
      "[CV 2/10] END classifier__C=0.1, classifier__gamma=0.01, classifier__kernel=rbf;, score=0.794 total time=  26.5s\n",
      "[CV 3/10] END classifier__C=0.1, classifier__gamma=0.01, classifier__kernel=rbf;, score=0.812 total time=  26.5s\n",
      "[CV 4/10] END classifier__C=0.1, classifier__gamma=0.01, classifier__kernel=rbf;, score=0.813 total time=  25.4s\n",
      "[CV 5/10] END classifier__C=0.1, classifier__gamma=0.01, classifier__kernel=rbf;, score=0.811 total time=  27.8s\n",
      "[CV 6/10] END classifier__C=0.1, classifier__gamma=0.01, classifier__kernel=rbf;, score=0.825 total time=  29.8s\n",
      "[CV 7/10] END classifier__C=0.1, classifier__gamma=0.01, classifier__kernel=rbf;, score=0.793 total time=  27.0s\n",
      "[CV 8/10] END classifier__C=0.1, classifier__gamma=0.01, classifier__kernel=rbf;, score=0.791 total time=  25.9s\n",
      "[CV 9/10] END classifier__C=0.1, classifier__gamma=0.01, classifier__kernel=rbf;, score=0.795 total time=  27.5s\n",
      "[CV 10/10] END classifier__C=0.1, classifier__gamma=0.01, classifier__kernel=rbf;, score=0.806 total time=  28.3s\n",
      "[CV 1/10] END classifier__C=0.1, classifier__gamma=0.01, classifier__kernel=linear;, score=0.801 total time=  27.1s\n",
      "[CV 2/10] END classifier__C=0.1, classifier__gamma=0.01, classifier__kernel=linear;, score=0.795 total time=  25.0s\n",
      "[CV 3/10] END classifier__C=0.1, classifier__gamma=0.01, classifier__kernel=linear;, score=0.811 total time=  24.8s\n",
      "[CV 4/10] END classifier__C=0.1, classifier__gamma=0.01, classifier__kernel=linear;, score=0.807 total time=  31.6s\n",
      "[CV 5/10] END classifier__C=0.1, classifier__gamma=0.01, classifier__kernel=linear;, score=0.813 total time=  28.5s\n",
      "[CV 6/10] END classifier__C=0.1, classifier__gamma=0.01, classifier__kernel=linear;, score=0.825 total time=  25.7s\n",
      "[CV 7/10] END classifier__C=0.1, classifier__gamma=0.01, classifier__kernel=linear;, score=0.799 total time=  24.5s\n",
      "[CV 8/10] END classifier__C=0.1, classifier__gamma=0.01, classifier__kernel=linear;, score=0.797 total time=  26.5s\n",
      "[CV 9/10] END classifier__C=0.1, classifier__gamma=0.01, classifier__kernel=linear;, score=0.799 total time=  29.4s\n",
      "[CV 10/10] END classifier__C=0.1, classifier__gamma=0.01, classifier__kernel=linear;, score=0.801 total time=  29.1s\n",
      "[CV 1/10] END classifier__C=0.1, classifier__gamma=0.01, classifier__kernel=poly;, score=0.796 total time=  23.7s\n",
      "[CV 2/10] END classifier__C=0.1, classifier__gamma=0.01, classifier__kernel=poly;, score=0.793 total time=  23.5s\n",
      "[CV 3/10] END classifier__C=0.1, classifier__gamma=0.01, classifier__kernel=poly;, score=0.823 total time=  26.4s\n",
      "[CV 4/10] END classifier__C=0.1, classifier__gamma=0.01, classifier__kernel=poly;, score=0.811 total time=  29.3s\n",
      "[CV 5/10] END classifier__C=0.1, classifier__gamma=0.01, classifier__kernel=poly;, score=0.803 total time=  28.3s\n",
      "[CV 6/10] END classifier__C=0.1, classifier__gamma=0.01, classifier__kernel=poly;, score=0.820 total time=  31.1s\n",
      "[CV 7/10] END classifier__C=0.1, classifier__gamma=0.01, classifier__kernel=poly;, score=0.803 total time=  27.4s\n",
      "[CV 8/10] END classifier__C=0.1, classifier__gamma=0.01, classifier__kernel=poly;, score=0.797 total time=  38.6s\n",
      "[CV 9/10] END classifier__C=0.1, classifier__gamma=0.01, classifier__kernel=poly;, score=0.795 total time=  35.8s\n",
      "[CV 10/10] END classifier__C=0.1, classifier__gamma=0.01, classifier__kernel=poly;, score=0.808 total time=  31.5s\n",
      "[CV 1/10] END classifier__C=0.1, classifier__gamma=0.001, classifier__kernel=rbf;, score=0.786 total time=  38.7s\n",
      "[CV 2/10] END classifier__C=0.1, classifier__gamma=0.001, classifier__kernel=rbf;, score=0.778 total time=  37.3s\n",
      "[CV 3/10] END classifier__C=0.1, classifier__gamma=0.001, classifier__kernel=rbf;, score=0.803 total time=  41.0s\n",
      "[CV 4/10] END classifier__C=0.1, classifier__gamma=0.001, classifier__kernel=rbf;, score=0.793 total time=  36.8s\n",
      "[CV 5/10] END classifier__C=0.1, classifier__gamma=0.001, classifier__kernel=rbf;, score=0.797 total time=  37.1s\n",
      "[CV 6/10] END classifier__C=0.1, classifier__gamma=0.001, classifier__kernel=rbf;, score=0.812 total time=  37.6s\n",
      "[CV 7/10] END classifier__C=0.1, classifier__gamma=0.001, classifier__kernel=rbf;, score=0.783 total time=  37.6s\n",
      "[CV 8/10] END classifier__C=0.1, classifier__gamma=0.001, classifier__kernel=rbf;, score=0.790 total time=  38.7s\n",
      "[CV 9/10] END classifier__C=0.1, classifier__gamma=0.001, classifier__kernel=rbf;, score=0.777 total time=  37.4s\n",
      "[CV 10/10] END classifier__C=0.1, classifier__gamma=0.001, classifier__kernel=rbf;, score=0.803 total time=  37.3s\n",
      "[CV 1/10] END classifier__C=0.1, classifier__gamma=0.001, classifier__kernel=linear;, score=0.801 total time=  34.2s\n",
      "[CV 2/10] END classifier__C=0.1, classifier__gamma=0.001, classifier__kernel=linear;, score=0.795 total time=  35.1s\n",
      "[CV 3/10] END classifier__C=0.1, classifier__gamma=0.001, classifier__kernel=linear;, score=0.811 total time=  36.2s\n",
      "[CV 4/10] END classifier__C=0.1, classifier__gamma=0.001, classifier__kernel=linear;, score=0.807 total time=  37.1s\n",
      "[CV 5/10] END classifier__C=0.1, classifier__gamma=0.001, classifier__kernel=linear;, score=0.813 total time=  36.2s\n",
      "[CV 6/10] END classifier__C=0.1, classifier__gamma=0.001, classifier__kernel=linear;, score=0.825 total time=  35.5s\n",
      "[CV 7/10] END classifier__C=0.1, classifier__gamma=0.001, classifier__kernel=linear;, score=0.799 total time=  36.0s\n",
      "[CV 8/10] END classifier__C=0.1, classifier__gamma=0.001, classifier__kernel=linear;, score=0.797 total time=  37.0s\n",
      "[CV 9/10] END classifier__C=0.1, classifier__gamma=0.001, classifier__kernel=linear;, score=0.799 total time=  35.2s\n",
      "[CV 10/10] END classifier__C=0.1, classifier__gamma=0.001, classifier__kernel=linear;, score=0.801 total time=  36.3s\n",
      "[CV 1/10] END classifier__C=0.1, classifier__gamma=0.001, classifier__kernel=poly;, score=0.518 total time=  51.0s\n",
      "[CV 2/10] END classifier__C=0.1, classifier__gamma=0.001, classifier__kernel=poly;, score=0.516 total time=  51.4s\n",
      "[CV 3/10] END classifier__C=0.1, classifier__gamma=0.001, classifier__kernel=poly;, score=0.516 total time=  49.9s\n",
      "[CV 4/10] END classifier__C=0.1, classifier__gamma=0.001, classifier__kernel=poly;, score=0.512 total time=  51.3s\n",
      "[CV 5/10] END classifier__C=0.1, classifier__gamma=0.001, classifier__kernel=poly;, score=0.512 total time=  50.9s\n",
      "[CV 6/10] END classifier__C=0.1, classifier__gamma=0.001, classifier__kernel=poly;, score=0.512 total time=  51.6s\n",
      "[CV 7/10] END classifier__C=0.1, classifier__gamma=0.001, classifier__kernel=poly;, score=0.513 total time=  51.3s\n",
      "[CV 8/10] END classifier__C=0.1, classifier__gamma=0.001, classifier__kernel=poly;, score=0.513 total time=  50.6s\n",
      "[CV 9/10] END classifier__C=0.1, classifier__gamma=0.001, classifier__kernel=poly;, score=0.515 total time=  47.9s\n",
      "[CV 10/10] END classifier__C=0.1, classifier__gamma=0.001, classifier__kernel=poly;, score=0.515 total time=  51.2s\n",
      "[CV 1/10] END classifier__C=1, classifier__gamma=1, classifier__kernel=rbf;, score=0.530 total time= 2.4min\n",
      "[CV 2/10] END classifier__C=1, classifier__gamma=1, classifier__kernel=rbf;, score=0.529 total time= 2.3min\n",
      "[CV 3/10] END classifier__C=1, classifier__gamma=1, classifier__kernel=rbf;, score=0.541 total time= 2.2min\n",
      "[CV 4/10] END classifier__C=1, classifier__gamma=1, classifier__kernel=rbf;, score=0.536 total time= 2.0min\n",
      "[CV 5/10] END classifier__C=1, classifier__gamma=1, classifier__kernel=rbf;, score=0.529 total time= 2.0min\n",
      "[CV 6/10] END classifier__C=1, classifier__gamma=1, classifier__kernel=rbf;, score=0.530 total time= 2.6min\n",
      "[CV 7/10] END classifier__C=1, classifier__gamma=1, classifier__kernel=rbf;, score=0.539 total time= 2.4min\n",
      "[CV 8/10] END classifier__C=1, classifier__gamma=1, classifier__kernel=rbf;, score=0.529 total time= 2.2min\n",
      "[CV 9/10] END classifier__C=1, classifier__gamma=1, classifier__kernel=rbf;, score=0.535 total time= 2.1min\n",
      "[CV 10/10] END classifier__C=1, classifier__gamma=1, classifier__kernel=rbf;, score=0.533 total time= 2.3min\n",
      "[CV 1/10] END classifier__C=1, classifier__gamma=1, classifier__kernel=linear;, score=0.801 total time= 1.3min\n",
      "[CV 2/10] END classifier__C=1, classifier__gamma=1, classifier__kernel=linear;, score=0.800 total time= 1.3min\n",
      "[CV 3/10] END classifier__C=1, classifier__gamma=1, classifier__kernel=linear;, score=0.812 total time= 1.2min\n",
      "[CV 4/10] END classifier__C=1, classifier__gamma=1, classifier__kernel=linear;, score=0.802 total time= 1.0min\n",
      "[CV 5/10] END classifier__C=1, classifier__gamma=1, classifier__kernel=linear;, score=0.811 total time= 1.1min\n",
      "[CV 6/10] END classifier__C=1, classifier__gamma=1, classifier__kernel=linear;, score=0.827 total time= 1.1min\n",
      "[CV 7/10] END classifier__C=1, classifier__gamma=1, classifier__kernel=linear;, score=0.793 total time= 1.1min\n",
      "[CV 8/10] END classifier__C=1, classifier__gamma=1, classifier__kernel=linear;, score=0.796 total time= 1.1min\n",
      "[CV 9/10] END classifier__C=1, classifier__gamma=1, classifier__kernel=linear;, score=0.797 total time= 1.1min\n",
      "[CV 10/10] END classifier__C=1, classifier__gamma=1, classifier__kernel=linear;, score=0.802 total time= 1.2min\n",
      "[CV 1/10] END classifier__C=1, classifier__gamma=1, classifier__kernel=poly;, score=0.786 total time= 5.6min\n",
      "[CV 2/10] END classifier__C=1, classifier__gamma=1, classifier__kernel=poly;, score=0.798 total time= 6.8min\n",
      "[CV 3/10] END classifier__C=1, classifier__gamma=1, classifier__kernel=poly;, score=0.799 total time= 6.7min\n",
      "[CV 4/10] END classifier__C=1, classifier__gamma=1, classifier__kernel=poly;, score=0.803 total time= 6.5min\n",
      "[CV 5/10] END classifier__C=1, classifier__gamma=1, classifier__kernel=poly;, score=0.772 total time= 6.1min\n",
      "[CV 6/10] END classifier__C=1, classifier__gamma=1, classifier__kernel=poly;, score=0.803 total time= 7.3min\n",
      "[CV 7/10] END classifier__C=1, classifier__gamma=1, classifier__kernel=poly;, score=0.789 total time= 6.4min\n",
      "[CV 8/10] END classifier__C=1, classifier__gamma=1, classifier__kernel=poly;, score=0.776 total time= 6.9min\n",
      "[CV 9/10] END classifier__C=1, classifier__gamma=1, classifier__kernel=poly;, score=0.783 total time= 6.1min\n",
      "[CV 10/10] END classifier__C=1, classifier__gamma=1, classifier__kernel=poly;, score=0.787 total time= 7.3min\n",
      "[CV 1/10] END classifier__C=1, classifier__gamma=0.1, classifier__kernel=rbf;, score=0.825 total time= 2.3min\n",
      "[CV 2/10] END classifier__C=1, classifier__gamma=0.1, classifier__kernel=rbf;, score=0.830 total time= 1.7min\n",
      "[CV 3/10] END classifier__C=1, classifier__gamma=0.1, classifier__kernel=rbf;, score=0.839 total time= 1.9min\n",
      "[CV 4/10] END classifier__C=1, classifier__gamma=0.1, classifier__kernel=rbf;, score=0.839 total time= 1.8min\n",
      "[CV 5/10] END classifier__C=1, classifier__gamma=0.1, classifier__kernel=rbf;, score=0.824 total time= 2.1min\n",
      "[CV 6/10] END classifier__C=1, classifier__gamma=0.1, classifier__kernel=rbf;, score=0.849 total time= 1.7min\n",
      "[CV 7/10] END classifier__C=1, classifier__gamma=0.1, classifier__kernel=rbf;, score=0.825 total time= 1.6min\n",
      "[CV 8/10] END classifier__C=1, classifier__gamma=0.1, classifier__kernel=rbf;, score=0.831 total time= 1.6min\n",
      "[CV 9/10] END classifier__C=1, classifier__gamma=0.1, classifier__kernel=rbf;, score=0.824 total time= 1.6min\n",
      "[CV 10/10] END classifier__C=1, classifier__gamma=0.1, classifier__kernel=rbf;, score=0.832 total time= 1.5min\n",
      "[CV 1/10] END classifier__C=1, classifier__gamma=0.1, classifier__kernel=linear;, score=0.801 total time= 1.1min\n",
      "[CV 2/10] END classifier__C=1, classifier__gamma=0.1, classifier__kernel=linear;, score=0.800 total time= 1.1min\n",
      "[CV 3/10] END classifier__C=1, classifier__gamma=0.1, classifier__kernel=linear;, score=0.812 total time= 1.1min\n",
      "[CV 4/10] END classifier__C=1, classifier__gamma=0.1, classifier__kernel=linear;, score=0.802 total time= 1.2min\n",
      "[CV 5/10] END classifier__C=1, classifier__gamma=0.1, classifier__kernel=linear;, score=0.811 total time= 1.0min\n",
      "[CV 6/10] END classifier__C=1, classifier__gamma=0.1, classifier__kernel=linear;, score=0.827 total time= 1.2min\n",
      "[CV 7/10] END classifier__C=1, classifier__gamma=0.1, classifier__kernel=linear;, score=0.793 total time= 1.0min\n",
      "[CV 8/10] END classifier__C=1, classifier__gamma=0.1, classifier__kernel=linear;, score=0.796 total time= 1.2min\n",
      "[CV 9/10] END classifier__C=1, classifier__gamma=0.1, classifier__kernel=linear;, score=0.797 total time= 1.0min\n",
      "[CV 10/10] END classifier__C=1, classifier__gamma=0.1, classifier__kernel=linear;, score=0.802 total time= 1.1min\n",
      "[CV 1/10] END classifier__C=1, classifier__gamma=0.1, classifier__kernel=poly;, score=0.791 total time= 5.7min\n",
      "[CV 2/10] END classifier__C=1, classifier__gamma=0.1, classifier__kernel=poly;, score=0.799 total time= 5.5min\n",
      "[CV 3/10] END classifier__C=1, classifier__gamma=0.1, classifier__kernel=poly;, score=0.803 total time= 6.7min\n",
      "[CV 4/10] END classifier__C=1, classifier__gamma=0.1, classifier__kernel=poly;, score=0.812 total time= 5.1min\n",
      "[CV 5/10] END classifier__C=1, classifier__gamma=0.1, classifier__kernel=poly;, score=0.778 total time= 5.4min\n",
      "[CV 6/10] END classifier__C=1, classifier__gamma=0.1, classifier__kernel=poly;, score=0.812 total time= 5.5min\n",
      "[CV 7/10] END classifier__C=1, classifier__gamma=0.1, classifier__kernel=poly;, score=0.796 total time= 5.4min\n",
      "[CV 8/10] END classifier__C=1, classifier__gamma=0.1, classifier__kernel=poly;, score=0.789 total time= 5.2min\n",
      "[CV 9/10] END classifier__C=1, classifier__gamma=0.1, classifier__kernel=poly;, score=0.793 total time= 5.0min\n",
      "[CV 10/10] END classifier__C=1, classifier__gamma=0.1, classifier__kernel=poly;, score=0.788 total time= 5.5min\n",
      "[CV 1/10] END classifier__C=1, classifier__gamma=0.01, classifier__kernel=rbf;, score=0.810 total time=  26.7s\n",
      "[CV 2/10] END classifier__C=1, classifier__gamma=0.01, classifier__kernel=rbf;, score=0.828 total time=  25.5s\n",
      "[CV 3/10] END classifier__C=1, classifier__gamma=0.01, classifier__kernel=rbf;, score=0.834 total time=  21.6s\n",
      "[CV 4/10] END classifier__C=1, classifier__gamma=0.01, classifier__kernel=rbf;, score=0.836 total time=  21.7s\n",
      "[CV 5/10] END classifier__C=1, classifier__gamma=0.01, classifier__kernel=rbf;, score=0.832 total time=  23.6s\n",
      "[CV 6/10] END classifier__C=1, classifier__gamma=0.01, classifier__kernel=rbf;, score=0.844 total time=  26.1s\n",
      "[CV 7/10] END classifier__C=1, classifier__gamma=0.01, classifier__kernel=rbf;, score=0.818 total time=  24.5s\n",
      "[CV 8/10] END classifier__C=1, classifier__gamma=0.01, classifier__kernel=rbf;, score=0.821 total time=  21.2s\n",
      "[CV 9/10] END classifier__C=1, classifier__gamma=0.01, classifier__kernel=rbf;, score=0.833 total time=  21.7s\n",
      "[CV 10/10] END classifier__C=1, classifier__gamma=0.01, classifier__kernel=rbf;, score=0.820 total time=  23.2s\n",
      "[CV 1/10] END classifier__C=1, classifier__gamma=0.01, classifier__kernel=linear;, score=0.801 total time= 1.1min\n",
      "[CV 2/10] END classifier__C=1, classifier__gamma=0.01, classifier__kernel=linear;, score=0.800 total time= 1.1min\n",
      "[CV 3/10] END classifier__C=1, classifier__gamma=0.01, classifier__kernel=linear;, score=0.812 total time= 1.1min\n",
      "[CV 4/10] END classifier__C=1, classifier__gamma=0.01, classifier__kernel=linear;, score=0.802 total time= 1.0min\n",
      "[CV 5/10] END classifier__C=1, classifier__gamma=0.01, classifier__kernel=linear;, score=0.811 total time= 1.0min\n",
      "[CV 6/10] END classifier__C=1, classifier__gamma=0.01, classifier__kernel=linear;, score=0.827 total time= 1.0min\n",
      "[CV 7/10] END classifier__C=1, classifier__gamma=0.01, classifier__kernel=linear;, score=0.793 total time= 1.0min\n",
      "[CV 8/10] END classifier__C=1, classifier__gamma=0.01, classifier__kernel=linear;, score=0.796 total time=  59.2s\n",
      "[CV 9/10] END classifier__C=1, classifier__gamma=0.01, classifier__kernel=linear;, score=0.797 total time=  59.5s\n",
      "[CV 10/10] END classifier__C=1, classifier__gamma=0.01, classifier__kernel=linear;, score=0.802 total time= 1.0min\n",
      "[CV 1/10] END classifier__C=1, classifier__gamma=0.01, classifier__kernel=poly;, score=0.801 total time=  21.5s\n",
      "[CV 2/10] END classifier__C=1, classifier__gamma=0.01, classifier__kernel=poly;, score=0.809 total time=  21.9s\n",
      "[CV 3/10] END classifier__C=1, classifier__gamma=0.01, classifier__kernel=poly;, score=0.829 total time=  21.7s\n",
      "[CV 4/10] END classifier__C=1, classifier__gamma=0.01, classifier__kernel=poly;, score=0.828 total time=  22.2s\n",
      "[CV 5/10] END classifier__C=1, classifier__gamma=0.01, classifier__kernel=poly;, score=0.828 total time=  21.8s\n",
      "[CV 6/10] END classifier__C=1, classifier__gamma=0.01, classifier__kernel=poly;, score=0.836 total time=  22.0s\n",
      "[CV 7/10] END classifier__C=1, classifier__gamma=0.01, classifier__kernel=poly;, score=0.821 total time=  23.4s\n",
      "[CV 8/10] END classifier__C=1, classifier__gamma=0.01, classifier__kernel=poly;, score=0.815 total time=  21.3s\n",
      "[CV 9/10] END classifier__C=1, classifier__gamma=0.01, classifier__kernel=poly;, score=0.819 total time=  21.8s\n",
      "[CV 10/10] END classifier__C=1, classifier__gamma=0.01, classifier__kernel=poly;, score=0.821 total time=  22.5s\n",
      "[CV 1/10] END classifier__C=1, classifier__gamma=0.001, classifier__kernel=rbf;, score=0.804 total time=  21.5s\n",
      "[CV 2/10] END classifier__C=1, classifier__gamma=0.001, classifier__kernel=rbf;, score=0.807 total time=  22.1s\n",
      "[CV 3/10] END classifier__C=1, classifier__gamma=0.001, classifier__kernel=rbf;, score=0.817 total time=  21.5s\n",
      "[CV 4/10] END classifier__C=1, classifier__gamma=0.001, classifier__kernel=rbf;, score=0.805 total time=  21.5s\n",
      "[CV 5/10] END classifier__C=1, classifier__gamma=0.001, classifier__kernel=rbf;, score=0.816 total time=  21.6s\n",
      "[CV 6/10] END classifier__C=1, classifier__gamma=0.001, classifier__kernel=rbf;, score=0.824 total time=  21.3s\n",
      "[CV 7/10] END classifier__C=1, classifier__gamma=0.001, classifier__kernel=rbf;, score=0.797 total time=  23.9s\n",
      "[CV 8/10] END classifier__C=1, classifier__gamma=0.001, classifier__kernel=rbf;, score=0.801 total time=  22.1s\n",
      "[CV 9/10] END classifier__C=1, classifier__gamma=0.001, classifier__kernel=rbf;, score=0.797 total time=  21.6s\n",
      "[CV 10/10] END classifier__C=1, classifier__gamma=0.001, classifier__kernel=rbf;, score=0.809 total time=  21.8s\n",
      "[CV 1/10] END classifier__C=1, classifier__gamma=0.001, classifier__kernel=linear;, score=0.801 total time= 1.0min\n",
      "[CV 2/10] END classifier__C=1, classifier__gamma=0.001, classifier__kernel=linear;, score=0.800 total time= 1.0min\n",
      "[CV 3/10] END classifier__C=1, classifier__gamma=0.001, classifier__kernel=linear;, score=0.812 total time= 1.2min\n",
      "[CV 4/10] END classifier__C=1, classifier__gamma=0.001, classifier__kernel=linear;, score=0.802 total time= 1.0min\n",
      "[CV 5/10] END classifier__C=1, classifier__gamma=0.001, classifier__kernel=linear;, score=0.811 total time= 1.0min\n",
      "[CV 6/10] END classifier__C=1, classifier__gamma=0.001, classifier__kernel=linear;, score=0.827 total time= 1.1min\n",
      "[CV 7/10] END classifier__C=1, classifier__gamma=0.001, classifier__kernel=linear;, score=0.793 total time= 1.1min\n",
      "[CV 8/10] END classifier__C=1, classifier__gamma=0.001, classifier__kernel=linear;, score=0.796 total time= 1.1min\n",
      "[CV 9/10] END classifier__C=1, classifier__gamma=0.001, classifier__kernel=linear;, score=0.797 total time= 1.1min\n",
      "[CV 10/10] END classifier__C=1, classifier__gamma=0.001, classifier__kernel=linear;, score=0.802 total time= 1.0min\n",
      "[CV 1/10] END classifier__C=1, classifier__gamma=0.001, classifier__kernel=poly;, score=0.672 total time=  35.5s\n",
      "[CV 2/10] END classifier__C=1, classifier__gamma=0.001, classifier__kernel=poly;, score=0.668 total time=  36.2s\n",
      "[CV 3/10] END classifier__C=1, classifier__gamma=0.001, classifier__kernel=poly;, score=0.666 total time=  32.9s\n",
      "[CV 4/10] END classifier__C=1, classifier__gamma=0.001, classifier__kernel=poly;, score=0.692 total time=  33.2s\n",
      "[CV 5/10] END classifier__C=1, classifier__gamma=0.001, classifier__kernel=poly;, score=0.689 total time=  37.6s\n",
      "[CV 6/10] END classifier__C=1, classifier__gamma=0.001, classifier__kernel=poly;, score=0.700 total time=  33.9s\n",
      "[CV 7/10] END classifier__C=1, classifier__gamma=0.001, classifier__kernel=poly;, score=0.658 total time=  32.8s\n",
      "[CV 8/10] END classifier__C=1, classifier__gamma=0.001, classifier__kernel=poly;, score=0.681 total time=  35.8s\n",
      "[CV 9/10] END classifier__C=1, classifier__gamma=0.001, classifier__kernel=poly;, score=0.693 total time=  36.2s\n",
      "[CV 10/10] END classifier__C=1, classifier__gamma=0.001, classifier__kernel=poly;, score=0.669 total time=  32.4s\n",
      "[CV 1/10] END classifier__C=10, classifier__gamma=1, classifier__kernel=rbf;, score=0.532 total time= 2.3min\n",
      "[CV 2/10] END classifier__C=10, classifier__gamma=1, classifier__kernel=rbf;, score=0.534 total time= 2.3min\n",
      "[CV 3/10] END classifier__C=10, classifier__gamma=1, classifier__kernel=rbf;, score=0.549 total time= 2.2min\n",
      "[CV 4/10] END classifier__C=10, classifier__gamma=1, classifier__kernel=rbf;, score=0.543 total time= 2.2min\n",
      "[CV 5/10] END classifier__C=10, classifier__gamma=1, classifier__kernel=rbf;, score=0.536 total time= 2.2min\n",
      "[CV 6/10] END classifier__C=10, classifier__gamma=1, classifier__kernel=rbf;, score=0.535 total time= 2.3min\n",
      "[CV 7/10] END classifier__C=10, classifier__gamma=1, classifier__kernel=rbf;, score=0.542 total time= 2.2min\n",
      "[CV 8/10] END classifier__C=10, classifier__gamma=1, classifier__kernel=rbf;, score=0.534 total time= 2.4min\n",
      "[CV 9/10] END classifier__C=10, classifier__gamma=1, classifier__kernel=rbf;, score=0.540 total time= 2.2min\n",
      "[CV 10/10] END classifier__C=10, classifier__gamma=1, classifier__kernel=rbf;, score=0.537 total time= 2.4min\n",
      "[CV 1/10] END classifier__C=10, classifier__gamma=1, classifier__kernel=linear;, score=0.804 total time= 7.0min\n",
      "[CV 2/10] END classifier__C=10, classifier__gamma=1, classifier__kernel=linear;, score=0.800 total time= 7.0min\n",
      "[CV 3/10] END classifier__C=10, classifier__gamma=1, classifier__kernel=linear;, score=0.809 total time= 7.1min\n",
      "[CV 4/10] END classifier__C=10, classifier__gamma=1, classifier__kernel=linear;, score=0.801 total time= 7.0min\n",
      "[CV 5/10] END classifier__C=10, classifier__gamma=1, classifier__kernel=linear;, score=0.809 total time= 7.1min\n",
      "[CV 6/10] END classifier__C=10, classifier__gamma=1, classifier__kernel=linear;, score=0.826 total time= 7.1min\n",
      "[CV 7/10] END classifier__C=10, classifier__gamma=1, classifier__kernel=linear;, score=0.795 total time= 6.8min\n",
      "[CV 8/10] END classifier__C=10, classifier__gamma=1, classifier__kernel=linear;, score=0.793 total time= 6.7min\n",
      "[CV 9/10] END classifier__C=10, classifier__gamma=1, classifier__kernel=linear;, score=0.801 total time= 7.3min\n",
      "[CV 10/10] END classifier__C=10, classifier__gamma=1, classifier__kernel=linear;, score=0.799 total time= 7.0min\n",
      "[CV 1/10] END classifier__C=10, classifier__gamma=1, classifier__kernel=poly;, score=0.786 total time= 5.0min\n",
      "[CV 2/10] END classifier__C=10, classifier__gamma=1, classifier__kernel=poly;, score=0.798 total time= 6.1min\n",
      "[CV 3/10] END classifier__C=10, classifier__gamma=1, classifier__kernel=poly;, score=0.799 total time= 6.7min\n",
      "[CV 4/10] END classifier__C=10, classifier__gamma=1, classifier__kernel=poly;, score=0.803 total time= 6.3min\n",
      "[CV 5/10] END classifier__C=10, classifier__gamma=1, classifier__kernel=poly;, score=0.772 total time= 6.1min\n",
      "[CV 6/10] END classifier__C=10, classifier__gamma=1, classifier__kernel=poly;, score=0.803 total time= 6.7min\n",
      "[CV 7/10] END classifier__C=10, classifier__gamma=1, classifier__kernel=poly;, score=0.789 total time= 5.5min\n",
      "[CV 8/10] END classifier__C=10, classifier__gamma=1, classifier__kernel=poly;, score=0.776 total time= 5.8min\n",
      "[CV 9/10] END classifier__C=10, classifier__gamma=1, classifier__kernel=poly;, score=0.783 total time= 5.3min\n",
      "[CV 10/10] END classifier__C=10, classifier__gamma=1, classifier__kernel=poly;, score=0.787 total time= 6.0min\n",
      "[CV 1/10] END classifier__C=10, classifier__gamma=0.1, classifier__kernel=rbf;, score=0.831 total time= 1.8min\n",
      "[CV 2/10] END classifier__C=10, classifier__gamma=0.1, classifier__kernel=rbf;, score=0.835 total time= 1.8min\n",
      "[CV 3/10] END classifier__C=10, classifier__gamma=0.1, classifier__kernel=rbf;, score=0.834 total time= 1.8min\n",
      "[CV 4/10] END classifier__C=10, classifier__gamma=0.1, classifier__kernel=rbf;, score=0.838 total time= 1.8min\n",
      "[CV 5/10] END classifier__C=10, classifier__gamma=0.1, classifier__kernel=rbf;, score=0.825 total time= 1.8min\n",
      "[CV 6/10] END classifier__C=10, classifier__gamma=0.1, classifier__kernel=rbf;, score=0.852 total time= 1.8min\n",
      "[CV 7/10] END classifier__C=10, classifier__gamma=0.1, classifier__kernel=rbf;, score=0.828 total time= 1.8min\n",
      "[CV 8/10] END classifier__C=10, classifier__gamma=0.1, classifier__kernel=rbf;, score=0.826 total time= 1.8min\n",
      "[CV 9/10] END classifier__C=10, classifier__gamma=0.1, classifier__kernel=rbf;, score=0.827 total time= 1.8min\n",
      "[CV 10/10] END classifier__C=10, classifier__gamma=0.1, classifier__kernel=rbf;, score=0.836 total time= 1.7min\n",
      "[CV 1/10] END classifier__C=10, classifier__gamma=0.1, classifier__kernel=linear;, score=0.804 total time= 7.0min\n",
      "[CV 2/10] END classifier__C=10, classifier__gamma=0.1, classifier__kernel=linear;, score=0.800 total time= 7.1min\n",
      "[CV 3/10] END classifier__C=10, classifier__gamma=0.1, classifier__kernel=linear;, score=0.809 total time= 6.9min\n",
      "[CV 4/10] END classifier__C=10, classifier__gamma=0.1, classifier__kernel=linear;, score=0.801 total time= 6.9min\n",
      "[CV 5/10] END classifier__C=10, classifier__gamma=0.1, classifier__kernel=linear;, score=0.809 total time= 7.0min\n",
      "[CV 6/10] END classifier__C=10, classifier__gamma=0.1, classifier__kernel=linear;, score=0.826 total time= 6.8min\n",
      "[CV 7/10] END classifier__C=10, classifier__gamma=0.1, classifier__kernel=linear;, score=0.795 total time= 6.3min\n",
      "[CV 8/10] END classifier__C=10, classifier__gamma=0.1, classifier__kernel=linear;, score=0.793 total time= 6.2min\n",
      "[CV 9/10] END classifier__C=10, classifier__gamma=0.1, classifier__kernel=linear;, score=0.801 total time= 7.1min\n",
      "[CV 10/10] END classifier__C=10, classifier__gamma=0.1, classifier__kernel=linear;, score=0.799 total time= 7.3min\n",
      "[CV 1/10] END classifier__C=10, classifier__gamma=0.1, classifier__kernel=poly;, score=0.786 total time= 5.6min\n",
      "[CV 2/10] END classifier__C=10, classifier__gamma=0.1, classifier__kernel=poly;, score=0.798 total time= 6.3min\n",
      "[CV 3/10] END classifier__C=10, classifier__gamma=0.1, classifier__kernel=poly;, score=0.799 total time= 6.8min\n",
      "[CV 4/10] END classifier__C=10, classifier__gamma=0.1, classifier__kernel=poly;, score=0.803 total time= 6.6min\n",
      "[CV 5/10] END classifier__C=10, classifier__gamma=0.1, classifier__kernel=poly;, score=0.772 total time= 5.7min\n",
      "[CV 6/10] END classifier__C=10, classifier__gamma=0.1, classifier__kernel=poly;, score=0.803 total time= 6.6min\n",
      "[CV 7/10] END classifier__C=10, classifier__gamma=0.1, classifier__kernel=poly;, score=0.789 total time= 5.6min\n",
      "[CV 8/10] END classifier__C=10, classifier__gamma=0.1, classifier__kernel=poly;, score=0.776 total time= 6.3min\n",
      "[CV 9/10] END classifier__C=10, classifier__gamma=0.1, classifier__kernel=poly;, score=0.783 total time= 5.6min\n",
      "[CV 10/10] END classifier__C=10, classifier__gamma=0.1, classifier__kernel=poly;, score=0.787 total time= 5.9min\n",
      "[CV 1/10] END classifier__C=10, classifier__gamma=0.01, classifier__kernel=rbf;, score=0.831 total time=  27.8s\n",
      "[CV 2/10] END classifier__C=10, classifier__gamma=0.01, classifier__kernel=rbf;, score=0.843 total time=  29.5s\n",
      "[CV 3/10] END classifier__C=10, classifier__gamma=0.01, classifier__kernel=rbf;, score=0.843 total time=  34.1s\n",
      "[CV 4/10] END classifier__C=10, classifier__gamma=0.01, classifier__kernel=rbf;, score=0.847 total time=  30.2s\n",
      "[CV 5/10] END classifier__C=10, classifier__gamma=0.01, classifier__kernel=rbf;, score=0.846 total time=  30.5s\n",
      "[CV 6/10] END classifier__C=10, classifier__gamma=0.01, classifier__kernel=rbf;, score=0.862 total time=  32.2s\n",
      "[CV 7/10] END classifier__C=10, classifier__gamma=0.01, classifier__kernel=rbf;, score=0.839 total time=  33.6s\n",
      "[CV 8/10] END classifier__C=10, classifier__gamma=0.01, classifier__kernel=rbf;, score=0.834 total time=  29.1s\n",
      "[CV 9/10] END classifier__C=10, classifier__gamma=0.01, classifier__kernel=rbf;, score=0.849 total time=  28.9s\n",
      "[CV 10/10] END classifier__C=10, classifier__gamma=0.01, classifier__kernel=rbf;, score=0.843 total time=  31.2s\n",
      "[CV 1/10] END classifier__C=10, classifier__gamma=0.01, classifier__kernel=linear;, score=0.804 total time= 6.9min\n",
      "[CV 2/10] END classifier__C=10, classifier__gamma=0.01, classifier__kernel=linear;, score=0.800 total time= 6.9min\n",
      "[CV 3/10] END classifier__C=10, classifier__gamma=0.01, classifier__kernel=linear;, score=0.809 total time= 7.1min\n",
      "[CV 4/10] END classifier__C=10, classifier__gamma=0.01, classifier__kernel=linear;, score=0.801 total time= 6.8min\n",
      "[CV 5/10] END classifier__C=10, classifier__gamma=0.01, classifier__kernel=linear;, score=0.809 total time= 6.3min\n",
      "[CV 6/10] END classifier__C=10, classifier__gamma=0.01, classifier__kernel=linear;, score=0.826 total time= 6.5min\n",
      "[CV 7/10] END classifier__C=10, classifier__gamma=0.01, classifier__kernel=linear;, score=0.795 total time= 6.9min\n",
      "[CV 8/10] END classifier__C=10, classifier__gamma=0.01, classifier__kernel=linear;, score=0.793 total time= 6.7min\n",
      "[CV 9/10] END classifier__C=10, classifier__gamma=0.01, classifier__kernel=linear;, score=0.801 total time= 7.5min\n",
      "[CV 10/10] END classifier__C=10, classifier__gamma=0.01, classifier__kernel=linear;, score=0.799 total time= 7.3min\n",
      "[CV 1/10] END classifier__C=10, classifier__gamma=0.01, classifier__kernel=poly;, score=0.816 total time=  45.5s\n",
      "[CV 2/10] END classifier__C=10, classifier__gamma=0.01, classifier__kernel=poly;, score=0.836 total time=  39.3s\n",
      "[CV 3/10] END classifier__C=10, classifier__gamma=0.01, classifier__kernel=poly;, score=0.838 total time=  47.6s\n",
      "[CV 4/10] END classifier__C=10, classifier__gamma=0.01, classifier__kernel=poly;, score=0.843 total time=  42.9s\n",
      "[CV 5/10] END classifier__C=10, classifier__gamma=0.01, classifier__kernel=poly;, score=0.832 total time=  38.2s\n",
      "[CV 6/10] END classifier__C=10, classifier__gamma=0.01, classifier__kernel=poly;, score=0.853 total time=  49.9s\n",
      "[CV 7/10] END classifier__C=10, classifier__gamma=0.01, classifier__kernel=poly;, score=0.826 total time=  40.7s\n",
      "[CV 8/10] END classifier__C=10, classifier__gamma=0.01, classifier__kernel=poly;, score=0.829 total time=  41.4s\n",
      "[CV 9/10] END classifier__C=10, classifier__gamma=0.01, classifier__kernel=poly;, score=0.825 total time=  46.8s\n",
      "[CV 10/10] END classifier__C=10, classifier__gamma=0.01, classifier__kernel=poly;, score=0.820 total time=  41.6s\n",
      "[CV 1/10] END classifier__C=10, classifier__gamma=0.001, classifier__kernel=rbf;, score=0.814 total time=  20.0s\n",
      "[CV 2/10] END classifier__C=10, classifier__gamma=0.001, classifier__kernel=rbf;, score=0.809 total time=  25.1s\n",
      "[CV 3/10] END classifier__C=10, classifier__gamma=0.001, classifier__kernel=rbf;, score=0.823 total time=  27.8s\n",
      "[CV 4/10] END classifier__C=10, classifier__gamma=0.001, classifier__kernel=rbf;, score=0.815 total time=  28.2s\n",
      "[CV 5/10] END classifier__C=10, classifier__gamma=0.001, classifier__kernel=rbf;, score=0.830 total time=  21.8s\n",
      "[CV 6/10] END classifier__C=10, classifier__gamma=0.001, classifier__kernel=rbf;, score=0.834 total time=  21.7s\n",
      "[CV 7/10] END classifier__C=10, classifier__gamma=0.001, classifier__kernel=rbf;, score=0.813 total time=  24.9s\n",
      "[CV 8/10] END classifier__C=10, classifier__gamma=0.001, classifier__kernel=rbf;, score=0.814 total time=  23.9s\n",
      "[CV 9/10] END classifier__C=10, classifier__gamma=0.001, classifier__kernel=rbf;, score=0.816 total time=  21.7s\n",
      "[CV 10/10] END classifier__C=10, classifier__gamma=0.001, classifier__kernel=rbf;, score=0.819 total time=  20.7s\n",
      "[CV 1/10] END classifier__C=10, classifier__gamma=0.001, classifier__kernel=linear;, score=0.804 total time= 6.9min\n",
      "[CV 2/10] END classifier__C=10, classifier__gamma=0.001, classifier__kernel=linear;, score=0.800 total time= 7.1min\n",
      "[CV 3/10] END classifier__C=10, classifier__gamma=0.001, classifier__kernel=linear;, score=0.809 total time= 7.2min\n",
      "[CV 4/10] END classifier__C=10, classifier__gamma=0.001, classifier__kernel=linear;, score=0.801 total time= 7.0min\n",
      "[CV 5/10] END classifier__C=10, classifier__gamma=0.001, classifier__kernel=linear;, score=0.809 total time= 6.9min\n",
      "[CV 6/10] END classifier__C=10, classifier__gamma=0.001, classifier__kernel=linear;, score=0.826 total time= 7.2min\n",
      "[CV 7/10] END classifier__C=10, classifier__gamma=0.001, classifier__kernel=linear;, score=0.795 total time= 6.8min\n",
      "[CV 8/10] END classifier__C=10, classifier__gamma=0.001, classifier__kernel=linear;, score=0.793 total time= 6.8min\n",
      "[CV 9/10] END classifier__C=10, classifier__gamma=0.001, classifier__kernel=linear;, score=0.801 total time= 7.2min\n",
      "[CV 10/10] END classifier__C=10, classifier__gamma=0.001, classifier__kernel=linear;, score=0.799 total time= 7.4min\n",
      "[CV 1/10] END classifier__C=10, classifier__gamma=0.001, classifier__kernel=poly;, score=0.780 total time=  27.2s\n",
      "[CV 2/10] END classifier__C=10, classifier__gamma=0.001, classifier__kernel=poly;, score=0.762 total time=  26.4s\n",
      "[CV 3/10] END classifier__C=10, classifier__gamma=0.001, classifier__kernel=poly;, score=0.784 total time=  29.8s\n",
      "[CV 4/10] END classifier__C=10, classifier__gamma=0.001, classifier__kernel=poly;, score=0.801 total time=  31.7s\n",
      "[CV 5/10] END classifier__C=10, classifier__gamma=0.001, classifier__kernel=poly;, score=0.782 total time=  27.4s\n",
      "[CV 6/10] END classifier__C=10, classifier__gamma=0.001, classifier__kernel=poly;, score=0.806 total time=  27.0s\n",
      "[CV 7/10] END classifier__C=10, classifier__gamma=0.001, classifier__kernel=poly;, score=0.776 total time=  29.1s\n",
      "[CV 8/10] END classifier__C=10, classifier__gamma=0.001, classifier__kernel=poly;, score=0.770 total time=  31.3s\n",
      "[CV 9/10] END classifier__C=10, classifier__gamma=0.001, classifier__kernel=poly;, score=0.774 total time=  28.1s\n",
      "[CV 10/10] END classifier__C=10, classifier__gamma=0.001, classifier__kernel=poly;, score=0.787 total time=  27.3s\n",
      "[CV 1/10] END classifier__C=100, classifier__gamma=1, classifier__kernel=rbf;, score=0.532 total time= 2.2min\n",
      "[CV 2/10] END classifier__C=100, classifier__gamma=1, classifier__kernel=rbf;, score=0.534 total time= 2.3min\n",
      "[CV 3/10] END classifier__C=100, classifier__gamma=1, classifier__kernel=rbf;, score=0.549 total time= 2.2min\n",
      "[CV 4/10] END classifier__C=100, classifier__gamma=1, classifier__kernel=rbf;, score=0.543 total time= 2.2min\n",
      "[CV 5/10] END classifier__C=100, classifier__gamma=1, classifier__kernel=rbf;, score=0.536 total time= 2.2min\n",
      "[CV 6/10] END classifier__C=100, classifier__gamma=1, classifier__kernel=rbf;, score=0.535 total time= 2.1min\n",
      "[CV 7/10] END classifier__C=100, classifier__gamma=1, classifier__kernel=rbf;, score=0.542 total time= 2.1min\n",
      "[CV 8/10] END classifier__C=100, classifier__gamma=1, classifier__kernel=rbf;, score=0.534 total time= 2.2min\n",
      "[CV 9/10] END classifier__C=100, classifier__gamma=1, classifier__kernel=rbf;, score=0.540 total time= 2.0min\n",
      "[CV 10/10] END classifier__C=100, classifier__gamma=1, classifier__kernel=rbf;, score=0.537 total time= 2.1min\n",
      "[CV 1/10] END classifier__C=100, classifier__gamma=1, classifier__kernel=linear;, score=0.807 total time=60.9min\n",
      "[CV 2/10] END classifier__C=100, classifier__gamma=1, classifier__kernel=linear;, score=0.803 total time=62.2min\n",
      "[CV 3/10] END classifier__C=100, classifier__gamma=1, classifier__kernel=linear;, score=0.813 total time=59.7min\n"
     ]
    }
   ],
   "source": [
    "# SVM -- without feature selection\n",
    "param_grid = {'classifier__C': [0.1, 1, 10, 100],\n",
    "              'classifier__gamma': [1, 0.1, 0.01, 0.001],\n",
    "              'classifier__kernel': ['rbf', 'linear', 'poly']}\n",
    "\n",
    "# param_grid = {'classifier__C': [1],\n",
    "#               'classifier__gamma': [0.1],\n",
    "#               'classifier__kernel': ['rbf']}\n",
    "cv = StratifiedKFold(n_splits=10, shuffle=True, random_state=42)\n",
    "classifier = svm.SVC()\n",
    "pipe = Pipeline([('scaler', StandardScaler()),('classifier', classifier)])\n",
    "grid_search = GridSearchCV(pipe, param_grid, cv=cv, refit = True, verbose = 3)\n",
    "grid_search.fit(X_train, y_train)\n",
    "print(\"TRAIN- The best parameters are %s with an accuracy of %0.4f\"%(grid_search.best_params_, grid_search.best_score_))\n",
    "y_train_predicted = grid_search.predict(X_train)\n",
    "y_test_predicted =  grid_search.predict(X_test)\n",
    "print('F1 Score of train data: %0.4f' %f1_score(y_train,y_train_predicted,average='macro'), f'Acc: {accuracy_score(y_train, y_train_predicted)}')\n",
    "print('F1 Score of test data: %0.4f' %f1_score(y_test,y_test_predicted,average='macro'), f'Acc: {accuracy_score(y_test, y_test_predicted)}')"
   ],
   "metadata": {
    "collapsed": false,
    "pycharm": {
     "is_executing": true
    }
   }
  },
  {
   "cell_type": "code",
   "execution_count": 15,
   "outputs": [
    {
     "name": "stdout",
     "output_type": "stream",
     "text": [
      "Fitting 10 folds for each of 1 candidates, totalling 10 fits\n",
      "[CV 1/10] END classifier__C=10, classifier__kernel=rbf;, score=0.827 total time=  31.9s\n",
      "[CV 2/10] END classifier__C=10, classifier__kernel=rbf;, score=0.837 total time=  26.4s\n",
      "[CV 3/10] END classifier__C=10, classifier__kernel=rbf;, score=0.842 total time=  25.2s\n",
      "[CV 4/10] END classifier__C=10, classifier__kernel=rbf;, score=0.845 total time=  30.4s\n",
      "[CV 5/10] END classifier__C=10, classifier__kernel=rbf;, score=0.848 total time=  30.3s\n",
      "[CV 6/10] END classifier__C=10, classifier__kernel=rbf;, score=0.862 total time=  30.6s\n",
      "[CV 7/10] END classifier__C=10, classifier__kernel=rbf;, score=0.839 total time=  32.6s\n",
      "[CV 8/10] END classifier__C=10, classifier__kernel=rbf;, score=0.834 total time=  43.5s\n",
      "[CV 9/10] END classifier__C=10, classifier__kernel=rbf;, score=0.845 total time=  33.9s\n",
      "[CV 10/10] END classifier__C=10, classifier__kernel=rbf;, score=0.839 total time=  30.4s\n",
      "TRAIN- The best parameters are {'classifier__C': 10, 'classifier__kernel': 'rbf'} with an accuracy of 0.8419\n",
      "F1 Score of train data: 0.9086 Acc: 0.9086541625534715\n",
      "F1 Score of test data: 0.8450 Acc: 0.845100105374078\n"
     ]
    }
   ],
   "source": [
    "# svc without feature selection\n",
    "param_grid = {'classifier__C': [10],\n",
    "              'classifier__kernel': ['rbf']}\n",
    "cv = StratifiedKFold(n_splits=10, shuffle=True, random_state=42)\n",
    "classifier = svm.SVC()\n",
    "pipe = Pipeline([('scaler', StandardScaler()),('classifier', classifier)])\n",
    "grid_search = GridSearchCV(pipe, param_grid, cv=cv, refit = True, verbose = 3)\n",
    "grid_search.fit(X_train, y_train)\n",
    "print(\"TRAIN- The best parameters are %s with an accuracy of %0.4f\"%(grid_search.best_params_, grid_search.best_score_))\n",
    "y_train_predicted = grid_search.predict(X_train)\n",
    "y_test_predicted =  grid_search.predict(X_test)\n",
    "print('F1 Score of train data: %0.4f' %f1_score(y_train,y_train_predicted,average='macro'), f'Acc: {accuracy_score(y_train, y_train_predicted)}')\n",
    "print('F1 Score of test data: %0.4f' %f1_score(y_test,y_test_predicted,average='macro'), f'Acc: {accuracy_score(y_test, y_test_predicted)}')"
   ],
   "metadata": {
    "collapsed": false
   }
  },
  {
   "cell_type": "code",
   "execution_count": 44,
   "outputs": [
    {
     "name": "stdout",
     "output_type": "stream",
     "text": [
      "Fitting 10 folds for each of 1 candidates, totalling 10 fits\n",
      "[CV 1/10] END classifier__C=10, classifier__kernel=rbf;, score=0.812 total time=  27.7s\n",
      "[CV 2/10] END classifier__C=10, classifier__kernel=rbf;, score=0.826 total time=  21.0s\n",
      "[CV 3/10] END classifier__C=10, classifier__kernel=rbf;, score=0.832 total time=  22.6s\n",
      "[CV 4/10] END classifier__C=10, classifier__kernel=rbf;, score=0.826 total time=  21.2s\n",
      "[CV 5/10] END classifier__C=10, classifier__kernel=rbf;, score=0.828 total time=  22.1s\n",
      "[CV 6/10] END classifier__C=10, classifier__kernel=rbf;, score=0.841 total time=  23.9s\n",
      "[CV 7/10] END classifier__C=10, classifier__kernel=rbf;, score=0.829 total time=  20.7s\n",
      "[CV 8/10] END classifier__C=10, classifier__kernel=rbf;, score=0.822 total time=  22.5s\n",
      "[CV 9/10] END classifier__C=10, classifier__kernel=rbf;, score=0.828 total time=  22.4s\n",
      "[CV 10/10] END classifier__C=10, classifier__kernel=rbf;, score=0.822 total time=  22.5s\n",
      "TRAIN- The best parameters are {'classifier__C': 10, 'classifier__kernel': 'rbf'} with an accuracy of 0.8267\n",
      "F1 Score of train data: 0.8902 Acc: 0.8902270483711747\n",
      "F1 Score of test data: 0.8270 Acc: 0.827186512118019\n"
     ]
    }
   ],
   "source": [
    "# REsults from Varianec threshold method\n",
    "param_grid = {'classifier__C': [10],\n",
    "              'classifier__kernel': ['rbf']}\n",
    "cv = StratifiedKFold(n_splits=10, shuffle=True, random_state=42)\n",
    "classifier = svm.SVC()\n",
    "pipe = Pipeline([('scaler', StandardScaler()),('classifier', classifier)])\n",
    "grid_search = GridSearchCV(pipe, param_grid, cv=cv, refit = True, verbose = 3)\n",
    "grid_search.fit(X_train_new, y_train)\n",
    "print(\"TRAIN- The best parameters are %s with an accuracy of %0.4f\"%(grid_search.best_params_, grid_search.best_score_))\n",
    "y_train_predicted = grid_search.predict(X_train_new)\n",
    "y_test_predicted =  grid_search.predict(X_test_new)\n",
    "print('F1 Score of train data: %0.4f' %f1_score(y_train,y_train_predicted,average='macro'), f'Acc: {accuracy_score(y_train, y_train_predicted)}')\n",
    "print('F1 Score of test data: %0.4f' %f1_score(y_test,y_test_predicted,average='macro'), f'Acc: {accuracy_score(y_test, y_test_predicted)}')"
   ],
   "metadata": {
    "collapsed": false
   }
  },
  {
   "cell_type": "code",
   "execution_count": 72,
   "outputs": [
    {
     "name": "stdout",
     "output_type": "stream",
     "text": [
      "Fitting 10 folds for each of 1 candidates, totalling 10 fits\n"
     ]
    },
    {
     "name": "stderr",
     "output_type": "stream",
     "text": [
      "C:\\Users\\Lenovo\\.virtualenvs\\Skin_lesion_segmentation\\lib\\site-packages\\sklearn\\utils\\validation.py:1111: DataConversionWarning: A column-vector y was passed when a 1d array was expected. Please change the shape of y to (n_samples, ), for example using ravel().\n",
      "  y = column_or_1d(y, warn=True)\n"
     ]
    },
    {
     "name": "stdout",
     "output_type": "stream",
     "text": [
      "[CV 1/10] END classifier__C=10, classifier__kernel=rbf;, score=0.821 total time=  23.2s\n"
     ]
    },
    {
     "name": "stderr",
     "output_type": "stream",
     "text": [
      "C:\\Users\\Lenovo\\.virtualenvs\\Skin_lesion_segmentation\\lib\\site-packages\\sklearn\\utils\\validation.py:1111: DataConversionWarning: A column-vector y was passed when a 1d array was expected. Please change the shape of y to (n_samples, ), for example using ravel().\n",
      "  y = column_or_1d(y, warn=True)\n"
     ]
    },
    {
     "name": "stdout",
     "output_type": "stream",
     "text": [
      "[CV 2/10] END classifier__C=10, classifier__kernel=rbf;, score=0.827 total time=  24.0s\n"
     ]
    },
    {
     "name": "stderr",
     "output_type": "stream",
     "text": [
      "C:\\Users\\Lenovo\\.virtualenvs\\Skin_lesion_segmentation\\lib\\site-packages\\sklearn\\utils\\validation.py:1111: DataConversionWarning: A column-vector y was passed when a 1d array was expected. Please change the shape of y to (n_samples, ), for example using ravel().\n",
      "  y = column_or_1d(y, warn=True)\n"
     ]
    },
    {
     "name": "stdout",
     "output_type": "stream",
     "text": [
      "[CV 3/10] END classifier__C=10, classifier__kernel=rbf;, score=0.832 total time=  18.8s\n"
     ]
    },
    {
     "name": "stderr",
     "output_type": "stream",
     "text": [
      "C:\\Users\\Lenovo\\.virtualenvs\\Skin_lesion_segmentation\\lib\\site-packages\\sklearn\\utils\\validation.py:1111: DataConversionWarning: A column-vector y was passed when a 1d array was expected. Please change the shape of y to (n_samples, ), for example using ravel().\n",
      "  y = column_or_1d(y, warn=True)\n"
     ]
    },
    {
     "name": "stdout",
     "output_type": "stream",
     "text": [
      "[CV 4/10] END classifier__C=10, classifier__kernel=rbf;, score=0.836 total time=  19.6s\n"
     ]
    },
    {
     "name": "stderr",
     "output_type": "stream",
     "text": [
      "C:\\Users\\Lenovo\\.virtualenvs\\Skin_lesion_segmentation\\lib\\site-packages\\sklearn\\utils\\validation.py:1111: DataConversionWarning: A column-vector y was passed when a 1d array was expected. Please change the shape of y to (n_samples, ), for example using ravel().\n",
      "  y = column_or_1d(y, warn=True)\n"
     ]
    },
    {
     "name": "stdout",
     "output_type": "stream",
     "text": [
      "[CV 5/10] END classifier__C=10, classifier__kernel=rbf;, score=0.829 total time=  18.9s\n"
     ]
    },
    {
     "name": "stderr",
     "output_type": "stream",
     "text": [
      "C:\\Users\\Lenovo\\.virtualenvs\\Skin_lesion_segmentation\\lib\\site-packages\\sklearn\\utils\\validation.py:1111: DataConversionWarning: A column-vector y was passed when a 1d array was expected. Please change the shape of y to (n_samples, ), for example using ravel().\n",
      "  y = column_or_1d(y, warn=True)\n"
     ]
    },
    {
     "name": "stdout",
     "output_type": "stream",
     "text": [
      "[CV 6/10] END classifier__C=10, classifier__kernel=rbf;, score=0.843 total time=  19.2s\n"
     ]
    },
    {
     "name": "stderr",
     "output_type": "stream",
     "text": [
      "C:\\Users\\Lenovo\\.virtualenvs\\Skin_lesion_segmentation\\lib\\site-packages\\sklearn\\utils\\validation.py:1111: DataConversionWarning: A column-vector y was passed when a 1d array was expected. Please change the shape of y to (n_samples, ), for example using ravel().\n",
      "  y = column_or_1d(y, warn=True)\n"
     ]
    },
    {
     "name": "stdout",
     "output_type": "stream",
     "text": [
      "[CV 7/10] END classifier__C=10, classifier__kernel=rbf;, score=0.829 total time=  19.5s\n"
     ]
    },
    {
     "name": "stderr",
     "output_type": "stream",
     "text": [
      "C:\\Users\\Lenovo\\.virtualenvs\\Skin_lesion_segmentation\\lib\\site-packages\\sklearn\\utils\\validation.py:1111: DataConversionWarning: A column-vector y was passed when a 1d array was expected. Please change the shape of y to (n_samples, ), for example using ravel().\n",
      "  y = column_or_1d(y, warn=True)\n"
     ]
    },
    {
     "name": "stdout",
     "output_type": "stream",
     "text": [
      "[CV 8/10] END classifier__C=10, classifier__kernel=rbf;, score=0.826 total time=  19.3s\n"
     ]
    },
    {
     "name": "stderr",
     "output_type": "stream",
     "text": [
      "C:\\Users\\Lenovo\\.virtualenvs\\Skin_lesion_segmentation\\lib\\site-packages\\sklearn\\utils\\validation.py:1111: DataConversionWarning: A column-vector y was passed when a 1d array was expected. Please change the shape of y to (n_samples, ), for example using ravel().\n",
      "  y = column_or_1d(y, warn=True)\n"
     ]
    },
    {
     "name": "stdout",
     "output_type": "stream",
     "text": [
      "[CV 9/10] END classifier__C=10, classifier__kernel=rbf;, score=0.830 total time=  18.9s\n"
     ]
    },
    {
     "name": "stderr",
     "output_type": "stream",
     "text": [
      "C:\\Users\\Lenovo\\.virtualenvs\\Skin_lesion_segmentation\\lib\\site-packages\\sklearn\\utils\\validation.py:1111: DataConversionWarning: A column-vector y was passed when a 1d array was expected. Please change the shape of y to (n_samples, ), for example using ravel().\n",
      "  y = column_or_1d(y, warn=True)\n"
     ]
    },
    {
     "name": "stdout",
     "output_type": "stream",
     "text": [
      "[CV 10/10] END classifier__C=10, classifier__kernel=rbf;, score=0.828 total time=  19.1s\n"
     ]
    },
    {
     "name": "stderr",
     "output_type": "stream",
     "text": [
      "C:\\Users\\Lenovo\\.virtualenvs\\Skin_lesion_segmentation\\lib\\site-packages\\sklearn\\utils\\validation.py:1111: DataConversionWarning: A column-vector y was passed when a 1d array was expected. Please change the shape of y to (n_samples, ), for example using ravel().\n",
      "  y = column_or_1d(y, warn=True)\n"
     ]
    },
    {
     "name": "stdout",
     "output_type": "stream",
     "text": [
      "TRAIN- The best parameters are {'classifier__C': 10, 'classifier__kernel': 'rbf'} with an accuracy of 0.8301\n",
      "F1 Score of train data: 0.8993 Acc: 0.8993089832181639\n",
      "F1 Score of test data: 0.8320 Acc: 0.8321917808219178\n"
     ]
    }
   ],
   "source": [
    "# REsults from select from model method\n",
    "param_grid = {'classifier__C': [10],\n",
    "              'classifier__kernel': ['rbf']}\n",
    "cv = StratifiedKFold(n_splits=10, shuffle=True, random_state=42)\n",
    "classifier = svm.SVC()\n",
    "pipe = Pipeline([('scaler', StandardScaler()),('classifier', classifier)])\n",
    "grid_search = GridSearchCV(pipe, param_grid, cv=cv, refit = True, verbose = 3)\n",
    "grid_search.fit(X_train_new, y_train_new)\n",
    "print(\"TRAIN- The best parameters are %s with an accuracy of %0.4f\"%(grid_search.best_params_, grid_search.best_score_))\n",
    "y_train_predicted = grid_search.predict(X_train_new)\n",
    "y_test_predicted =  grid_search.predict(X_test_new)\n",
    "print('F1 Score of train data: %0.4f' %f1_score(y_train_new,y_train_predicted,average='macro'), f'Acc: {accuracy_score(y_train_new, y_train_predicted)}')\n",
    "print('F1 Score of test data: %0.4f' %f1_score(y_test_new,y_test_predicted,average='macro'), f'Acc: {accuracy_score(y_test_new, y_test_predicted)}')"
   ],
   "metadata": {
    "collapsed": false
   }
  }
 ],
 "metadata": {
  "kernelspec": {
   "display_name": "Python 3",
   "language": "python",
   "name": "python3"
  },
  "language_info": {
   "codemirror_mode": {
    "name": "ipython",
    "version": 2
   },
   "file_extension": ".py",
   "mimetype": "text/x-python",
   "name": "python",
   "nbconvert_exporter": "python",
   "pygments_lexer": "ipython2",
   "version": "2.7.6"
  }
 },
 "nbformat": 4,
 "nbformat_minor": 0
}
