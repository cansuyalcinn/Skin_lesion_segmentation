{
 "cells": [
  {
   "cell_type": "code",
   "execution_count": 1,
   "metadata": {},
   "outputs": [],
   "source": [
    "import os\n",
    "import sys; sys.path.insert(0, os.path.abspath(\"../\"))\n",
    "import cv2\n",
    "import numpy as np \n",
    "import matplotlib.pyplot as plt\n",
    "# from utils.plots import get_image, get_image_and_plot\n",
    "from tqdm import tqdm\n",
    "import pandas as pd\n",
    "from scipy.stats import skew, kurtosis\n",
    "from skimage.measure import shannon_entropy\n",
    "from pipeline.preprocessing import SkinLesionPreprocessing\n",
    "from dataset.dataset import SegExamples\n",
    "from pipeline.feature_extraction import FeaturesExtraction\n",
    "from tqdm import tqdm\n",
    "import pyarrow"
   ]
  },
  {
   "cell_type": "code",
   "execution_count": 14,
   "metadata": {},
   "outputs": [],
   "source": [
    "examples = SegExamples()\n",
    "preproc = SkinLesionPreprocessing()\n",
    "cfe = FeaturesExtraction(levels=['global'])"
   ]
  },
  {
   "cell_type": "code",
   "execution_count": 15,
   "metadata": {},
   "outputs": [
    {
     "data": {
      "text/plain": "['global_rgb_mean_1',\n 'global_rgb_mean_2',\n 'global_rgb_mean_3',\n 'global_rgb_std_1',\n 'global_rgb_std_2',\n 'global_rgb_std_3',\n 'global_rgb_skew_1',\n 'global_rgb_skew_2',\n 'global_rgb_skew_3',\n 'global_rgb_kur_1',\n 'global_rgb_kur_2',\n 'global_rgb_kur_3',\n 'global_rgb_ent_1',\n 'global_rgb_ent_2',\n 'global_rgb_ent_3',\n 'global_lab_mean_1',\n 'global_lab_mean_2',\n 'global_lab_mean_3',\n 'global_lab_std_1',\n 'global_lab_std_2',\n 'global_lab_std_3',\n 'global_lab_skew_1',\n 'global_lab_skew_2',\n 'global_lab_skew_3',\n 'global_lab_kur_1',\n 'global_lab_kur_2',\n 'global_lab_kur_3',\n 'global_lab_ent_1',\n 'global_lab_ent_2',\n 'global_lab_ent_3',\n 'global_ycrbcb_mean_1',\n 'global_ycrbcb_mean_2',\n 'global_ycrbcb_mean_3',\n 'global_ycrbcb_std_1',\n 'global_ycrbcb_std_2',\n 'global_ycrbcb_std_3',\n 'global_ycrbcb_skew_1',\n 'global_ycrbcb_skew_2',\n 'global_ycrbcb_skew_3',\n 'global_ycrbcb_kur_1',\n 'global_ycrbcb_kur_2',\n 'global_ycrbcb_kur_3',\n 'global_ycrbcb_ent_1',\n 'global_ycrbcb_ent_2',\n 'global_ycrbcb_ent_3',\n 'global_hsv_mean_1',\n 'global_hsv_mean_2',\n 'global_hsv_mean_3',\n 'global_hsv_std_1',\n 'global_hsv_std_2',\n 'global_hsv_std_3',\n 'global_hsv_skew_1',\n 'global_hsv_skew_2',\n 'global_hsv_skew_3',\n 'global_hsv_kur_1',\n 'global_hsv_kur_2',\n 'global_hsv_kur_3',\n 'global_hsv_ent_1',\n 'global_hsv_ent_2',\n 'global_hsv_ent_3']"
     },
     "execution_count": 15,
     "metadata": {},
     "output_type": "execute_result"
    }
   ],
   "source": [
    "cfe.features_names"
   ]
  },
  {
   "cell_type": "code",
   "execution_count": 9,
   "outputs": [
    {
     "data": {
      "text/plain": "'binary'"
     },
     "execution_count": 9,
     "metadata": {},
     "output_type": "execute_result"
    }
   ],
   "source": [
    "examples[0]['problem']"
   ],
   "metadata": {
    "collapsed": false
   }
  },
  {
   "cell_type": "code",
   "execution_count": 13,
   "metadata": {},
   "outputs": [
    {
     "name": "stderr",
     "output_type": "stream",
     "text": [
      "100%|██████████| 1/1 [00:00<00:00,  1.11it/s]\n"
     ]
    },
    {
     "data": {
      "text/plain": "   global_rgb_mean_1  global_rgb_mean_2  global_rgb_mean_3  global_rgb_std_1  \\\n0         152.992157         123.149544          142.79808         40.043137   \n\n   global_rgb_std_2  global_rgb_std_3  global_rgb_skew_1  global_rgb_skew_2  \\\n0         38.584644         41.395874          -2.392021          -2.102249   \n\n   global_rgb_skew_3  global_rgb_kur_1  ...  global_hsv_skew_1  \\\n0          -2.117684          4.311297  ...          -1.094994   \n\n   global_hsv_skew_2  global_hsv_skew_3  global_hsv_kur_1  global_hsv_kur_2  \\\n0           2.158256          -2.390699         50.168835          3.527214   \n\n   global_hsv_kur_3  global_hsv_ent_1  global_hsv_ent_2  global_hsv_ent_3  \\\n0          4.306688          4.140778          5.661916          5.600688   \n\n   label  \n0  nevus  \n\n[1 rows x 61 columns]",
      "text/html": "<div>\n<style scoped>\n    .dataframe tbody tr th:only-of-type {\n        vertical-align: middle;\n    }\n\n    .dataframe tbody tr th {\n        vertical-align: top;\n    }\n\n    .dataframe thead th {\n        text-align: right;\n    }\n</style>\n<table border=\"1\" class=\"dataframe\">\n  <thead>\n    <tr style=\"text-align: right;\">\n      <th></th>\n      <th>global_rgb_mean_1</th>\n      <th>global_rgb_mean_2</th>\n      <th>global_rgb_mean_3</th>\n      <th>global_rgb_std_1</th>\n      <th>global_rgb_std_2</th>\n      <th>global_rgb_std_3</th>\n      <th>global_rgb_skew_1</th>\n      <th>global_rgb_skew_2</th>\n      <th>global_rgb_skew_3</th>\n      <th>global_rgb_kur_1</th>\n      <th>...</th>\n      <th>global_hsv_skew_1</th>\n      <th>global_hsv_skew_2</th>\n      <th>global_hsv_skew_3</th>\n      <th>global_hsv_kur_1</th>\n      <th>global_hsv_kur_2</th>\n      <th>global_hsv_kur_3</th>\n      <th>global_hsv_ent_1</th>\n      <th>global_hsv_ent_2</th>\n      <th>global_hsv_ent_3</th>\n      <th>label</th>\n    </tr>\n  </thead>\n  <tbody>\n    <tr>\n      <th>0</th>\n      <td>152.992157</td>\n      <td>123.149544</td>\n      <td>142.79808</td>\n      <td>40.043137</td>\n      <td>38.584644</td>\n      <td>41.395874</td>\n      <td>-2.392021</td>\n      <td>-2.102249</td>\n      <td>-2.117684</td>\n      <td>4.311297</td>\n      <td>...</td>\n      <td>-1.094994</td>\n      <td>2.158256</td>\n      <td>-2.390699</td>\n      <td>50.168835</td>\n      <td>3.527214</td>\n      <td>4.306688</td>\n      <td>4.140778</td>\n      <td>5.661916</td>\n      <td>5.600688</td>\n      <td>nevus</td>\n    </tr>\n  </tbody>\n</table>\n<p>1 rows × 61 columns</p>\n</div>"
     },
     "execution_count": 13,
     "metadata": {},
     "output_type": "execute_result"
    }
   ],
   "source": [
    "# get features example\n",
    "all_feat = []\n",
    "labels = []\n",
    "\n",
    "for i in tqdm(range(examples.seg_examples_df.shape[0]-67)): #\n",
    "\n",
    "    if examples[i]['problem'] != 'binary':\n",
    "        continue\n",
    "\n",
    "    labels.append(examples[i]['label'])\n",
    "    \n",
    "    image = examples[i]['img']\n",
    "\n",
    "    image = preproc.preprocess(image)\n",
    "\n",
    "    all_feat.append(cfe.extract_features(image))\n",
    "\n",
    "df = pd.DataFrame(all_feat, columns=cfe.features_names)\n",
    "\n",
    "df['label'] = labels\n",
    "df"
   ]
  },
  {
   "cell_type": "code",
   "execution_count": 21,
   "metadata": {},
   "outputs": [],
   "source": [
    "df.to_feather('../data/binary/seg_examples_feat.f')\n"
   ]
  },
  {
   "cell_type": "markdown",
   "metadata": {},
   "source": [
    "### Local features"
   ]
  },
  {
   "cell_type": "code",
   "execution_count": 13,
   "metadata": {},
   "outputs": [],
   "source": [
    "cfe_l = FeaturesExtraction(levels=['global', 'local'])"
   ]
  },
  {
   "cell_type": "code",
   "execution_count": 14,
   "metadata": {},
   "outputs": [
    {
     "data": {
      "text/plain": [
       "<matplotlib.image.AxesImage at 0x7fb950d67e80>"
      ]
     },
     "execution_count": 14,
     "metadata": {},
     "output_type": "execute_result"
    },
    {
     "data": {
      "image/png": "[encoded data removed]",
      "text/plain": [
       "<Figure size 640x480 with 1 Axes>"
      ]
     },
     "metadata": {},
     "output_type": "display_data"
    }
   ],
   "source": [
    "eximg = examples[0]['img']\n",
    "eximg = preproc.preprocess(eximg)\n",
    "mask = np.zeros(eximg.shape[:2])\n",
    "mask[150:300,200:400] = 1\n",
    "plt.imshow(mask)"
   ]
  },
  {
   "cell_type": "code",
   "execution_count": 15,
   "metadata": {},
   "outputs": [],
   "source": [
    "results = cfe_l.extract_features(eximg, mask)"
   ]
  },
  {
   "cell_type": "code",
   "execution_count": 16,
   "metadata": {},
   "outputs": [
    {
     "data": {
      "text/plain": [
       "['global_rgb_mean_1',\n",
       " 'global_rgb_mean_2',\n",
       " 'global_rgb_mean_3',\n",
       " 'global_rgb_std_1',\n",
       " 'global_rgb_std_2',\n",
       " 'global_rgb_std_3',\n",
       " 'global_rgb_skew_1',\n",
       " 'global_rgb_skew_2',\n",
       " 'global_rgb_skew_3',\n",
       " 'global_rgb_kur_1',\n",
       " 'global_rgb_kur_2',\n",
       " 'global_rgb_kur_3',\n",
       " 'global_rgb_ent_1',\n",
       " 'global_rgb_ent_2',\n",
       " 'global_rgb_ent_3',\n",
       " 'global_lab_mean_1',\n",
       " 'global_lab_mean_2',\n",
       " 'global_lab_mean_3',\n",
       " 'global_lab_std_1',\n",
       " 'global_lab_std_2',\n",
       " 'global_lab_std_3',\n",
       " 'global_lab_skew_1',\n",
       " 'global_lab_skew_2',\n",
       " 'global_lab_skew_3',\n",
       " 'global_lab_kur_1',\n",
       " 'global_lab_kur_2',\n",
       " 'global_lab_kur_3',\n",
       " 'global_lab_ent_1',\n",
       " 'global_lab_ent_2',\n",
       " 'global_lab_ent_3',\n",
       " 'global_ycrbcb_mean_1',\n",
       " 'global_ycrbcb_mean_2',\n",
       " 'global_ycrbcb_mean_3',\n",
       " 'global_ycrbcb_std_1',\n",
       " 'global_ycrbcb_std_2',\n",
       " 'global_ycrbcb_std_3',\n",
       " 'global_ycrbcb_skew_1',\n",
       " 'global_ycrbcb_skew_2',\n",
       " 'global_ycrbcb_skew_3',\n",
       " 'global_ycrbcb_kur_1',\n",
       " 'global_ycrbcb_kur_2',\n",
       " 'global_ycrbcb_kur_3',\n",
       " 'global_ycrbcb_ent_1',\n",
       " 'global_ycrbcb_ent_2',\n",
       " 'global_ycrbcb_ent_3',\n",
       " 'global_hsv_mean_1',\n",
       " 'global_hsv_mean_2',\n",
       " 'global_hsv_mean_3',\n",
       " 'global_hsv_std_1',\n",
       " 'global_hsv_std_2',\n",
       " 'global_hsv_std_3',\n",
       " 'global_hsv_skew_1',\n",
       " 'global_hsv_skew_2',\n",
       " 'global_hsv_skew_3',\n",
       " 'global_hsv_kur_1',\n",
       " 'global_hsv_kur_2',\n",
       " 'global_hsv_kur_3',\n",
       " 'global_hsv_ent_1',\n",
       " 'global_hsv_ent_2',\n",
       " 'global_hsv_ent_3',\n",
       " 'local_rgb_mean_1',\n",
       " 'local_rgb_mean_2',\n",
       " 'local_rgb_mean_3',\n",
       " 'local_rgb_std_1',\n",
       " 'local_rgb_std_2',\n",
       " 'local_rgb_std_3',\n",
       " 'local_rgb_skew_1',\n",
       " 'local_rgb_skew_2',\n",
       " 'local_rgb_skew_3',\n",
       " 'local_rgb_kur_1',\n",
       " 'local_rgb_kur_2',\n",
       " 'local_rgb_kur_3',\n",
       " 'local_rgb_ent_1',\n",
       " 'local_rgb_ent_2',\n",
       " 'local_rgb_ent_3',\n",
       " 'local_lab_mean_1',\n",
       " 'local_lab_mean_2',\n",
       " 'local_lab_mean_3',\n",
       " 'local_lab_std_1',\n",
       " 'local_lab_std_2',\n",
       " 'local_lab_std_3',\n",
       " 'local_lab_skew_1',\n",
       " 'local_lab_skew_2',\n",
       " 'local_lab_skew_3',\n",
       " 'local_lab_kur_1',\n",
       " 'local_lab_kur_2',\n",
       " 'local_lab_kur_3',\n",
       " 'local_lab_ent_1',\n",
       " 'local_lab_ent_2',\n",
       " 'local_lab_ent_3',\n",
       " 'local_ycrbcb_mean_1',\n",
       " 'local_ycrbcb_mean_2',\n",
       " 'local_ycrbcb_mean_3',\n",
       " 'local_ycrbcb_std_1',\n",
       " 'local_ycrbcb_std_2',\n",
       " 'local_ycrbcb_std_3',\n",
       " 'local_ycrbcb_skew_1',\n",
       " 'local_ycrbcb_skew_2',\n",
       " 'local_ycrbcb_skew_3',\n",
       " 'local_ycrbcb_kur_1',\n",
       " 'local_ycrbcb_kur_2',\n",
       " 'local_ycrbcb_kur_3',\n",
       " 'local_ycrbcb_ent_1',\n",
       " 'local_ycrbcb_ent_2',\n",
       " 'local_ycrbcb_ent_3',\n",
       " 'local_hsv_mean_1',\n",
       " 'local_hsv_mean_2',\n",
       " 'local_hsv_mean_3',\n",
       " 'local_hsv_std_1',\n",
       " 'local_hsv_std_2',\n",
       " 'local_hsv_std_3',\n",
       " 'local_hsv_skew_1',\n",
       " 'local_hsv_skew_2',\n",
       " 'local_hsv_skew_3',\n",
       " 'local_hsv_kur_1',\n",
       " 'local_hsv_kur_2',\n",
       " 'local_hsv_kur_3',\n",
       " 'local_hsv_ent_1',\n",
       " 'local_hsv_ent_2',\n",
       " 'local_hsv_ent_3']"
      ]
     },
     "execution_count": 16,
     "metadata": {},
     "output_type": "execute_result"
    }
   ],
   "source": [
    "cfe_l.features_names"
   ]
  },
  {
   "cell_type": "code",
   "execution_count": 17,
   "metadata": {},
   "outputs": [
    {
     "data": {
      "text/plain": [
       "[152.99216,\n",
       " 123.14954,\n",
       " 142.79808,\n",
       " 40.043137,\n",
       " 38.584644,\n",
       " 41.395874,\n",
       " -2.3920210110772273,\n",
       " -2.1022494044014106,\n",
       " -2.1176841482676494,\n",
       " 4.311297487788059,\n",
       " 2.99116593975907,\n",
       " 3.063140447608066,\n",
       " 5.593805089478174,\n",
       " 5.819141683528445,\n",
       " 5.946027056430908,\n",
       " 139.21397,\n",
       " 143.0175,\n",
       " 121.91823,\n",
       " 41.786793,\n",
       " 3.0324836,\n",
       " 2.3932114,\n",
       " -2.2507767450073994,\n",
       " 0.271861553835755,\n",
       " 1.514732374436933,\n",
       " 3.6215065749963147,\n",
       " 2.0247052590979377,\n",
       " 3.666464152624198,\n",
       " 5.7347871462255,\n",
       " 3.4439952694161082,\n",
       " 2.9755901480405966,\n",
       " 134.31432,\n",
       " 141.35799,\n",
       " 132.7455,\n",
       " 39.20566,\n",
       " 3.4016266,\n",
       " 2.045807,\n",
       " -2.19566339734579,\n",
       " 0.5259390308102352,\n",
       " -1.2462580082815111,\n",
       " 3.3877678880328075,\n",
       " 1.6976016348715532,\n",
       " 2.8161429335575887,\n",
       " 5.754950483895106,\n",
       " 3.653975752306781,\n",
       " 2.9039445090852456,\n",
       " 159.47516,\n",
       " 57.346497,\n",
       " 153.01717,\n",
       " 4.9109454,\n",
       " 30.875774,\n",
       " 40.02608,\n",
       " -1.094993545873534,\n",
       " 2.1582560089925438,\n",
       " -2.3906992002758227,\n",
       " 50.16883493133584,\n",
       " 3.5272144816590227,\n",
       " 4.306687746109292,\n",
       " 4.140778003045017,\n",
       " 5.6619155069085645,\n",
       " 5.600687831137694,\n",
       " 76.931,\n",
       " 51.269867,\n",
       " 65.8061,\n",
       " 58.17369,\n",
       " 50.46753,\n",
       " 54.567753,\n",
       " 0.6557620371105999,\n",
       " 0.8946166454917034,\n",
       " 0.8717686214245886,\n",
       " -1.2738610830333876,\n",
       " -0.9331415495698914,\n",
       " -0.9562373717836059,\n",
       " 6.703680309520637,\n",
       " 6.126099521520402,\n",
       " 6.451804218917534,\n",
       " 60.306767,\n",
       " 141.7274,\n",
       " 124.03336,\n",
       " 57.430172,\n",
       " 5.421386,\n",
       " 2.813098,\n",
       " 0.7764241662623425,\n",
       " 0.11121227136861221,\n",
       " 0.5416104291553755,\n",
       " -1.1174083121001752,\n",
       " -1.0152282490903248,\n",
       " 1.0186051123738835,\n",
       " 6.358329396426774,\n",
       " 4.154121414707891,\n",
       " 3.443464339501332,\n",
       " 60.6117,\n",
       " 139.67804,\n",
       " 130.9137,\n",
       " 53.046047,\n",
       " 5.7582846,\n",
       " 2.136255,\n",
       " 0.8192632434418096,\n",
       " 0.41581517504620075,\n",
       " -0.5416046821497127,\n",
       " -1.0493454735457295,\n",
       " -1.006462161436682,\n",
       " 1.024498709010718,\n",
       " 6.371773305661081,\n",
       " 4.211844723938135,\n",
       " 3.0761566846033834,\n",
       " 160.77557,\n",
       " 111.36107,\n",
       " 77.007866,\n",
       " 6.798847,\n",
       " 39.050114,\n",
       " 58.120705,\n",
       " -2.2660647411175336,\n",
       " -0.5854256056103584,\n",
       " 0.6559445404860119,\n",
       " 50.804450995218986,\n",
       " -0.9590570742864064,\n",
       " -1.2730407214313164,\n",
       " 4.576609964425401,\n",
       " 6.727396579040462,\n",
       " 6.703615553783173]"
      ]
     },
     "execution_count": 17,
     "metadata": {},
     "output_type": "execute_result"
    }
   ],
   "source": [
    "results"
   ]
  },
  {
   "cell_type": "code",
   "execution_count": null,
   "metadata": {},
   "outputs": [],
   "source": []
  }
 ],
 "metadata": {
  "kernelspec": {
   "display_name": "Python 3.9.13 ('cad1')",
   "language": "python",
   "name": "python3"
  },
  "language_info": {
   "codemirror_mode": {
    "name": "ipython",
    "version": 3
   },
   "file_extension": ".py",
   "mimetype": "text/x-python",
   "name": "python",
   "nbconvert_exporter": "python",
   "pygments_lexer": "ipython3",
   "version": "3.9.13"
  },
  "orig_nbformat": 4,
  "vscode": {
   "interpreter": {
    "hash": "a15a68de0844bc5e4a360f39560ca1500be546bde921bc531bbc8feb7772096b"
   }
  }
 },
 "nbformat": 4,
 "nbformat_minor": 2
}
