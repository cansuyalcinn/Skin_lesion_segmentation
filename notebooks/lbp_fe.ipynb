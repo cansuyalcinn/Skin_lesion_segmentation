{
 "cells": [
  {
   "cell_type": "markdown",
   "source": [
    "## Texture Descriptors: Local Binary Patterns (LBP)"
   ],
   "metadata": {
    "collapsed": false
   }
  },
  {
   "cell_type": "markdown",
   "source": [
    "The base pipeline is given: Extract lbp features + label encoding + minmax scaling + stratified k fold + classifier (linear regression for now)"
   ],
   "metadata": {
    "collapsed": false
   }
  },
  {
   "cell_type": "code",
   "execution_count": 17,
   "outputs": [],
   "source": [
    "# Load Libraries\n",
    "import cv2\n",
    "import numpy as np\n",
    "import matplotlib.pyplot as plt\n",
    "import pandas as pd\n",
    "from sklearn import preprocessing\n",
    "import skimage\n",
    "from scipy.stats import skew, kurtosis\n",
    "from sklearn import svm\n",
    "from sklearn.metrics import confusion_matrix\n",
    "from sklearn.model_selection import train_test_split\n",
    "from sklearn import metrics\n",
    "from skimage.feature import local_binary_pattern\n",
    "from dataset.dataset import SkinLesion_Dataset, SegExamples\n",
    "from pipeline.preprocessing import SkinLesionPreprocessing\n",
    "from sklearn.model_selection import StratifiedKFold\n",
    "from statistics import stdev\n",
    "from sklearn import linear_model\n",
    "\n",
    "preproc = SkinLesionPreprocessing()\n",
    "data = SegExamples()"
   ],
   "metadata": {
    "collapsed": false
   }
  },
  {
   "cell_type": "code",
   "execution_count": 21,
   "outputs": [],
   "source": [
    "# settings for LBP\n",
    "# Compute the rotation invariant uniform (frequent) LBP features\n",
    "binary_data = data.seg_examples_df.iloc[:60] # only nevus vs others\n",
    "paths = \"../data/\"+binary_data.path\n",
    "\n",
    "# Create Binary Labels for the sample binary dataset\n",
    "binary_labels = []\n",
    "for p in binary_data.path:\n",
    "     binary_labels.append(p.split('/')[2])\n",
    "binary_labels = pd.DataFrame(binary_labels)\n",
    "label_encoder = preprocessing.LabelEncoder()\n",
    "\n",
    "def lbp_function(paths):\n",
    "    radius = 1\n",
    "    n_points = 8 * radius\n",
    "    lbp_feature_vector=[]\n",
    "    for i in paths:\n",
    "        image = cv2.imread(i, cv2.IMREAD_GRAYSCALE) # read image as grayscale\n",
    "        lbp = local_binary_pattern(image, n_points, radius, method=\"uniform\") # 'uniform' is rotation invariant.\n",
    "        hist = np.histogram(lbp.ravel())\n",
    "        feature_array=np.ndarray.tolist(hist[0])\n",
    "        lbp_feature_vector.append(feature_array)\n",
    "    return pd.DataFrame(lbp_feature_vector)"
   ],
   "metadata": {
    "collapsed": false
   }
  },
  {
   "cell_type": "code",
   "execution_count": 22,
   "outputs": [
    {
     "data": {
      "text/plain": "        0       1      2       3       4       5       6       7       8  \\\n0   11175   18382  11056   27568   31619   38299   26568   27658   35824   \n1   32752   50577  17370   72636   85644  120208   52069   79234  420069   \n2   84362   95319  41044   62585   58294   77699   76937  119955  197095   \n3   12817   22783  14350   29035   49311   29132   21261   25759   27192   \n4   51041   85057  45705  100709   93264  124879  105947  105429  156252   \n5   30703   60995  36163  128309  136303  181624  105114   93327  147866   \n6   28073   48533  31650  117717  155663  174094   83612   81546  218805   \n7   49790   76545  26934   85139   82337  116537   74716   96165  254324   \n8   31635   61815  36737  123092  183880  170855   99252   83916  127931   \n9   26856   40967  33813  138701  310033  188733   57567   58535  103218   \n10  22505   51966  24612   78701   78669  107193   71799   63089  101864   \n11  37265   56808  30990  103106  110954  158893   81838   98482  240201   \n12  46623   68835  51221  119368  133559  141744  100457   95926  135583   \n13  22082   45215  31495   91398  105360  118888   75855   54325   71523   \n14  33545   51716  51818  147635  254778  170708   85553   68512   77840   \n15  31592   56150  33103  122927  180790  183938   89567   90328  140885   \n16  61877   93085  61368  100514   97363  109391  103932  102625  135015   \n17  48378   70079  41888  105737  111539  142207   94231  110885  158017   \n18  45948   69590  28501   73572   77217   80526   46598   56116  449397   \n19  13967   21855   9481   21460   19843   28335   23942   30546   49699   \n20  82080   99517  57173   77815   80234   87220   89488  108093  152833   \n21  27355   44776  35142  115809  151696  174031   83450   75274  238824   \n22  10038   16864  12316   31787   41154   43504   26306   24423   30299   \n23  47974   67415  34062  102540  119778  143877   81592  109287  176044   \n24  49394   74436  30908   88859   95304  119411   74210   92103  246317   \n25  51930   75427  26786   88353   69212  127491   85846  123933  216601   \n26   9795   16832  13668   33628   43020   44571   27974   22092   24806   \n27  18485   35770  24543  105707  153515  168167   62836   59741  350307   \n28  78966   94864  43607   68259   54198   68393   62914   82075  295710   \n29  10157   22097   6830  120437  121829  300909   89579   74708  256762   \n30   5577   10499  11252   40068   72616   56020   23329   14778   15727   \n31  58995   79914  18272   70250   52373  105498   69198  125035  269864   \n32  44882   66298  33234  100454  100989  146609   85500  116081  197596   \n33   7605   15072   9308   31291   39567   50361   26251   23518   35246   \n34  67066   99922  51497   85099   73928   94287   99039  109568  160054   \n35  42444   70903  46965  115642  122386  149512  106636   97925  140123   \n36  49070   72461  65970  126300  159420  138124   97123   87629  112377   \n37  17178   35767  18844   94931  107115  199068   72007   72014  357135   \n38  73114   89986  48316   78763   79188   96041   88573  110341  168306   \n39  38101   56695  38742  118164  198914  177252   81122   90293  125539   \n40  91407  105265  49147   60891   52988   68693   81962  117468  178894   \n41  11930   17631  18435   38074   45203   38575   26914   20955   20421   \n42  18815   41855  24422   90950  108366  134650   70327   56120   78007   \n43  13879   19507  17856   31872   40414   35947   25981   22925   24958   \n44  32451   49913  33601   79603  118154   99640   60170   58098   75725   \n45  39546   68067  24900   87774   90750  114668   58680   69698  350210   \n46  18240   22375  15075   23807   25663   27628   23939   27363   35604   \n47  45027   60702  59865  130063  168450  164676   99662   88770   99492   \n48  36237   58058  43708  128349  157788  179632   97686   95907  121407   \n49  12650   17784  15550   30056   43146   39772   25653   22668   25349   \n50  46824   59045  59298  142194  234746  152781   83338   70420   81235   \n51  67309   90478  57750   90790   93851  104630   98484  103607  145090   \n52  11520   18045  16662   34658   43415   42504   27533   20634   21516   \n53  43691   74933  44578  110602  118419  135196   92843   86916  182027   \n54  37376   57482  25486   86097   84015  131469   70350   89179  331088   \n55  48273   69571  72262  133681  172564  150791  102754   81174   89950   \n56  37019   55181  32208  114113  125677  178606   85793  109183  180325   \n57  38626   66264  46038  122823  132298  173912  107622   93536  133299   \n58  10792   17474  10645   27954   38901   41209   25337   26003   32853   \n59  60942   79425  18643   66178   58425  103054   66201  117428  273674   \n\n         9  label  \n0    41851      0  \n1   118017      0  \n2   235286      0  \n3    38360      0  \n4   180293      0  \n5   128172      0  \n6   108883      0  \n7   186089      0  \n8   129463      0  \n9    90153      0  \n10   95922      0  \n11  130039      0  \n12  155260      0  \n13   82227      0  \n14  106471      0  \n15  119296      0  \n16  183406      0  \n17  165615      0  \n18  121111      0  \n19   50872      0  \n20  214123      1  \n21  102219      1  \n22   33309      1  \n23  166007      1  \n24  177634      1  \n25  182997      1  \n26   33614      1  \n27   69505      1  \n28  199590      1  \n29   45268      1  \n30   20134      1  \n31  199177      1  \n32  156933      1  \n33   31781      1  \n34  208116      1  \n35  156040      1  \n36  140102      1  \n37   74517      1  \n38  215948      1  \n39  123754      1  \n40  241861      1  \n41   31862      1  \n42   72808      1  \n43   36661      1  \n44   88965      1  \n45  144283      1  \n46   50306      1  \n47  131869      1  \n48  129804      1  \n49   37372      1  \n50  118695      1  \n51  196587      1  \n52   33513      1  \n53  159371      1  \n54  136034      1  \n55  127556      1  \n56  130471      1  \n57  134158      1  \n58   38832      1  \n59  204606      1  ",
      "text/html": "<div>\n<style scoped>\n    .dataframe tbody tr th:only-of-type {\n        vertical-align: middle;\n    }\n\n    .dataframe tbody tr th {\n        vertical-align: top;\n    }\n\n    .dataframe thead th {\n        text-align: right;\n    }\n</style>\n<table border=\"1\" class=\"dataframe\">\n  <thead>\n    <tr style=\"text-align: right;\">\n      <th></th>\n      <th>0</th>\n      <th>1</th>\n      <th>2</th>\n      <th>3</th>\n      <th>4</th>\n      <th>5</th>\n      <th>6</th>\n      <th>7</th>\n      <th>8</th>\n      <th>9</th>\n      <th>label</th>\n    </tr>\n  </thead>\n  <tbody>\n    <tr>\n      <th>0</th>\n      <td>11175</td>\n      <td>18382</td>\n      <td>11056</td>\n      <td>27568</td>\n      <td>31619</td>\n      <td>38299</td>\n      <td>26568</td>\n      <td>27658</td>\n      <td>35824</td>\n      <td>41851</td>\n      <td>0</td>\n    </tr>\n    <tr>\n      <th>1</th>\n      <td>32752</td>\n      <td>50577</td>\n      <td>17370</td>\n      <td>72636</td>\n      <td>85644</td>\n      <td>120208</td>\n      <td>52069</td>\n      <td>79234</td>\n      <td>420069</td>\n      <td>118017</td>\n      <td>0</td>\n    </tr>\n    <tr>\n      <th>2</th>\n      <td>84362</td>\n      <td>95319</td>\n      <td>41044</td>\n      <td>62585</td>\n      <td>58294</td>\n      <td>77699</td>\n      <td>76937</td>\n      <td>119955</td>\n      <td>197095</td>\n      <td>235286</td>\n      <td>0</td>\n    </tr>\n    <tr>\n      <th>3</th>\n      <td>12817</td>\n      <td>22783</td>\n      <td>14350</td>\n      <td>29035</td>\n      <td>49311</td>\n      <td>29132</td>\n      <td>21261</td>\n      <td>25759</td>\n      <td>27192</td>\n      <td>38360</td>\n      <td>0</td>\n    </tr>\n    <tr>\n      <th>4</th>\n      <td>51041</td>\n      <td>85057</td>\n      <td>45705</td>\n      <td>100709</td>\n      <td>93264</td>\n      <td>124879</td>\n      <td>105947</td>\n      <td>105429</td>\n      <td>156252</td>\n      <td>180293</td>\n      <td>0</td>\n    </tr>\n    <tr>\n      <th>5</th>\n      <td>30703</td>\n      <td>60995</td>\n      <td>36163</td>\n      <td>128309</td>\n      <td>136303</td>\n      <td>181624</td>\n      <td>105114</td>\n      <td>93327</td>\n      <td>147866</td>\n      <td>128172</td>\n      <td>0</td>\n    </tr>\n    <tr>\n      <th>6</th>\n      <td>28073</td>\n      <td>48533</td>\n      <td>31650</td>\n      <td>117717</td>\n      <td>155663</td>\n      <td>174094</td>\n      <td>83612</td>\n      <td>81546</td>\n      <td>218805</td>\n      <td>108883</td>\n      <td>0</td>\n    </tr>\n    <tr>\n      <th>7</th>\n      <td>49790</td>\n      <td>76545</td>\n      <td>26934</td>\n      <td>85139</td>\n      <td>82337</td>\n      <td>116537</td>\n      <td>74716</td>\n      <td>96165</td>\n      <td>254324</td>\n      <td>186089</td>\n      <td>0</td>\n    </tr>\n    <tr>\n      <th>8</th>\n      <td>31635</td>\n      <td>61815</td>\n      <td>36737</td>\n      <td>123092</td>\n      <td>183880</td>\n      <td>170855</td>\n      <td>99252</td>\n      <td>83916</td>\n      <td>127931</td>\n      <td>129463</td>\n      <td>0</td>\n    </tr>\n    <tr>\n      <th>9</th>\n      <td>26856</td>\n      <td>40967</td>\n      <td>33813</td>\n      <td>138701</td>\n      <td>310033</td>\n      <td>188733</td>\n      <td>57567</td>\n      <td>58535</td>\n      <td>103218</td>\n      <td>90153</td>\n      <td>0</td>\n    </tr>\n    <tr>\n      <th>10</th>\n      <td>22505</td>\n      <td>51966</td>\n      <td>24612</td>\n      <td>78701</td>\n      <td>78669</td>\n      <td>107193</td>\n      <td>71799</td>\n      <td>63089</td>\n      <td>101864</td>\n      <td>95922</td>\n      <td>0</td>\n    </tr>\n    <tr>\n      <th>11</th>\n      <td>37265</td>\n      <td>56808</td>\n      <td>30990</td>\n      <td>103106</td>\n      <td>110954</td>\n      <td>158893</td>\n      <td>81838</td>\n      <td>98482</td>\n      <td>240201</td>\n      <td>130039</td>\n      <td>0</td>\n    </tr>\n    <tr>\n      <th>12</th>\n      <td>46623</td>\n      <td>68835</td>\n      <td>51221</td>\n      <td>119368</td>\n      <td>133559</td>\n      <td>141744</td>\n      <td>100457</td>\n      <td>95926</td>\n      <td>135583</td>\n      <td>155260</td>\n      <td>0</td>\n    </tr>\n    <tr>\n      <th>13</th>\n      <td>22082</td>\n      <td>45215</td>\n      <td>31495</td>\n      <td>91398</td>\n      <td>105360</td>\n      <td>118888</td>\n      <td>75855</td>\n      <td>54325</td>\n      <td>71523</td>\n      <td>82227</td>\n      <td>0</td>\n    </tr>\n    <tr>\n      <th>14</th>\n      <td>33545</td>\n      <td>51716</td>\n      <td>51818</td>\n      <td>147635</td>\n      <td>254778</td>\n      <td>170708</td>\n      <td>85553</td>\n      <td>68512</td>\n      <td>77840</td>\n      <td>106471</td>\n      <td>0</td>\n    </tr>\n    <tr>\n      <th>15</th>\n      <td>31592</td>\n      <td>56150</td>\n      <td>33103</td>\n      <td>122927</td>\n      <td>180790</td>\n      <td>183938</td>\n      <td>89567</td>\n      <td>90328</td>\n      <td>140885</td>\n      <td>119296</td>\n      <td>0</td>\n    </tr>\n    <tr>\n      <th>16</th>\n      <td>61877</td>\n      <td>93085</td>\n      <td>61368</td>\n      <td>100514</td>\n      <td>97363</td>\n      <td>109391</td>\n      <td>103932</td>\n      <td>102625</td>\n      <td>135015</td>\n      <td>183406</td>\n      <td>0</td>\n    </tr>\n    <tr>\n      <th>17</th>\n      <td>48378</td>\n      <td>70079</td>\n      <td>41888</td>\n      <td>105737</td>\n      <td>111539</td>\n      <td>142207</td>\n      <td>94231</td>\n      <td>110885</td>\n      <td>158017</td>\n      <td>165615</td>\n      <td>0</td>\n    </tr>\n    <tr>\n      <th>18</th>\n      <td>45948</td>\n      <td>69590</td>\n      <td>28501</td>\n      <td>73572</td>\n      <td>77217</td>\n      <td>80526</td>\n      <td>46598</td>\n      <td>56116</td>\n      <td>449397</td>\n      <td>121111</td>\n      <td>0</td>\n    </tr>\n    <tr>\n      <th>19</th>\n      <td>13967</td>\n      <td>21855</td>\n      <td>9481</td>\n      <td>21460</td>\n      <td>19843</td>\n      <td>28335</td>\n      <td>23942</td>\n      <td>30546</td>\n      <td>49699</td>\n      <td>50872</td>\n      <td>0</td>\n    </tr>\n    <tr>\n      <th>20</th>\n      <td>82080</td>\n      <td>99517</td>\n      <td>57173</td>\n      <td>77815</td>\n      <td>80234</td>\n      <td>87220</td>\n      <td>89488</td>\n      <td>108093</td>\n      <td>152833</td>\n      <td>214123</td>\n      <td>1</td>\n    </tr>\n    <tr>\n      <th>21</th>\n      <td>27355</td>\n      <td>44776</td>\n      <td>35142</td>\n      <td>115809</td>\n      <td>151696</td>\n      <td>174031</td>\n      <td>83450</td>\n      <td>75274</td>\n      <td>238824</td>\n      <td>102219</td>\n      <td>1</td>\n    </tr>\n    <tr>\n      <th>22</th>\n      <td>10038</td>\n      <td>16864</td>\n      <td>12316</td>\n      <td>31787</td>\n      <td>41154</td>\n      <td>43504</td>\n      <td>26306</td>\n      <td>24423</td>\n      <td>30299</td>\n      <td>33309</td>\n      <td>1</td>\n    </tr>\n    <tr>\n      <th>23</th>\n      <td>47974</td>\n      <td>67415</td>\n      <td>34062</td>\n      <td>102540</td>\n      <td>119778</td>\n      <td>143877</td>\n      <td>81592</td>\n      <td>109287</td>\n      <td>176044</td>\n      <td>166007</td>\n      <td>1</td>\n    </tr>\n    <tr>\n      <th>24</th>\n      <td>49394</td>\n      <td>74436</td>\n      <td>30908</td>\n      <td>88859</td>\n      <td>95304</td>\n      <td>119411</td>\n      <td>74210</td>\n      <td>92103</td>\n      <td>246317</td>\n      <td>177634</td>\n      <td>1</td>\n    </tr>\n    <tr>\n      <th>25</th>\n      <td>51930</td>\n      <td>75427</td>\n      <td>26786</td>\n      <td>88353</td>\n      <td>69212</td>\n      <td>127491</td>\n      <td>85846</td>\n      <td>123933</td>\n      <td>216601</td>\n      <td>182997</td>\n      <td>1</td>\n    </tr>\n    <tr>\n      <th>26</th>\n      <td>9795</td>\n      <td>16832</td>\n      <td>13668</td>\n      <td>33628</td>\n      <td>43020</td>\n      <td>44571</td>\n      <td>27974</td>\n      <td>22092</td>\n      <td>24806</td>\n      <td>33614</td>\n      <td>1</td>\n    </tr>\n    <tr>\n      <th>27</th>\n      <td>18485</td>\n      <td>35770</td>\n      <td>24543</td>\n      <td>105707</td>\n      <td>153515</td>\n      <td>168167</td>\n      <td>62836</td>\n      <td>59741</td>\n      <td>350307</td>\n      <td>69505</td>\n      <td>1</td>\n    </tr>\n    <tr>\n      <th>28</th>\n      <td>78966</td>\n      <td>94864</td>\n      <td>43607</td>\n      <td>68259</td>\n      <td>54198</td>\n      <td>68393</td>\n      <td>62914</td>\n      <td>82075</td>\n      <td>295710</td>\n      <td>199590</td>\n      <td>1</td>\n    </tr>\n    <tr>\n      <th>29</th>\n      <td>10157</td>\n      <td>22097</td>\n      <td>6830</td>\n      <td>120437</td>\n      <td>121829</td>\n      <td>300909</td>\n      <td>89579</td>\n      <td>74708</td>\n      <td>256762</td>\n      <td>45268</td>\n      <td>1</td>\n    </tr>\n    <tr>\n      <th>30</th>\n      <td>5577</td>\n      <td>10499</td>\n      <td>11252</td>\n      <td>40068</td>\n      <td>72616</td>\n      <td>56020</td>\n      <td>23329</td>\n      <td>14778</td>\n      <td>15727</td>\n      <td>20134</td>\n      <td>1</td>\n    </tr>\n    <tr>\n      <th>31</th>\n      <td>58995</td>\n      <td>79914</td>\n      <td>18272</td>\n      <td>70250</td>\n      <td>52373</td>\n      <td>105498</td>\n      <td>69198</td>\n      <td>125035</td>\n      <td>269864</td>\n      <td>199177</td>\n      <td>1</td>\n    </tr>\n    <tr>\n      <th>32</th>\n      <td>44882</td>\n      <td>66298</td>\n      <td>33234</td>\n      <td>100454</td>\n      <td>100989</td>\n      <td>146609</td>\n      <td>85500</td>\n      <td>116081</td>\n      <td>197596</td>\n      <td>156933</td>\n      <td>1</td>\n    </tr>\n    <tr>\n      <th>33</th>\n      <td>7605</td>\n      <td>15072</td>\n      <td>9308</td>\n      <td>31291</td>\n      <td>39567</td>\n      <td>50361</td>\n      <td>26251</td>\n      <td>23518</td>\n      <td>35246</td>\n      <td>31781</td>\n      <td>1</td>\n    </tr>\n    <tr>\n      <th>34</th>\n      <td>67066</td>\n      <td>99922</td>\n      <td>51497</td>\n      <td>85099</td>\n      <td>73928</td>\n      <td>94287</td>\n      <td>99039</td>\n      <td>109568</td>\n      <td>160054</td>\n      <td>208116</td>\n      <td>1</td>\n    </tr>\n    <tr>\n      <th>35</th>\n      <td>42444</td>\n      <td>70903</td>\n      <td>46965</td>\n      <td>115642</td>\n      <td>122386</td>\n      <td>149512</td>\n      <td>106636</td>\n      <td>97925</td>\n      <td>140123</td>\n      <td>156040</td>\n      <td>1</td>\n    </tr>\n    <tr>\n      <th>36</th>\n      <td>49070</td>\n      <td>72461</td>\n      <td>65970</td>\n      <td>126300</td>\n      <td>159420</td>\n      <td>138124</td>\n      <td>97123</td>\n      <td>87629</td>\n      <td>112377</td>\n      <td>140102</td>\n      <td>1</td>\n    </tr>\n    <tr>\n      <th>37</th>\n      <td>17178</td>\n      <td>35767</td>\n      <td>18844</td>\n      <td>94931</td>\n      <td>107115</td>\n      <td>199068</td>\n      <td>72007</td>\n      <td>72014</td>\n      <td>357135</td>\n      <td>74517</td>\n      <td>1</td>\n    </tr>\n    <tr>\n      <th>38</th>\n      <td>73114</td>\n      <td>89986</td>\n      <td>48316</td>\n      <td>78763</td>\n      <td>79188</td>\n      <td>96041</td>\n      <td>88573</td>\n      <td>110341</td>\n      <td>168306</td>\n      <td>215948</td>\n      <td>1</td>\n    </tr>\n    <tr>\n      <th>39</th>\n      <td>38101</td>\n      <td>56695</td>\n      <td>38742</td>\n      <td>118164</td>\n      <td>198914</td>\n      <td>177252</td>\n      <td>81122</td>\n      <td>90293</td>\n      <td>125539</td>\n      <td>123754</td>\n      <td>1</td>\n    </tr>\n    <tr>\n      <th>40</th>\n      <td>91407</td>\n      <td>105265</td>\n      <td>49147</td>\n      <td>60891</td>\n      <td>52988</td>\n      <td>68693</td>\n      <td>81962</td>\n      <td>117468</td>\n      <td>178894</td>\n      <td>241861</td>\n      <td>1</td>\n    </tr>\n    <tr>\n      <th>41</th>\n      <td>11930</td>\n      <td>17631</td>\n      <td>18435</td>\n      <td>38074</td>\n      <td>45203</td>\n      <td>38575</td>\n      <td>26914</td>\n      <td>20955</td>\n      <td>20421</td>\n      <td>31862</td>\n      <td>1</td>\n    </tr>\n    <tr>\n      <th>42</th>\n      <td>18815</td>\n      <td>41855</td>\n      <td>24422</td>\n      <td>90950</td>\n      <td>108366</td>\n      <td>134650</td>\n      <td>70327</td>\n      <td>56120</td>\n      <td>78007</td>\n      <td>72808</td>\n      <td>1</td>\n    </tr>\n    <tr>\n      <th>43</th>\n      <td>13879</td>\n      <td>19507</td>\n      <td>17856</td>\n      <td>31872</td>\n      <td>40414</td>\n      <td>35947</td>\n      <td>25981</td>\n      <td>22925</td>\n      <td>24958</td>\n      <td>36661</td>\n      <td>1</td>\n    </tr>\n    <tr>\n      <th>44</th>\n      <td>32451</td>\n      <td>49913</td>\n      <td>33601</td>\n      <td>79603</td>\n      <td>118154</td>\n      <td>99640</td>\n      <td>60170</td>\n      <td>58098</td>\n      <td>75725</td>\n      <td>88965</td>\n      <td>1</td>\n    </tr>\n    <tr>\n      <th>45</th>\n      <td>39546</td>\n      <td>68067</td>\n      <td>24900</td>\n      <td>87774</td>\n      <td>90750</td>\n      <td>114668</td>\n      <td>58680</td>\n      <td>69698</td>\n      <td>350210</td>\n      <td>144283</td>\n      <td>1</td>\n    </tr>\n    <tr>\n      <th>46</th>\n      <td>18240</td>\n      <td>22375</td>\n      <td>15075</td>\n      <td>23807</td>\n      <td>25663</td>\n      <td>27628</td>\n      <td>23939</td>\n      <td>27363</td>\n      <td>35604</td>\n      <td>50306</td>\n      <td>1</td>\n    </tr>\n    <tr>\n      <th>47</th>\n      <td>45027</td>\n      <td>60702</td>\n      <td>59865</td>\n      <td>130063</td>\n      <td>168450</td>\n      <td>164676</td>\n      <td>99662</td>\n      <td>88770</td>\n      <td>99492</td>\n      <td>131869</td>\n      <td>1</td>\n    </tr>\n    <tr>\n      <th>48</th>\n      <td>36237</td>\n      <td>58058</td>\n      <td>43708</td>\n      <td>128349</td>\n      <td>157788</td>\n      <td>179632</td>\n      <td>97686</td>\n      <td>95907</td>\n      <td>121407</td>\n      <td>129804</td>\n      <td>1</td>\n    </tr>\n    <tr>\n      <th>49</th>\n      <td>12650</td>\n      <td>17784</td>\n      <td>15550</td>\n      <td>30056</td>\n      <td>43146</td>\n      <td>39772</td>\n      <td>25653</td>\n      <td>22668</td>\n      <td>25349</td>\n      <td>37372</td>\n      <td>1</td>\n    </tr>\n    <tr>\n      <th>50</th>\n      <td>46824</td>\n      <td>59045</td>\n      <td>59298</td>\n      <td>142194</td>\n      <td>234746</td>\n      <td>152781</td>\n      <td>83338</td>\n      <td>70420</td>\n      <td>81235</td>\n      <td>118695</td>\n      <td>1</td>\n    </tr>\n    <tr>\n      <th>51</th>\n      <td>67309</td>\n      <td>90478</td>\n      <td>57750</td>\n      <td>90790</td>\n      <td>93851</td>\n      <td>104630</td>\n      <td>98484</td>\n      <td>103607</td>\n      <td>145090</td>\n      <td>196587</td>\n      <td>1</td>\n    </tr>\n    <tr>\n      <th>52</th>\n      <td>11520</td>\n      <td>18045</td>\n      <td>16662</td>\n      <td>34658</td>\n      <td>43415</td>\n      <td>42504</td>\n      <td>27533</td>\n      <td>20634</td>\n      <td>21516</td>\n      <td>33513</td>\n      <td>1</td>\n    </tr>\n    <tr>\n      <th>53</th>\n      <td>43691</td>\n      <td>74933</td>\n      <td>44578</td>\n      <td>110602</td>\n      <td>118419</td>\n      <td>135196</td>\n      <td>92843</td>\n      <td>86916</td>\n      <td>182027</td>\n      <td>159371</td>\n      <td>1</td>\n    </tr>\n    <tr>\n      <th>54</th>\n      <td>37376</td>\n      <td>57482</td>\n      <td>25486</td>\n      <td>86097</td>\n      <td>84015</td>\n      <td>131469</td>\n      <td>70350</td>\n      <td>89179</td>\n      <td>331088</td>\n      <td>136034</td>\n      <td>1</td>\n    </tr>\n    <tr>\n      <th>55</th>\n      <td>48273</td>\n      <td>69571</td>\n      <td>72262</td>\n      <td>133681</td>\n      <td>172564</td>\n      <td>150791</td>\n      <td>102754</td>\n      <td>81174</td>\n      <td>89950</td>\n      <td>127556</td>\n      <td>1</td>\n    </tr>\n    <tr>\n      <th>56</th>\n      <td>37019</td>\n      <td>55181</td>\n      <td>32208</td>\n      <td>114113</td>\n      <td>125677</td>\n      <td>178606</td>\n      <td>85793</td>\n      <td>109183</td>\n      <td>180325</td>\n      <td>130471</td>\n      <td>1</td>\n    </tr>\n    <tr>\n      <th>57</th>\n      <td>38626</td>\n      <td>66264</td>\n      <td>46038</td>\n      <td>122823</td>\n      <td>132298</td>\n      <td>173912</td>\n      <td>107622</td>\n      <td>93536</td>\n      <td>133299</td>\n      <td>134158</td>\n      <td>1</td>\n    </tr>\n    <tr>\n      <th>58</th>\n      <td>10792</td>\n      <td>17474</td>\n      <td>10645</td>\n      <td>27954</td>\n      <td>38901</td>\n      <td>41209</td>\n      <td>25337</td>\n      <td>26003</td>\n      <td>32853</td>\n      <td>38832</td>\n      <td>1</td>\n    </tr>\n    <tr>\n      <th>59</th>\n      <td>60942</td>\n      <td>79425</td>\n      <td>18643</td>\n      <td>66178</td>\n      <td>58425</td>\n      <td>103054</td>\n      <td>66201</td>\n      <td>117428</td>\n      <td>273674</td>\n      <td>204606</td>\n      <td>1</td>\n    </tr>\n  </tbody>\n</table>\n</div>"
     },
     "execution_count": 22,
     "metadata": {},
     "output_type": "execute_result"
    }
   ],
   "source": [
    "df = lbp_function(paths)\n",
    "df['label'] = label_encoder.fit_transform(binary_labels[0]) # add binary labels\n",
    "df"
   ],
   "metadata": {
    "collapsed": false
   }
  },
  {
   "cell_type": "code",
   "execution_count": 23,
   "outputs": [],
   "source": [
    "def classifier(df):\n",
    "    x = df.loc[:, df.columns != 'label']\n",
    "    y = df['label']\n",
    "\n",
    "    scaler = preprocessing.MinMaxScaler()\n",
    "    x_scaled = scaler.fit_transform(x)\n",
    "\n",
    "    # Create  classifier object.\n",
    "    lr = linear_model.LogisticRegression()\n",
    "    # lr = svm.SVC()\n",
    "\n",
    "    # Create StratifiedKFold object.\n",
    "    skf = StratifiedKFold(n_splits=10, shuffle=True, random_state=10)\n",
    "    lst_accu_stratified = []\n",
    "\n",
    "    for train_index, test_index in skf.split(x, y):\n",
    "        x_train_fold, x_test_fold = x_scaled[train_index], x_scaled[test_index]\n",
    "        y_train_fold, y_test_fold = y[train_index], y[test_index]\n",
    "        lr.fit(x_train_fold, y_train_fold)\n",
    "        lst_accu_stratified.append(lr.score(x_test_fold, y_test_fold))\n",
    "\n",
    "    # Print the output.\n",
    "    print('List of possible accuracy:', lst_accu_stratified)\n",
    "    print('\\nMaximum Accuracy That can be obtained from this model is:',\n",
    "          max(lst_accu_stratified)*100, '%')\n",
    "    print('\\nMinimum Accuracy:',\n",
    "          min(lst_accu_stratified)*100, '%')\n",
    "    print('\\nOverall Accuracy:',\n",
    "          np.mean(lst_accu_stratified)*100, '%')\n",
    "    print('\\nStandard Deviation is:', stdev(lst_accu_stratified))"
   ],
   "metadata": {
    "collapsed": false
   }
  },
  {
   "cell_type": "code",
   "execution_count": 24,
   "outputs": [
    {
     "name": "stdout",
     "output_type": "stream",
     "text": [
      "List of possible accuracy: [0.6666666666666666, 0.6666666666666666, 0.6666666666666666, 0.6666666666666666, 0.6666666666666666, 0.6666666666666666, 0.6666666666666666, 0.6666666666666666, 0.6666666666666666, 0.6666666666666666]\n",
      "\n",
      "Maximum Accuracy That can be obtained from this model is: 66.66666666666666 %\n",
      "\n",
      "Minimum Accuracy: 66.66666666666666 %\n",
      "\n",
      "Overall Accuracy: 66.66666666666667 %\n",
      "\n",
      "Standard Deviation is: 0.0\n"
     ]
    }
   ],
   "source": [
    "classifier(df)"
   ],
   "metadata": {
    "collapsed": false
   }
  }
 ],
 "metadata": {
  "kernelspec": {
   "display_name": "Python 3",
   "language": "python",
   "name": "python3"
  },
  "language_info": {
   "codemirror_mode": {
    "name": "ipython",
    "version": 2
   },
   "file_extension": ".py",
   "mimetype": "text/x-python",
   "name": "python",
   "nbconvert_exporter": "python",
   "pygments_lexer": "ipython2",
   "version": "2.7.6"
  }
 },
 "nbformat": 4,
 "nbformat_minor": 0
}
