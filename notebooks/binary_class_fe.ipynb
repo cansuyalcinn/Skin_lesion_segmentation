{
 "cells": [
  {
   "cell_type": "code",
   "execution_count": 1,
   "metadata": {},
   "outputs": [],
   "source": [
    "import os\n",
    "import sys; sys.path.insert(0, os.path.abspath(\"../\"))\n",
    "import cv2\n",
    "import numpy as np\n",
    "import pandas as pd\n",
    "from tqdm import tqdm\n",
    "from dataset.dataset import SkinLesion_Dataset, SegExamples\n",
    "from pipeline.preprocessing import SkinLesionPreprocessing\n",
    "from pipeline.feature_extraction import FeaturesExtraction\n",
    "\n",
    "import multiprocessing as mp\n",
    "from tqdm import tqdm"
   ]
  },
  {
   "cell_type": "code",
   "execution_count": 2,
   "metadata": {},
   "outputs": [
    {
     "name": "stdout",
     "output_type": "stream",
     "text": [
      "train: 15195\n"
     ]
    }
   ],
   "source": [
    "data_train = SkinLesion_Dataset(class_task='binary', partitions=['train']) # default resize as True\n",
    "# data_val = SkinLesion_Dataset(class_task='three_class', partitions=['val'])\n",
    "preproc = SkinLesionPreprocessing()\n",
    "cfe = FeaturesExtraction(levels=['global'])\n",
    "print(f'train: {len(data_train)}')"
   ]
  },
  {
   "cell_type": "code",
   "execution_count": 3,
   "metadata": {},
   "outputs": [],
   "source": [
    "def obtain_data(data_sample):\n",
    "\n",
    "    img = data_sample['img']\n",
    "    img_preproc = preproc.preprocess(img)\n",
    "    \n",
    "    return cfe.extract_features(img_preproc), data_sample['label']"
   ]
  },
  {
   "cell_type": "code",
   "execution_count": 4,
   "metadata": {},
   "outputs": [
    {
     "name": "stderr",
     "output_type": "stream",
     "text": [
      "100%|██████████| 15195/15195 [22:25<00:00, 11.29it/s]\n"
     ]
    }
   ],
   "source": [
    "n_jobs = mp.cpu_count()\n",
    "features = []\n",
    "labels = []\n",
    "with mp.Pool(n_jobs) as pool:\n",
    "    for result in tqdm(pool.imap(obtain_data, data_train), total= len(data_train)):\n",
    "        feat, lab = result\n",
    "        features.append(feat)\n",
    "        labels.append(lab)\n",
    "\n",
    "df = pd.DataFrame(features, columns=cfe.features_names)\n",
    "df['label'] = labels\n",
    "df.to_feather('../data/binary/train_all_feat.f') "
   ]
  },
  {
   "cell_type": "code",
   "execution_count": 10,
   "metadata": {},
   "outputs": [
    {
     "name": "stdout",
     "output_type": "stream",
     "text": [
      "train shape: (15195, 144), val shape: (3796, 144)\n"
     ]
    }
   ],
   "source": [
    "train_df = pd.read_feather(\"../data/binary/train_all_feat.f\")\n",
    "val_df = pd.read_feather(\"../data/binary/val_all_features.f\")\n",
    "train_shape = train_df.shape\n",
    "val_shape = val_df.shape\n",
    "print(f'train shape: {train_shape}, val shape: {val_shape}')"
   ]
  },
  {
   "cell_type": "markdown",
   "metadata": {},
   "source": [
    "### Quick gridsearch RF"
   ]
  },
  {
   "cell_type": "code",
   "execution_count": 3,
   "metadata": {},
   "outputs": [],
   "source": [
    "from sklearn.model_selection import GridSearchCV, StratifiedKFold\n",
    "from sklearn.ensemble import RandomForestClassifier\n",
    "import pickle\n",
    "from sklearn import preprocessing\n",
    "from sklearn.preprocessing import StandardScaler\n",
    "from sklearn.pipeline import Pipeline\n",
    "from sklearn.metrics import f1_score, accuracy_score"
   ]
  },
  {
   "cell_type": "code",
   "execution_count": 11,
   "metadata": {},
   "outputs": [
    {
     "name": "stdout",
     "output_type": "stream",
     "text": [
      "X_train: (15195, 143), y_train: (15195,), X_test: (3796, 143), y_test: (3796,)\n"
     ]
    }
   ],
   "source": [
    "train_df.replace({'nevus': 1, 'others': 0}, inplace=True)\n",
    "val_df.replace({'nevus': 1, 'others': 0}, inplace=True)\n",
    "\n",
    "df_train = train_df.iloc[:train_shape[0], :].sample(frac=1, random_state=42)\n",
    "df_val = val_df.iloc[:val_shape[0], :].sample(frac=1, random_state=42)\n",
    "# df_val\n",
    "\n",
    "X_train, y_train = df_train.iloc[:, :(train_shape[1]-1)].to_numpy(dtype=np.float32), df_train.iloc[:, (train_shape[1]-1)].to_numpy()\n",
    "X_test, y_test = df_val.iloc[:, :(val_shape[1]-1)].to_numpy(dtype= np.float32), df_val.iloc[:, (val_shape[1]-1)].to_numpy()\n",
    "\n",
    "print(f'X_train: {X_train.shape}, y_train: {y_train.shape}, X_test: {X_test.shape}, y_test: {y_test.shape}')"
   ]
  },
  {
   "cell_type": "code",
   "execution_count": 12,
   "metadata": {},
   "outputs": [],
   "source": [
    "classifier = RandomForestClassifier(random_state=42, n_jobs=-1)\n",
    "param_grid = { \n",
    "    'classifier__n_estimators': [50, 100, 500, 1000],\n",
    "    'classifier__max_depth': [50, 70, 100, 150],\n",
    "}\n",
    "\n",
    "#Let's apply a stratified 10-fold cross validation\n",
    "cv = StratifiedKFold(n_splits=10, shuffle=True, random_state=42)\n",
    "\n",
    "#Let's build a pipeline with only a scaler and a linear SVM\n",
    "pipe = Pipeline([('scaler', StandardScaler()),('classifier', classifier)]) #SVC(kernel='linear'))])\n"
   ]
  },
  {
   "cell_type": "code",
   "execution_count": 13,
   "metadata": {},
   "outputs": [],
   "source": [
    "grid_search = GridSearchCV(pipe, param_grid, cv=cv)\n",
    "#Let's train and test the learning system\n",
    "grid_search.fit(X_train, y_train)\n",
    "\n",
    "#Here we just print the best accuracy and the corresponding values for the parameters\n",
    "print(\"TRAIN- The best parameters are %s with an accuracy of %0.4f\"%(grid_search.best_params_, grid_search.best_score_))\n"
   ]
  },
  {
   "cell_type": "code",
   "execution_count": null,
   "metadata": {},
   "outputs": [],
   "source": [
    "y_train_predicted = grid_search.predict(X_train)\n",
    "y_test_predicted =  grid_search.predict(X_test)\n",
    "print('F1 Score of train data: %0.4f' %f1_score(y_train,y_train_predicted,average='macro'), f'Acc: {accuracy_score(y_train, y_train_predicted)}')\n",
    "print('F1 Score of test data: %0.4f' %f1_score(y_test,y_test_predicted,average='macro'), f'Acc: {accuracy_score(y_test, y_test_predicted)}')"
   ]
  },
  {
   "cell_type": "code",
   "execution_count": null,
   "metadata": {},
   "outputs": [],
   "source": [
    "# CV\n",
    "from sklearn.model_selection import cross_val_score\n",
    "cv_scores = cross_val_score(estimator= grid_search, X = X_train, y = y_train, scoring= \"accuracy\", cv=10, n_jobs=-1)\n",
    "cv_scores"
   ]
  },
  {
   "cell_type": "code",
   "execution_count": null,
   "metadata": {},
   "outputs": [],
   "source": [
    "# Features importances\n",
    "feature_importances = grid_search.best_estimator_._final_estimator.feature_importances_\n",
    "cfe = FeaturesExtraction(levels=['global'])\n",
    "fimp_df = pd.DataFrame(data=[feature_importances], columns=cfe.features_names).transpose()\n",
    "# fimp_df\n",
    "fimp_df.sort_values(0,axis=0,inplace=True, ascending=False)\n",
    "normalized_df = (fimp_df-fimp_df.min())/(fimp_df.max()-fimp_df.min())\n",
    "normalized_df.head(50)"
   ]
  }
 ],
 "metadata": {
  "kernelspec": {
   "display_name": "Python 3.9.13 ('cad2')",
   "language": "python",
   "name": "python3"
  },
  "language_info": {
   "codemirror_mode": {
    "name": "ipython",
    "version": 3
   },
   "file_extension": ".py",
   "mimetype": "text/x-python",
   "name": "python",
   "nbconvert_exporter": "python",
   "pygments_lexer": "ipython3",
   "version": "3.9.13"
  },
  "orig_nbformat": 4,
  "vscode": {
   "interpreter": {
    "hash": "a0c90d376db34231447b0a346bd9b020b335514f400822d22910f8af73bdac81"
   }
  }
 },
 "nbformat": 4,
 "nbformat_minor": 2
}
