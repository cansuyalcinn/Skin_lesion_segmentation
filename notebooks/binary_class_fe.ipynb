{
 "cells": [
  {
   "cell_type": "code",
   "execution_count": 1,
   "metadata": {},
   "outputs": [],
   "source": [
    "import os\n",
    "import sys; sys.path.insert(0, os.path.abspath(\"../\"))\n",
    "import cv2\n",
    "import numpy as np\n",
    "import pandas as pd\n",
    "from tqdm import tqdm\n",
    "from dataset.dataset import SkinLesion_Dataset, SegExamples\n",
    "from pipeline.preprocessing import SkinLesionPreprocessing\n",
    "from pipeline.feature_extraction import FeaturesExtraction\n",
    "\n",
    "import multiprocessing as mp\n",
    "from tqdm import tqdm"
   ]
  },
  {
   "cell_type": "code",
   "execution_count": 2,
   "metadata": {},
   "outputs": [
    {
     "name": "stdout",
     "output_type": "stream",
     "text": [
      "train: 15195\n"
     ]
    }
   ],
   "source": [
    "data_train = SkinLesion_Dataset(class_task='binary', partitions=['train']) # default resize as True\n",
    "# data_val = SkinLesion_Dataset(class_task='three_class', partitions=['val'])\n",
    "preproc = SkinLesionPreprocessing()\n",
    "cfe = FeaturesExtraction(levels=['global'])\n",
    "print(f'train: {len(data_train)}')"
   ]
  },
  {
   "cell_type": "code",
   "execution_count": 3,
   "metadata": {},
   "outputs": [],
   "source": [
    "def obtain_data(data_sample):\n",
    "\n",
    "    img = data_sample['img']\n",
    "    img_preproc = preproc.preprocess(img)\n",
    "    \n",
    "    return cfe.extract_features(img_preproc), data_sample['label']"
   ]
  },
  {
   "cell_type": "code",
   "execution_count": 4,
   "metadata": {},
   "outputs": [
    {
     "name": "stderr",
     "output_type": "stream",
     "text": [
      "100%|██████████| 15195/15195 [22:25<00:00, 11.29it/s]\n"
     ]
    }
   ],
   "source": [
    "n_jobs = mp.cpu_count()\n",
    "features = []\n",
    "labels = []\n",
    "with mp.Pool(n_jobs) as pool:\n",
    "    for result in tqdm(pool.imap(obtain_data, data_train), total= len(data_train)):\n",
    "        feat, lab = result\n",
    "        features.append(feat)\n",
    "        labels.append(lab)\n",
    "\n",
    "df = pd.DataFrame(features, columns=cfe.features_names)\n",
    "df['label'] = labels\n",
    "df.to_feather('../data/binary/train_all_feat.f') "
   ]
  },
  {
   "cell_type": "code",
   "execution_count": 10,
   "metadata": {},
   "outputs": [
    {
     "name": "stdout",
     "output_type": "stream",
     "text": [
      "train shape: (15195, 144), val shape: (3796, 144)\n"
     ]
    }
   ],
   "source": [
    "train_df = pd.read_feather(\"../data/binary/train_all_feat.f\")\n",
    "val_df = pd.read_feather(\"../data/binary/val_all_features.f\")\n",
    "train_shape = train_df.shape\n",
    "val_shape = val_df.shape\n",
    "print(f'train shape: {train_shape}, val shape: {val_shape}')"
   ]
  },
  {
   "cell_type": "markdown",
   "metadata": {},
   "source": [
    "### Quick gridsearch RF"
   ]
  },
  {
   "cell_type": "code",
   "execution_count": 3,
   "metadata": {},
   "outputs": [],
   "source": [
    "from sklearn.model_selection import GridSearchCV, StratifiedKFold\n",
    "from sklearn.ensemble import RandomForestClassifier\n",
    "import pickle\n",
    "from sklearn import preprocessing\n",
    "from sklearn.preprocessing import StandardScaler\n",
    "from sklearn.pipeline import Pipeline\n",
    "from sklearn.metrics import f1_score, accuracy_score"
   ]
  },
  {
   "cell_type": "code",
   "execution_count": 11,
   "metadata": {},
   "outputs": [
    {
     "name": "stdout",
     "output_type": "stream",
     "text": [
      "X_train: (15195, 143), y_train: (15195,), X_test: (3796, 143), y_test: (3796,)\n"
     ]
    }
   ],
   "source": [
    "train_df.replace({'nevus': 1, 'others': 0}, inplace=True)\n",
    "val_df.replace({'nevus': 1, 'others': 0}, inplace=True)\n",
    "\n",
    "df_train = train_df.iloc[:train_shape[0], :].sample(frac=1, random_state=42)\n",
    "df_val = val_df.iloc[:val_shape[0], :].sample(frac=1, random_state=42)\n",
    "# df_val\n",
    "\n",
    "X_train, y_train = df_train.iloc[:, :(train_shape[1]-1)].to_numpy(dtype=np.float32), df_train.iloc[:, (train_shape[1]-1)].to_numpy()\n",
    "X_test, y_test = df_val.iloc[:, :(val_shape[1]-1)].to_numpy(dtype= np.float32), df_val.iloc[:, (val_shape[1]-1)].to_numpy()\n",
    "\n",
    "print(f'X_train: {X_train.shape}, y_train: {y_train.shape}, X_test: {X_test.shape}, y_test: {y_test.shape}')"
   ]
  },
  {
   "cell_type": "code",
   "execution_count": 12,
   "metadata": {},
   "outputs": [],
   "source": [
    "classifier = RandomForestClassifier(random_state=42, n_jobs=-1)\n",
    "param_grid = { \n",
    "    'classifier__n_estimators': [50, 100, 500, 1000],\n",
    "    'classifier__max_depth': [50, 70, 100, 150],\n",
    "}\n",
    "\n",
    "#Let's apply a stratified 10-fold cross validation\n",
    "cv = StratifiedKFold(n_splits=10, shuffle=True, random_state=42)\n",
    "\n",
    "#Let's build a pipeline with only a scaler and a linear SVM\n",
    "pipe = Pipeline([('scaler', StandardScaler()),('classifier', classifier)]) #SVC(kernel='linear'))])\n"
   ]
  },
  {
   "cell_type": "code",
   "execution_count": 13,
   "metadata": {},
   "outputs": [
    {
     "name": "stdout",
     "output_type": "stream",
     "text": [
      "TRAIN- The best parameters are {'classifier__max_depth': 50, 'classifier__n_estimators': 1000} with an accuracy of 0.8258\n"
     ]
    }
   ],
   "source": [
    "grid_search = GridSearchCV(pipe, param_grid, cv=cv)\n",
    "#Let's train and test the learning system\n",
    "grid_search.fit(X_train, y_train)\n",
    "\n",
    "#Here we just print the best accuracy and the corresponding values for the parameters\n",
    "print(\"TRAIN- The best parameters are %s with an accuracy of %0.4f\"%(grid_search.best_params_, grid_search.best_score_))\n"
   ]
  },
  {
   "cell_type": "code",
   "execution_count": 14,
   "metadata": {},
   "outputs": [
    {
     "name": "stdout",
     "output_type": "stream",
     "text": [
      "F1 Score of train data: 1.0000 Acc: 1.0\n",
      "F1 Score of test data: 0.8249 Acc: 0.8250790305584826\n"
     ]
    }
   ],
   "source": [
    "y_train_predicted = grid_search.predict(X_train)\n",
    "y_test_predicted =  grid_search.predict(X_test)\n",
    "print('F1 Score of train data: %0.4f' %f1_score(y_train,y_train_predicted,average='macro'), f'Acc: {accuracy_score(y_train, y_train_predicted)}')\n",
    "print('F1 Score of test data: %0.4f' %f1_score(y_test,y_test_predicted,average='macro'), f'Acc: {accuracy_score(y_test, y_test_predicted)}')"
   ]
  },
  {
   "cell_type": "code",
   "execution_count": 15,
   "metadata": {},
   "outputs": [
    {
     "data": {
      "text/plain": [
       "array([0.8125    , 0.82631579, 0.81052632, 0.83026316, 0.81513158,\n",
       "       0.82883476, 0.82488479, 0.82554312, 0.83146807, 0.85187623])"
      ]
     },
     "execution_count": 15,
     "metadata": {},
     "output_type": "execute_result"
    }
   ],
   "source": [
    "# CV\n",
    "from sklearn.model_selection import cross_val_score\n",
    "cv_scores = cross_val_score(estimator= grid_search, X = X_train, y = y_train, scoring= \"accuracy\", cv=10, n_jobs=-1)\n",
    "cv_scores"
   ]
  },
  {
   "cell_type": "code",
   "execution_count": 16,
   "metadata": {},
   "outputs": [
    {
     "data": {
      "text/html": [
       "<div>\n",
       "<style scoped>\n",
       "    .dataframe tbody tr th:only-of-type {\n",
       "        vertical-align: middle;\n",
       "    }\n",
       "\n",
       "    .dataframe tbody tr th {\n",
       "        vertical-align: top;\n",
       "    }\n",
       "\n",
       "    .dataframe thead th {\n",
       "        text-align: right;\n",
       "    }\n",
       "</style>\n",
       "<table border=\"1\" class=\"dataframe\">\n",
       "  <thead>\n",
       "    <tr style=\"text-align: right;\">\n",
       "      <th></th>\n",
       "      <th>0</th>\n",
       "    </tr>\n",
       "  </thead>\n",
       "  <tbody>\n",
       "    <tr>\n",
       "      <th>global_ycrbcb_mean_2</th>\n",
       "      <td>1.000000</td>\n",
       "    </tr>\n",
       "    <tr>\n",
       "      <th>global_lab_mean_2</th>\n",
       "      <td>0.946173</td>\n",
       "    </tr>\n",
       "    <tr>\n",
       "      <th>global_rgb_skew_3</th>\n",
       "      <td>0.936037</td>\n",
       "    </tr>\n",
       "    <tr>\n",
       "      <th>global_rgb_skew_2</th>\n",
       "      <td>0.777891</td>\n",
       "    </tr>\n",
       "    <tr>\n",
       "      <th>global_hsv_ent_1</th>\n",
       "      <td>0.663542</td>\n",
       "    </tr>\n",
       "    <tr>\n",
       "      <th>global_ycrbcb_skew_1</th>\n",
       "      <td>0.622432</td>\n",
       "    </tr>\n",
       "    <tr>\n",
       "      <th>global_rad_3_lbp2</th>\n",
       "      <td>0.608066</td>\n",
       "    </tr>\n",
       "    <tr>\n",
       "      <th>global_lab_skew_1</th>\n",
       "      <td>0.593528</td>\n",
       "    </tr>\n",
       "    <tr>\n",
       "      <th>global_rad_3_lbp3</th>\n",
       "      <td>0.555418</td>\n",
       "    </tr>\n",
       "    <tr>\n",
       "      <th>global_rad_3_lbp7</th>\n",
       "      <td>0.498559</td>\n",
       "    </tr>\n",
       "    <tr>\n",
       "      <th>global_rad_3_lbp9</th>\n",
       "      <td>0.464515</td>\n",
       "    </tr>\n",
       "    <tr>\n",
       "      <th>global_gabor2_kur</th>\n",
       "      <td>0.416292</td>\n",
       "    </tr>\n",
       "    <tr>\n",
       "      <th>global_hsv_mean_2</th>\n",
       "      <td>0.398089</td>\n",
       "    </tr>\n",
       "    <tr>\n",
       "      <th>global_lab_kur_3</th>\n",
       "      <td>0.393770</td>\n",
       "    </tr>\n",
       "    <tr>\n",
       "      <th>global_rad_1_lbp4</th>\n",
       "      <td>0.377540</td>\n",
       "    </tr>\n",
       "    <tr>\n",
       "      <th>global_lab_skew_3</th>\n",
       "      <td>0.366785</td>\n",
       "    </tr>\n",
       "    <tr>\n",
       "      <th>global_hsv_skew_2</th>\n",
       "      <td>0.357892</td>\n",
       "    </tr>\n",
       "    <tr>\n",
       "      <th>global_ycrbcb_kur_2</th>\n",
       "      <td>0.351105</td>\n",
       "    </tr>\n",
       "    <tr>\n",
       "      <th>global_rad_3_lbp6</th>\n",
       "      <td>0.326443</td>\n",
       "    </tr>\n",
       "    <tr>\n",
       "      <th>global_ycrbcb_kur_3</th>\n",
       "      <td>0.320367</td>\n",
       "    </tr>\n",
       "    <tr>\n",
       "      <th>global_rad_1_lbp1</th>\n",
       "      <td>0.317138</td>\n",
       "    </tr>\n",
       "    <tr>\n",
       "      <th>global_ycrbcb_skew_3</th>\n",
       "      <td>0.311973</td>\n",
       "    </tr>\n",
       "    <tr>\n",
       "      <th>global_ycrbcb_ent_2</th>\n",
       "      <td>0.309313</td>\n",
       "    </tr>\n",
       "    <tr>\n",
       "      <th>global_rad_1_lbp9</th>\n",
       "      <td>0.293010</td>\n",
       "    </tr>\n",
       "    <tr>\n",
       "      <th>global_hsv_std_2</th>\n",
       "      <td>0.289816</td>\n",
       "    </tr>\n",
       "    <tr>\n",
       "      <th>global_ycrbcb_skew_2</th>\n",
       "      <td>0.279117</td>\n",
       "    </tr>\n",
       "    <tr>\n",
       "      <th>global_hsv_kur_2</th>\n",
       "      <td>0.270534</td>\n",
       "    </tr>\n",
       "    <tr>\n",
       "      <th>global_rgb_std_3</th>\n",
       "      <td>0.262742</td>\n",
       "    </tr>\n",
       "    <tr>\n",
       "      <th>global_dist2_ang0_correlation</th>\n",
       "      <td>0.248121</td>\n",
       "    </tr>\n",
       "    <tr>\n",
       "      <th>global_rgb_std_1</th>\n",
       "      <td>0.244963</td>\n",
       "    </tr>\n",
       "    <tr>\n",
       "      <th>global_lab_ent_2</th>\n",
       "      <td>0.243360</td>\n",
       "    </tr>\n",
       "    <tr>\n",
       "      <th>global_rad_1_lbp5</th>\n",
       "      <td>0.243291</td>\n",
       "    </tr>\n",
       "    <tr>\n",
       "      <th>global_rad_1_lbp3</th>\n",
       "      <td>0.241064</td>\n",
       "    </tr>\n",
       "    <tr>\n",
       "      <th>global_rgb_kur_3</th>\n",
       "      <td>0.237134</td>\n",
       "    </tr>\n",
       "    <tr>\n",
       "      <th>global_rad_3_lbp4</th>\n",
       "      <td>0.222125</td>\n",
       "    </tr>\n",
       "    <tr>\n",
       "      <th>global_dist1_ang0_correlation</th>\n",
       "      <td>0.192283</td>\n",
       "    </tr>\n",
       "    <tr>\n",
       "      <th>global_dist2_ang2_correlation</th>\n",
       "      <td>0.189638</td>\n",
       "    </tr>\n",
       "    <tr>\n",
       "      <th>global_rad_3_lbp5</th>\n",
       "      <td>0.188871</td>\n",
       "    </tr>\n",
       "    <tr>\n",
       "      <th>global_lab_std_2</th>\n",
       "      <td>0.187901</td>\n",
       "    </tr>\n",
       "    <tr>\n",
       "      <th>global_rad_3_lbp0</th>\n",
       "      <td>0.183873</td>\n",
       "    </tr>\n",
       "    <tr>\n",
       "      <th>global_ycrbcb_ent_3</th>\n",
       "      <td>0.178636</td>\n",
       "    </tr>\n",
       "    <tr>\n",
       "      <th>global_dist2_ang1_correlation</th>\n",
       "      <td>0.175742</td>\n",
       "    </tr>\n",
       "    <tr>\n",
       "      <th>global_dist1_ang1_correlation</th>\n",
       "      <td>0.174914</td>\n",
       "    </tr>\n",
       "    <tr>\n",
       "      <th>global_hsv_std_3</th>\n",
       "      <td>0.167512</td>\n",
       "    </tr>\n",
       "    <tr>\n",
       "      <th>global_rgb_mean_1</th>\n",
       "      <td>0.161929</td>\n",
       "    </tr>\n",
       "    <tr>\n",
       "      <th>global_lab_kur_2</th>\n",
       "      <td>0.160930</td>\n",
       "    </tr>\n",
       "    <tr>\n",
       "      <th>global_rad_1_lbp0</th>\n",
       "      <td>0.160168</td>\n",
       "    </tr>\n",
       "    <tr>\n",
       "      <th>global_lab_mean_3</th>\n",
       "      <td>0.158408</td>\n",
       "    </tr>\n",
       "    <tr>\n",
       "      <th>global_ycrbcb_std_2</th>\n",
       "      <td>0.153064</td>\n",
       "    </tr>\n",
       "    <tr>\n",
       "      <th>global_dist1_ang3_correlation</th>\n",
       "      <td>0.152958</td>\n",
       "    </tr>\n",
       "  </tbody>\n",
       "</table>\n",
       "</div>"
      ],
      "text/plain": [
       "                                      0\n",
       "global_ycrbcb_mean_2           1.000000\n",
       "global_lab_mean_2              0.946173\n",
       "global_rgb_skew_3              0.936037\n",
       "global_rgb_skew_2              0.777891\n",
       "global_hsv_ent_1               0.663542\n",
       "global_ycrbcb_skew_1           0.622432\n",
       "global_rad_3_lbp2              0.608066\n",
       "global_lab_skew_1              0.593528\n",
       "global_rad_3_lbp3              0.555418\n",
       "global_rad_3_lbp7              0.498559\n",
       "global_rad_3_lbp9              0.464515\n",
       "global_gabor2_kur              0.416292\n",
       "global_hsv_mean_2              0.398089\n",
       "global_lab_kur_3               0.393770\n",
       "global_rad_1_lbp4              0.377540\n",
       "global_lab_skew_3              0.366785\n",
       "global_hsv_skew_2              0.357892\n",
       "global_ycrbcb_kur_2            0.351105\n",
       "global_rad_3_lbp6              0.326443\n",
       "global_ycrbcb_kur_3            0.320367\n",
       "global_rad_1_lbp1              0.317138\n",
       "global_ycrbcb_skew_3           0.311973\n",
       "global_ycrbcb_ent_2            0.309313\n",
       "global_rad_1_lbp9              0.293010\n",
       "global_hsv_std_2               0.289816\n",
       "global_ycrbcb_skew_2           0.279117\n",
       "global_hsv_kur_2               0.270534\n",
       "global_rgb_std_3               0.262742\n",
       "global_dist2_ang0_correlation  0.248121\n",
       "global_rgb_std_1               0.244963\n",
       "global_lab_ent_2               0.243360\n",
       "global_rad_1_lbp5              0.243291\n",
       "global_rad_1_lbp3              0.241064\n",
       "global_rgb_kur_3               0.237134\n",
       "global_rad_3_lbp4              0.222125\n",
       "global_dist1_ang0_correlation  0.192283\n",
       "global_dist2_ang2_correlation  0.189638\n",
       "global_rad_3_lbp5              0.188871\n",
       "global_lab_std_2               0.187901\n",
       "global_rad_3_lbp0              0.183873\n",
       "global_ycrbcb_ent_3            0.178636\n",
       "global_dist2_ang1_correlation  0.175742\n",
       "global_dist1_ang1_correlation  0.174914\n",
       "global_hsv_std_3               0.167512\n",
       "global_rgb_mean_1              0.161929\n",
       "global_lab_kur_2               0.160930\n",
       "global_rad_1_lbp0              0.160168\n",
       "global_lab_mean_3              0.158408\n",
       "global_ycrbcb_std_2            0.153064\n",
       "global_dist1_ang3_correlation  0.152958"
      ]
     },
     "execution_count": 16,
     "metadata": {},
     "output_type": "execute_result"
    }
   ],
   "source": [
    "# Features importances\n",
    "feature_importances = grid_search.best_estimator_._final_estimator.feature_importances_\n",
    "cfe = FeaturesExtraction(levels=['global'])\n",
    "fimp_df = pd.DataFrame(data=[feature_importances], columns=cfe.features_names).transpose()\n",
    "# fimp_df\n",
    "fimp_df.sort_values(0,axis=0,inplace=True, ascending=False)\n",
    "normalized_df = (fimp_df-fimp_df.min())/(fimp_df.max()-fimp_df.min())\n",
    "normalized_df.head(50)"
   ]
  },
  {
   "cell_type": "code",
   "execution_count": null,
   "metadata": {},
   "outputs": [],
   "source": []
  }
 ],
 "metadata": {
  "kernelspec": {
   "display_name": "Python 3.9.13 ('cad2')",
   "language": "python",
   "name": "python3"
  },
  "language_info": {
   "codemirror_mode": {
    "name": "ipython",
    "version": 3
   },
   "file_extension": ".py",
   "mimetype": "text/x-python",
   "name": "python",
   "nbconvert_exporter": "python",
   "pygments_lexer": "ipython3",
   "version": "3.9.13"
  },
  "orig_nbformat": 4,
  "vscode": {
   "interpreter": {
    "hash": "a0c90d376db34231447b0a346bd9b020b335514f400822d22910f8af73bdac81"
   }
  }
 },
 "nbformat": 4,
 "nbformat_minor": 2
}
